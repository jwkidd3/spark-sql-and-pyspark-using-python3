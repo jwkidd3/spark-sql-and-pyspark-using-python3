{
 "cells": [
  {
   "cell_type": "markdown",
   "metadata": {},
   "source": [
    "## Ranking Functions\n",
    "\n",
    "We can use ranking functions to assign ranks to a particular record within a partition.\n",
    "\n",
    "* Sparse Rank - rank\n",
    "* Dense Rank - dense_rank\n",
    "* Assigning Row Numbers - row_number\n",
    "* Percentage Rank - percent_rank"
   ]
  },
  {
   "cell_type": "markdown",
   "metadata": {},
   "source": [
    "Let us start spark context for this Notebook so that we can execute the code provided. You can sign up for our [10 node state of the art cluster/labs](https://labs.spark.com/plans) to learn Spark SQL using our unique integrated LMS."
   ]
  },
  {
   "cell_type": "code",
   "execution_count": 1,
   "metadata": {},
   "outputs": [],
   "source": [
    "from pyspark.sql import SparkSession\n",
    "\n",
    "import getpass\n",
    "username = getpass.getuser()\n",
    "\n",
    "spark = SparkSession. \\\n",
    "    builder. \\\n",
    "    config('spark.ui.port', '0'). \\\n",
    "    config(\"spark.sql.warehouse.dir\", f\"/user/{username}/warehouse\"). \\\n",
    "    enableHiveSupport(). \\\n",
    "    appName(f'{username} | Python - Windowing Functions'). \\\n",
    "    master('yarn'). \\\n",
    "    getOrCreate()"
   ]
  },
  {
   "cell_type": "markdown",
   "metadata": {},
   "source": [
    "If you are going to use CLIs, you can use Spark SQL using one of the 3 approaches.\n",
    "\n",
    "**Using Spark SQL**\n",
    "\n",
    "```\n",
    "spark2-sql \\\n",
    "    --master yarn \\\n",
    "    --conf spark.ui.port=0 \\\n",
    "    --conf spark.sql.warehouse.dir=/user/${USER}/warehouse\n",
    "```\n",
    "\n",
    "**Using Scala**\n",
    "\n",
    "```\n",
    "spark2-shell \\\n",
    "    --master yarn \\\n",
    "    --conf spark.ui.port=0 \\\n",
    "    --conf spark.sql.warehouse.dir=/user/${USER}/warehouse\n",
    "```\n",
    "\n",
    "**Using Pyspark**\n",
    "\n",
    "```\n",
    "pyspark2 \\\n",
    "    --master yarn \\\n",
    "    --conf spark.ui.port=0 \\\n",
    "    --conf spark.sql.warehouse.dir=/user/${USER}/warehouse\n",
    "```"
   ]
  },
  {
   "cell_type": "code",
   "execution_count": 2,
   "metadata": {},
   "outputs": [],
   "source": [
    "spark.conf.set('spark.sql.shuffle.partitions', '2')"
   ]
  },
  {
   "cell_type": "markdown",
   "metadata": {},
   "source": [
    "* Let us assign ranks based up on departure delay from each of the airport."
   ]
  },
  {
   "cell_type": "code",
   "execution_count": 3,
   "metadata": {},
   "outputs": [],
   "source": [
    "airtraffic_path = \"/public/airtraffic_all/airtraffic-part/flightmonth=200801\""
   ]
  },
  {
   "cell_type": "code",
   "execution_count": 4,
   "metadata": {},
   "outputs": [],
   "source": [
    "airtraffic = spark. \\\n",
    "    read. \\\n",
    "    parquet(airtraffic_path)"
   ]
  },
  {
   "cell_type": "code",
   "execution_count": 5,
   "metadata": {},
   "outputs": [],
   "source": [
    "from pyspark.sql.functions import col, lit, lpad, concat\n",
    "from pyspark.sql.functions import rank, dense_rank\n",
    "from pyspark.sql.functions import percent_rank, row_number, round\n",
    "from pyspark.sql.window import Window"
   ]
  },
  {
   "cell_type": "code",
   "execution_count": 6,
   "metadata": {},
   "outputs": [],
   "source": [
    "spec = Window. \\\n",
    "    partitionBy(\"FlightDate\", \"Origin\"). \\\n",
    "    orderBy(col(\"DepDelay\").desc())"
   ]
  },
  {
   "cell_type": "code",
   "execution_count": 7,
   "metadata": {},
   "outputs": [
    {
     "name": "stdout",
     "output_type": "stream",
     "text": [
      "+----------+------+-------------+---------+----------+------------+--------+-----+-----+-----+---+\n",
      "|FlightDate|Origin|UniqueCarrier|FlightNum|CRSDepTime|IsDepDelayed|DepDelay|srank|drank|prank| rn|\n",
      "+----------+------+-------------+---------+----------+------------+--------+-----+-----+-----+---+\n",
      "|  20080101|   ABE|           YV|     7138|      1741|         YES|     175|    1|    1|  0.0|  1|\n",
      "|  20080101|   ABE|           YV|     7263|      1230|         YES|     137|    2|    2| 0.14|  2|\n",
      "|  20080101|   ABE|           9E|     2940|      1215|         YES|      70|    3|    3| 0.29|  3|\n",
      "|  20080101|   ABE|           9E|     2936|      1615|         YES|      34|    4|    4| 0.43|  4|\n",
      "|  20080101|   ABE|           XE|     2594|      1740|         YES|      34|    4|    4| 0.43|  5|\n",
      "|  20080101|   ABE|           XE|     2578|      1410|         YES|      22|    6|    5| 0.71|  6|\n",
      "|  20080101|   ABE|           OH|     5457|      1720|         YES|      14|    7|    6| 0.86|  7|\n",
      "|  20080101|   ABE|           OO|     5873|       720|         YES|       1|    8|    7|  1.0|  8|\n",
      "|  20080101|   ABI|           MQ|     3214|      1735|         YES|       3|    1|    1|  0.0|  1|\n",
      "|  20080101|   ABQ|           WN|      823|      2045|         YES|     218|    1|    1|  0.0|  1|\n",
      "|  20080101|   ABQ|           WN|      357|      1525|         YES|     171|    2|    2| 0.02|  2|\n",
      "|  20080101|   ABQ|           AA|     1814|       925|         YES|     100|    3|    3| 0.04|  3|\n",
      "|  20080101|   ABQ|           WN|     1178|      1845|         YES|      94|    4|    4| 0.06|  4|\n",
      "|  20080101|   ABQ|           WN|     2497|      1825|         YES|      93|    5|    5| 0.09|  5|\n",
      "|  20080101|   ABQ|           WN|     3481|      1500|         YES|      78|    6|    6| 0.11|  6|\n",
      "|  20080101|   ABQ|           WN|     1328|      1245|         YES|      78|    6|    6| 0.11|  7|\n",
      "|  20080101|   ABQ|           XE|      221|      1850|         YES|      68|    8|    7| 0.15|  8|\n",
      "|  20080101|   ABQ|           DL|     1601|       740|         YES|      65|    9|    8| 0.17|  9|\n",
      "|  20080101|   ABQ|           WN|       45|      1435|         YES|      64|   10|    9| 0.19| 10|\n",
      "|  20080101|   ABQ|           WN|     2788|      1755|         YES|      53|   11|   10| 0.21| 11|\n",
      "+----------+------+-------------+---------+----------+------------+--------+-----+-----+-----+---+\n",
      "only showing top 20 rows\n",
      "\n"
     ]
    }
   ],
   "source": [
    "airtraffic. \\\n",
    "    filter(\"IsDepDelayed = 'YES' and Cancelled = 0\"). \\\n",
    "    select(concat(\"Year\", \n",
    "                  lpad(\"Month\", 2, \"0\"), \n",
    "                  lpad(\"DayOfMonth\", 2, \"0\")\n",
    "                 ).alias(\"FlightDate\"),\n",
    "           \"Origin\",\n",
    "           \"UniqueCarrier\",\n",
    "           \"FlightNum\",\n",
    "           \"CRSDepTime\",\n",
    "           \"IsDepDelayed\",\n",
    "           col(\"DepDelay\").cast(\"int\").alias(\"DepDelay\")\n",
    "          ). \\\n",
    "    withColumn(\"srank\", rank().over(spec)). \\\n",
    "    withColumn(\"drank\", dense_rank().over(spec)). \\\n",
    "    withColumn(\"prank\", round(percent_rank().over(spec), 2)). \\\n",
    "    withColumn(\"rn\", row_number().over(spec)). \\\n",
    "    orderBy(\"FlightDate\", \"Origin\", col(\"DepDelay\").desc()). \\\n",
    "    show()"
   ]
  },
  {
   "cell_type": "markdown",
   "metadata": {},
   "source": [
    "* Let us assign ranks to each employee with in their respective department based up on their salary."
   ]
  },
  {
   "cell_type": "code",
   "execution_count": 8,
   "metadata": {},
   "outputs": [],
   "source": [
    "employeesPath = '/public/hr_db/employees'"
   ]
  },
  {
   "cell_type": "code",
   "execution_count": 9,
   "metadata": {},
   "outputs": [],
   "source": [
    "employees = spark. \\\n",
    "    read. \\\n",
    "    format('csv'). \\\n",
    "    option('sep', '\\t'). \\\n",
    "    schema('''employee_id INT, \n",
    "              first_name STRING, \n",
    "              last_name STRING, \n",
    "              email STRING,\n",
    "              phone_number STRING, \n",
    "              hire_date STRING, \n",
    "              job_id STRING, \n",
    "              salary FLOAT,\n",
    "              commission_pct STRING,\n",
    "              manager_id STRING, \n",
    "              department_id STRING\n",
    "            '''). \\\n",
    "    load(employeesPath)"
   ]
  },
  {
   "cell_type": "code",
   "execution_count": 10,
   "metadata": {},
   "outputs": [
    {
     "name": "stdout",
     "output_type": "stream",
     "text": [
      "+-----------+-------------+-------+\n",
      "|employee_id|department_id| salary|\n",
      "+-----------+-------------+-------+\n",
      "|        178|         null| 7000.0|\n",
      "|        200|           10| 4400.0|\n",
      "|        202|           20| 6000.0|\n",
      "|        201|           20|13000.0|\n",
      "|        119|           30| 2500.0|\n",
      "|        118|           30| 2600.0|\n",
      "|        117|           30| 2800.0|\n",
      "|        116|           30| 2900.0|\n",
      "|        115|           30| 3100.0|\n",
      "|        114|           30|11000.0|\n",
      "|        203|           40| 6500.0|\n",
      "|        132|           50| 2100.0|\n",
      "|        128|           50| 2200.0|\n",
      "|        136|           50| 2200.0|\n",
      "|        135|           50| 2400.0|\n",
      "|        127|           50| 2400.0|\n",
      "|        131|           50| 2500.0|\n",
      "|        140|           50| 2500.0|\n",
      "|        191|           50| 2500.0|\n",
      "|        144|           50| 2500.0|\n",
      "+-----------+-------------+-------+\n",
      "only showing top 20 rows\n",
      "\n"
     ]
    }
   ],
   "source": [
    "employees. \\\n",
    "    select('employee_id', \n",
    "           col('department_id').cast('int').alias('department_id'), \n",
    "           'salary'\n",
    "          ). \\\n",
    "    orderBy('department_id', 'salary'). \\\n",
    "    show()"
   ]
  },
  {
   "cell_type": "code",
   "execution_count": 11,
   "metadata": {},
   "outputs": [],
   "source": [
    "spec = Window. \\\n",
    "    partitionBy('department_id'). \\\n",
    "    orderBy(col('salary').desc())"
   ]
  },
  {
   "cell_type": "code",
   "execution_count": 12,
   "metadata": {},
   "outputs": [
    {
     "name": "stdout",
     "output_type": "stream",
     "text": [
      "+-----------+-------------+-------+-----+-----+-----+---+\n",
      "|employee_id|department_id| salary|srank|drank|prank| rn|\n",
      "+-----------+-------------+-------+-----+-----+-----+---+\n",
      "|        178|         null| 7000.0|    1|    1|  0.0|  1|\n",
      "|        200|           10| 4400.0|    1|    1|  0.0|  1|\n",
      "|        201|           20|13000.0|    1|    1|  0.0|  1|\n",
      "|        202|           20| 6000.0|    2|    2|  1.0|  2|\n",
      "|        114|           30|11000.0|    1|    1|  0.0|  1|\n",
      "|        115|           30| 3100.0|    2|    2|  0.2|  2|\n",
      "|        116|           30| 2900.0|    3|    3|  0.4|  3|\n",
      "|        117|           30| 2800.0|    4|    4|  0.6|  4|\n",
      "|        118|           30| 2600.0|    5|    5|  0.8|  5|\n",
      "|        119|           30| 2500.0|    6|    6|  1.0|  6|\n",
      "|        203|           40| 6500.0|    1|    1|  0.0|  1|\n",
      "|        121|           50| 8200.0|    1|    1|  0.0|  1|\n",
      "|        120|           50| 8000.0|    2|    2| 0.02|  2|\n",
      "|        122|           50| 7900.0|    3|    3| 0.05|  3|\n",
      "|        123|           50| 6500.0|    4|    4| 0.07|  4|\n",
      "|        124|           50| 5800.0|    5|    5| 0.09|  5|\n",
      "|        184|           50| 4200.0|    6|    6| 0.11|  6|\n",
      "|        185|           50| 4100.0|    7|    7| 0.14|  7|\n",
      "|        192|           50| 4000.0|    8|    8| 0.16|  8|\n",
      "|        193|           50| 3900.0|    9|    9| 0.18|  9|\n",
      "|        188|           50| 3800.0|   10|   10|  0.2| 10|\n",
      "|        189|           50| 3600.0|   11|   11| 0.23| 12|\n",
      "|        137|           50| 3600.0|   11|   11| 0.23| 11|\n",
      "|        141|           50| 3500.0|   13|   12| 0.27| 13|\n",
      "|        186|           50| 3400.0|   14|   13|  0.3| 14|\n",
      "|        133|           50| 3300.0|   15|   14| 0.32| 16|\n",
      "|        129|           50| 3300.0|   15|   14| 0.32| 15|\n",
      "|        138|           50| 3200.0|   17|   15| 0.36| 17|\n",
      "|        125|           50| 3200.0|   17|   15| 0.36| 18|\n",
      "|        180|           50| 3200.0|   17|   15| 0.36| 19|\n",
      "|        194|           50| 3200.0|   17|   15| 0.36| 20|\n",
      "|        196|           50| 3100.0|   21|   16| 0.45| 23|\n",
      "|        142|           50| 3100.0|   21|   16| 0.45| 21|\n",
      "|        181|           50| 3100.0|   21|   16| 0.45| 22|\n",
      "|        197|           50| 3000.0|   24|   17| 0.52| 25|\n",
      "|        187|           50| 3000.0|   24|   17| 0.52| 24|\n",
      "|        134|           50| 2900.0|   26|   18| 0.57| 26|\n",
      "|        190|           50| 2900.0|   26|   18| 0.57| 27|\n",
      "|        130|           50| 2800.0|   28|   19| 0.61| 28|\n",
      "|        195|           50| 2800.0|   28|   19| 0.61| 30|\n",
      "|        183|           50| 2800.0|   28|   19| 0.61| 29|\n",
      "|        126|           50| 2700.0|   31|   20| 0.68| 32|\n",
      "|        139|           50| 2700.0|   31|   20| 0.68| 31|\n",
      "|        198|           50| 2600.0|   33|   21| 0.73| 34|\n",
      "|        143|           50| 2600.0|   33|   21| 0.73| 33|\n",
      "|        199|           50| 2600.0|   33|   21| 0.73| 35|\n",
      "|        144|           50| 2500.0|   36|   22|  0.8| 38|\n",
      "|        182|           50| 2500.0|   36|   22|  0.8| 39|\n",
      "|        191|           50| 2500.0|   36|   22|  0.8| 40|\n",
      "|        140|           50| 2500.0|   36|   22|  0.8| 37|\n",
      "|        131|           50| 2500.0|   36|   22|  0.8| 36|\n",
      "|        127|           50| 2400.0|   41|   23| 0.91| 41|\n",
      "|        135|           50| 2400.0|   41|   23| 0.91| 42|\n",
      "|        128|           50| 2200.0|   43|   24| 0.95| 43|\n",
      "|        136|           50| 2200.0|   43|   24| 0.95| 44|\n",
      "|        132|           50| 2100.0|   45|   25|  1.0| 45|\n",
      "|        103|           60| 9000.0|    1|    1|  0.0|  1|\n",
      "|        104|           60| 6000.0|    2|    2| 0.25|  2|\n",
      "|        105|           60| 4800.0|    3|    3|  0.5|  3|\n",
      "|        106|           60| 4800.0|    3|    3|  0.5|  4|\n",
      "|        107|           60| 4200.0|    5|    4|  1.0|  5|\n",
      "|        204|           70|10000.0|    1|    1|  0.0|  1|\n",
      "|        145|           80|14000.0|    1|    1|  0.0|  1|\n",
      "|        146|           80|13500.0|    2|    2| 0.03|  2|\n",
      "|        147|           80|12000.0|    3|    3| 0.06|  3|\n",
      "|        168|           80|11500.0|    4|    4| 0.09|  4|\n",
      "|        148|           80|11000.0|    5|    5| 0.12|  5|\n",
      "|        174|           80|11000.0|    5|    5| 0.12|  6|\n",
      "|        162|           80|10500.0|    7|    6| 0.18|  8|\n",
      "|        149|           80|10500.0|    7|    6| 0.18|  7|\n",
      "|        169|           80|10000.0|    9|    7| 0.24| 11|\n",
      "|        156|           80|10000.0|    9|    7| 0.24| 10|\n",
      "|        150|           80|10000.0|    9|    7| 0.24|  9|\n",
      "|        170|           80| 9600.0|   12|    8| 0.33| 12|\n",
      "|        163|           80| 9500.0|   13|    9| 0.36| 15|\n",
      "|        157|           80| 9500.0|   13|    9| 0.36| 14|\n",
      "|        151|           80| 9500.0|   13|    9| 0.36| 13|\n",
      "|        158|           80| 9000.0|   16|   10| 0.45| 17|\n",
      "|        152|           80| 9000.0|   16|   10| 0.45| 16|\n",
      "|        175|           80| 8800.0|   18|   11| 0.52| 18|\n",
      "|        176|           80| 8600.0|   19|   12| 0.55| 19|\n",
      "|        177|           80| 8400.0|   20|   13| 0.58| 20|\n",
      "|        159|           80| 8000.0|   21|   14| 0.61| 22|\n",
      "|        153|           80| 8000.0|   21|   14| 0.61| 21|\n",
      "|        160|           80| 7500.0|   23|   15| 0.67| 24|\n",
      "|        154|           80| 7500.0|   23|   15| 0.67| 23|\n",
      "|        171|           80| 7400.0|   25|   16| 0.73| 25|\n",
      "|        172|           80| 7300.0|   26|   17| 0.76| 26|\n",
      "|        164|           80| 7200.0|   27|   18| 0.79| 27|\n",
      "|        155|           80| 7000.0|   28|   19| 0.82| 28|\n",
      "|        161|           80| 7000.0|   28|   19| 0.82| 29|\n",
      "|        165|           80| 6800.0|   30|   20| 0.88| 30|\n",
      "|        166|           80| 6400.0|   31|   21| 0.91| 31|\n",
      "|        167|           80| 6200.0|   32|   22| 0.94| 32|\n",
      "|        179|           80| 6200.0|   32|   22| 0.94| 33|\n",
      "|        173|           80| 6100.0|   34|   23|  1.0| 34|\n",
      "|        100|           90|24000.0|    1|    1|  0.0|  1|\n",
      "|        101|           90|17000.0|    2|    2|  0.5|  2|\n",
      "|        102|           90|17000.0|    2|    2|  0.5|  3|\n",
      "|        108|          100|12000.0|    1|    1|  0.0|  1|\n",
      "|        109|          100| 9000.0|    2|    2|  0.2|  2|\n",
      "|        110|          100| 8200.0|    3|    3|  0.4|  3|\n",
      "|        112|          100| 7800.0|    4|    4|  0.6|  4|\n",
      "|        111|          100| 7700.0|    5|    5|  0.8|  5|\n",
      "|        113|          100| 6900.0|    6|    6|  1.0|  6|\n",
      "|        205|          110|12000.0|    1|    1|  0.0|  1|\n",
      "|        206|          110| 8300.0|    2|    2|  1.0|  2|\n",
      "+-----------+-------------+-------+-----+-----+-----+---+\n",
      "\n"
     ]
    }
   ],
   "source": [
    "employees. \\\n",
    "    select('employee_id', \n",
    "           col('department_id').cast('int').alias('department_id'), \n",
    "           'salary'\n",
    "          ). \\\n",
    "    withColumn(\"srank\", rank().over(spec)). \\\n",
    "    withColumn(\"drank\", dense_rank().over(spec)). \\\n",
    "    withColumn(\"prank\", round(percent_rank().over(spec), 2)). \\\n",
    "    withColumn(\"rn\", row_number().over(spec)). \\\n",
    "    orderBy(\"department_id\", col(\"salary\").desc()). \\\n",
    "    show(107)"
   ]
  },
  {
   "cell_type": "code",
   "execution_count": null,
   "metadata": {},
   "outputs": [],
   "source": []
  }
 ],
 "metadata": {
  "kernelspec": {
   "display_name": "Python 3 (ipykernel)",
   "language": "python",
   "name": "python3"
  },
  "language_info": {
   "codemirror_mode": {
    "name": "ipython",
    "version": 3
   },
   "file_extension": ".py",
   "mimetype": "text/x-python",
   "name": "python",
   "nbconvert_exporter": "python",
   "pygments_lexer": "ipython3",
   "version": "3.7.12"
  }
 },
 "nbformat": 4,
 "nbformat_minor": 4
}
