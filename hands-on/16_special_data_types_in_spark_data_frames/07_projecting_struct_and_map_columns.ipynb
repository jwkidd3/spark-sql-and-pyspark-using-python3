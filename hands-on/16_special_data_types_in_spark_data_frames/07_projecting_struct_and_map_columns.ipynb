{
 "cells": [
  {
   "cell_type": "markdown",
   "metadata": {},
   "source": [
    "## Projecting Struct and Map Columns\n",
    "\n",
    "As part of this topic we will see how to project `STRUCT` and `MAP`.\n",
    "\n",
    "* Create list with appropriate types.\n",
    "* Create Data Frame using list and define schema with relevant types.\n",
    "* We will print schema as well as preview the data.\n",
    "* We will then project the fields in structs and maps"
   ]
  },
  {
   "cell_type": "markdown",
   "metadata": {},
   "source": [
    "Let us start spark context for this Notebook so that we can execute the code provided. You can sign up for our [10 node state of the art cluster/labs](https://labs.spark.com/plans) to learn Spark SQL using our unique integrated LMS."
   ]
  },
  {
   "cell_type": "code",
   "execution_count": 1,
   "metadata": {},
   "outputs": [],
   "source": [
    "from pyspark.sql import SparkSession\n",
    "\n",
    "import getpass\n",
    "username = getpass.getuser()\n",
    "\n",
    "spark = SparkSession. \\\n",
    "    builder. \\\n",
    "    config('spark.ui.port', '0'). \\\n",
    "    config(\"spark.sql.warehouse.dir\", f\"/user/{username}/warehouse\"). \\\n",
    "    enableHiveSupport(). \\\n",
    "    appName(f'{username} | Python - Special Data Types'). \\\n",
    "    master('yarn'). \\\n",
    "    getOrCreate()"
   ]
  },
  {
   "cell_type": "markdown",
   "metadata": {},
   "source": [
    "If you are going to use CLIs, you can use Spark SQL using one of the 3 approaches.\n",
    "\n",
    "**Using Spark SQL**\n",
    "\n",
    "```\n",
    "spark2-sql \\\n",
    "    --master yarn \\\n",
    "    --conf spark.ui.port=0 \\\n",
    "    --conf spark.sql.warehouse.dir=/user/${USER}/warehouse\n",
    "```\n",
    "\n",
    "**Using Scala**\n",
    "\n",
    "```\n",
    "spark2-shell \\\n",
    "    --master yarn \\\n",
    "    --conf spark.ui.port=0 \\\n",
    "    --conf spark.sql.warehouse.dir=/user/${USER}/warehouse\n",
    "```\n",
    "\n",
    "**Using Pyspark**\n",
    "\n",
    "```\n",
    "pyspark2 \\\n",
    "    --master yarn \\\n",
    "    --conf spark.ui.port=0 \\\n",
    "    --conf spark.sql.warehouse.dir=/user/${USER}/warehouse\n",
    "```"
   ]
  },
  {
   "cell_type": "code",
   "execution_count": 3,
   "metadata": {},
   "outputs": [],
   "source": [
    "employees = [\n",
    "     (2, \"Henry\", \"Ford\", 1250.0, \n",
    "      \"India\", ['henry@ford.com', 'hford@companyx.com'], \n",
    "      {\"Home\": \"+91 234 567 8901\", \"Office\": \"+91 345 678 9012\"}, \n",
    "      \"456 78 9123\", ('111 BCD Cir', 'Some City', 'Some State', 500091)\n",
    "     ),\n",
    "     (3, \"Nick\", \"Junior\", 750.0, \n",
    "      \"United Kingdom\", ['nick@junior.com', 'njunior@companyx.com'], \n",
    "      {\"Home\": \"+44 111 111 1111\", \"Office\": \"+44 222 222 2222\"}, \n",
    "      \"222 33 4444\", ('222 Giant Cly', 'UK City', 'UK Province', None)\n",
    "     ),\n",
    "     (4, \"Bill\", \"Gomes\", 1500.0, \n",
    "      \"Australia\", ['bill@gomes.com', 'bgomes@companyx.com'], \n",
    "      {\"Home\": \"+61 987 654 3210\", \"Office\": \"+61 876 543 2109\"}, \n",
    "      \"789 12 6118\", None\n",
    "     )\n",
    "]"
   ]
  },
  {
   "cell_type": "code",
   "execution_count": 4,
   "metadata": {},
   "outputs": [],
   "source": [
    "employees_df = spark.createDataFrame(\n",
    "    employees,\n",
    "    schema=\"\"\"employee_id INT, employee_first_name STRING, employee_last_name STRING,\n",
    "        employee_salary FLOAT, employee_nationality STRING, employee_email_ids ARRAY<STRING>,\n",
    "        employee_phone_numbers MAP<STRING, STRING>, employee_ssn STRING,\n",
    "        employee_address STRUCT<street: STRING, city: STRING, state: STRING, postal_code: INT>\n",
    "    \"\"\"\n",
    ")"
   ]
  },
  {
   "cell_type": "code",
   "execution_count": 5,
   "metadata": {},
   "outputs": [
    {
     "name": "stdout",
     "output_type": "stream",
     "text": [
      "root\n",
      " |-- employee_id: integer (nullable = true)\n",
      " |-- employee_first_name: string (nullable = true)\n",
      " |-- employee_last_name: string (nullable = true)\n",
      " |-- employee_salary: float (nullable = true)\n",
      " |-- employee_nationality: string (nullable = true)\n",
      " |-- employee_email_ids: array (nullable = true)\n",
      " |    |-- element: string (containsNull = true)\n",
      " |-- employee_phone_numbers: map (nullable = true)\n",
      " |    |-- key: string\n",
      " |    |-- value: string (valueContainsNull = true)\n",
      " |-- employee_ssn: string (nullable = true)\n",
      " |-- employee_address: struct (nullable = true)\n",
      " |    |-- street: string (nullable = true)\n",
      " |    |-- city: string (nullable = true)\n",
      " |    |-- state: string (nullable = true)\n",
      " |    |-- postal_code: integer (nullable = true)\n",
      "\n"
     ]
    }
   ],
   "source": [
    "employees_df.printSchema()"
   ]
  },
  {
   "cell_type": "code",
   "execution_count": 6,
   "metadata": {},
   "outputs": [
    {
     "name": "stdout",
     "output_type": "stream",
     "text": [
      "+-----------+-------------------+------------------+---------------+--------------------+---------------------------------------+------------------------------------------------------+------------+--------------------------------------------+\n",
      "|employee_id|employee_first_name|employee_last_name|employee_salary|employee_nationality|employee_email_ids                     |employee_phone_numbers                                |employee_ssn|employee_address                            |\n",
      "+-----------+-------------------+------------------+---------------+--------------------+---------------------------------------+------------------------------------------------------+------------+--------------------------------------------+\n",
      "|2          |Henry              |Ford              |1250.0         |India               |[henry@ford.com, hford@companyx.com]   |[Office -> +91 345 678 9012, Home -> +91 234 567 8901]|456 78 9123 |[111 BCD Cir, Some City, Some State, 500091]|\n",
      "|3          |Nick               |Junior            |750.0          |United Kingdom      |[nick@junior.com, njunior@companyx.com]|[Office -> +44 222 222 2222, Home -> +44 111 111 1111]|222 33 4444 |[222 Giant Cly, UK City, UK Province,]      |\n",
      "|4          |Bill               |Gomes             |1500.0         |Australia           |[bill@gomes.com, bgomes@companyx.com]  |[Office -> +61 876 543 2109, Home -> +61 987 654 3210]|789 12 6118 |null                                        |\n",
      "+-----------+-------------------+------------------+---------------+--------------------+---------------------------------------+------------------------------------------------------+------------+--------------------------------------------+\n",
      "\n"
     ]
    }
   ],
   "source": [
    "employees_df.show(truncate=False)"
   ]
  },
  {
   "cell_type": "code",
   "execution_count": 8,
   "metadata": {},
   "outputs": [
    {
     "name": "stdout",
     "output_type": "stream",
     "text": [
      "+----------------------+\n",
      "|employee_phone_numbers|\n",
      "+----------------------+\n",
      "|  [Office -> +91 34...|\n",
      "|  [Office -> +44 22...|\n",
      "|  [Office -> +61 87...|\n",
      "+----------------------+\n",
      "\n"
     ]
    }
   ],
   "source": [
    "employees_df.select('employee_phone_numbers').show()"
   ]
  },
  {
   "cell_type": "code",
   "execution_count": 11,
   "metadata": {},
   "outputs": [
    {
     "name": "stdout",
     "output_type": "stream",
     "text": [
      "+----------------+----------------+\n",
      "|          Office|            Home|\n",
      "+----------------+----------------+\n",
      "|+91 345 678 9012|+91 234 567 8901|\n",
      "|+44 222 222 2222|+44 111 111 1111|\n",
      "|+61 876 543 2109|+61 987 654 3210|\n",
      "+----------------+----------------+\n",
      "\n"
     ]
    }
   ],
   "source": [
    "employees_df.select('employee_phone_numbers.Office', 'employee_phone_numbers.Home').show()"
   ]
  },
  {
   "cell_type": "code",
   "execution_count": 19,
   "metadata": {},
   "outputs": [],
   "source": [
    "from pyspark.sql.functions import map_keys, map_values"
   ]
  },
  {
   "cell_type": "code",
   "execution_count": 26,
   "metadata": {},
   "outputs": [
    {
     "name": "stdout",
     "output_type": "stream",
     "text": [
      "+-----------+---------------------------+\n",
      "|employee_id|employee_phone_numbers_keys|\n",
      "+-----------+---------------------------+\n",
      "|          2|             [Office, Home]|\n",
      "|          3|             [Office, Home]|\n",
      "|          4|             [Office, Home]|\n",
      "+-----------+---------------------------+\n",
      "\n"
     ]
    }
   ],
   "source": [
    "employees_df.select('employee_id', map_keys('employee_phone_numbers').alias('employee_phone_numbers_keys')).show()"
   ]
  },
  {
   "cell_type": "code",
   "execution_count": 25,
   "metadata": {},
   "outputs": [
    {
     "name": "stdout",
     "output_type": "stream",
     "text": [
      "+-----------+-----------------------------+\n",
      "|employee_id|employee_phone_numbers_values|\n",
      "+-----------+-----------------------------+\n",
      "|          2|         [+91 345 678 9012...|\n",
      "|          3|         [+44 222 222 2222...|\n",
      "|          4|         [+61 876 543 2109...|\n",
      "+-----------+-----------------------------+\n",
      "\n"
     ]
    }
   ],
   "source": [
    "employees_df.select('employee_id', map_values('employee_phone_numbers').alias('employee_phone_numbers_values')).show()"
   ]
  },
  {
   "cell_type": "code",
   "execution_count": 22,
   "metadata": {},
   "outputs": [],
   "source": [
    "from pyspark.sql.functions import explode"
   ]
  },
  {
   "cell_type": "code",
   "execution_count": 24,
   "metadata": {},
   "outputs": [
    {
     "name": "stdout",
     "output_type": "stream",
     "text": [
      "+-----------+---------------------+\n",
      "|employee_id|employee_phone_number|\n",
      "+-----------+---------------------+\n",
      "|          2|     +91 345 678 9012|\n",
      "|          2|     +91 234 567 8901|\n",
      "|          3|     +44 222 222 2222|\n",
      "|          3|     +44 111 111 1111|\n",
      "|          4|     +61 876 543 2109|\n",
      "|          4|     +61 987 654 3210|\n",
      "+-----------+---------------------+\n",
      "\n"
     ]
    }
   ],
   "source": [
    "employees_df.select('employee_id', explode(map_values('employee_phone_numbers')).alias('employee_phone_number')).show()"
   ]
  },
  {
   "cell_type": "code",
   "execution_count": 12,
   "metadata": {},
   "outputs": [
    {
     "name": "stdout",
     "output_type": "stream",
     "text": [
      "root\n",
      " |-- employee_address: struct (nullable = true)\n",
      " |    |-- street: string (nullable = true)\n",
      " |    |-- city: string (nullable = true)\n",
      " |    |-- state: string (nullable = true)\n",
      " |    |-- postal_code: integer (nullable = true)\n",
      "\n"
     ]
    }
   ],
   "source": [
    "employees_df.select('employee_address').printSchema()"
   ]
  },
  {
   "cell_type": "code",
   "execution_count": 13,
   "metadata": {},
   "outputs": [
    {
     "name": "stdout",
     "output_type": "stream",
     "text": [
      "root\n",
      " |-- street: string (nullable = true)\n",
      " |-- city: string (nullable = true)\n",
      " |-- state: string (nullable = true)\n",
      " |-- postal_code: integer (nullable = true)\n",
      "\n"
     ]
    }
   ],
   "source": [
    "employees_df.select('employee_address.*').printSchema()"
   ]
  },
  {
   "cell_type": "code",
   "execution_count": 14,
   "metadata": {},
   "outputs": [
    {
     "name": "stdout",
     "output_type": "stream",
     "text": [
      "+-------------+---------+-----------+-----------+\n",
      "|       street|     city|      state|postal_code|\n",
      "+-------------+---------+-----------+-----------+\n",
      "|  111 BCD Cir|Some City| Some State|     500091|\n",
      "|222 Giant Cly|  UK City|UK Province|       null|\n",
      "|         null|     null|       null|       null|\n",
      "+-------------+---------+-----------+-----------+\n",
      "\n"
     ]
    }
   ],
   "source": [
    "employees_df.select('employee_address.*').show()"
   ]
  }
 ],
 "metadata": {
  "kernelspec": {
   "display_name": "Pyspark 2",
   "language": "python",
   "name": "pyspark2"
  },
  "language_info": {
   "codemirror_mode": {
    "name": "ipython",
    "version": 3
   },
   "file_extension": ".py",
   "mimetype": "text/x-python",
   "name": "python",
   "nbconvert_exporter": "python",
   "pygments_lexer": "ipython3",
   "version": "3.6.12"
  }
 },
 "nbformat": 4,
 "nbformat_minor": 4
}
