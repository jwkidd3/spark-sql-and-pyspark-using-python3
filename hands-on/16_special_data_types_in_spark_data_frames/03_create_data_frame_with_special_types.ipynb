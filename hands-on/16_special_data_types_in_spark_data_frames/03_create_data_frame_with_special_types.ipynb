{
 "cells": [
  {
   "cell_type": "markdown",
   "metadata": {},
   "source": [
    "## Create Data Frame with Special Types\n",
    "As part of this topic we will create Data Frame with special types such as `ARRAY`, `STRUCT` and `MAP`.\n",
    "\n",
    "* Create list with appropriate types.\n",
    "* Create Data Frame using list and define schema with relevant types.\n",
    "* We will print schema as well as preview the data.\n",
    "* We will also see how we can insert data in the data frame with special types into the Metastore table."
   ]
  },
  {
   "cell_type": "markdown",
   "metadata": {},
   "source": [
    "Let us start spark context for this Notebook so that we can execute the code provided. You can sign up for our [10 node state of the art cluster/labs](https://labs.spark.com/plans) to learn Spark SQL using our unique integrated LMS."
   ]
  },
  {
   "cell_type": "code",
   "execution_count": null,
   "metadata": {},
   "outputs": [],
   "source": [
    "from pyspark.sql import SparkSession\n",
    "\n",
    "import getpass\n",
    "username = getpass.getuser()\n",
    "\n",
    "spark = SparkSession. \\\n",
    "    builder. \\\n",
    "    config('spark.ui.port', '0'). \\\n",
    "    config(\"spark.sql.warehouse.dir\", f\"/user/{username}/warehouse\"). \\\n",
    "    enableHiveSupport(). \\\n",
    "    appName(f'{username} | Python - Special Data Types'). \\\n",
    "    master('yarn'). \\\n",
    "    getOrCreate()"
   ]
  },
  {
   "cell_type": "markdown",
   "metadata": {},
   "source": [
    "If you are going to use CLIs, you can use Spark SQL using one of the 3 approaches.\n",
    "\n",
    "**Using Spark SQL**\n",
    "\n",
    "```\n",
    "spark2-sql \\\n",
    "    --master yarn \\\n",
    "    --conf spark.ui.port=0 \\\n",
    "    --conf spark.sql.warehouse.dir=/user/${USER}/warehouse\n",
    "```\n",
    "\n",
    "**Using Scala**\n",
    "\n",
    "```\n",
    "spark2-shell \\\n",
    "    --master yarn \\\n",
    "    --conf spark.ui.port=0 \\\n",
    "    --conf spark.sql.warehouse.dir=/user/${USER}/warehouse\n",
    "```\n",
    "\n",
    "**Using Pyspark**\n",
    "\n",
    "```\n",
    "pyspark2 \\\n",
    "    --master yarn \\\n",
    "    --conf spark.ui.port=0 \\\n",
    "    --conf spark.sql.warehouse.dir=/user/${USER}/warehouse\n",
    "```"
   ]
  },
  {
   "cell_type": "code",
   "execution_count": null,
   "metadata": {},
   "outputs": [],
   "source": [
    "spark.sql(f'USE {username}_demo')"
   ]
  },
  {
   "cell_type": "code",
   "execution_count": null,
   "metadata": {},
   "outputs": [],
   "source": [
    "employees = [\n",
    "     (2, \"Henry\", \"Ford\", 1250.0, \n",
    "      \"India\", ['henry@ford.com', 'hford@companyx.com'], \n",
    "      {\"Home\": \"+91 234 567 8901\", \"Office\": \"+91 345 678 9012\"}, \n",
    "      \"456 78 9123\", ('111 BCD Cir', 'Some City', 'Some State', 500091)\n",
    "     ),\n",
    "     (3, \"Nick\", \"Junior\", 750.0, \n",
    "      \"United Kingdom\", ['nick@junior.com', 'njunior@companyx.com'], \n",
    "      {\"Home\": \"+44 111 111 1111\", \"Office\": \"+44 222 222 2222\"}, \n",
    "      \"222 33 4444\", ('222 Giant Cly', 'UK City', 'UK Province', None)\n",
    "     ),\n",
    "     (4, \"Bill\", \"Gomes\", 1500.0, \n",
    "      \"Australia\", ['bill@gomes.com', 'bgomes@companyx.com'], \n",
    "      {\"Home\": \"+61 987 654 3210\", \"Office\": \"+61 876 543 2109\"}, \n",
    "      \"789 12 6118\", None\n",
    "     )\n",
    "]"
   ]
  },
  {
   "cell_type": "code",
   "execution_count": null,
   "metadata": {},
   "outputs": [],
   "source": [
    "employees_df = spark.createDataFrame(\n",
    "    employees,\n",
    "    schema=\"\"\"employee_id INT, employee_first_name STRING, employee_last_name STRING,\n",
    "        employee_salary FLOAT, employee_nationality STRING, employee_email_ids ARRAY<STRING>,\n",
    "        employee_phone_numbers MAP<STRING, STRING>, employee_ssn STRING,\n",
    "        employee_address STRUCT<street: STRING, city: STRING, state: STRING, postal_code: INT>\n",
    "    \"\"\"\n",
    ")"
   ]
  },
  {
   "cell_type": "code",
   "execution_count": null,
   "metadata": {},
   "outputs": [],
   "source": [
    "employees_df.printSchema()"
   ]
  },
  {
   "cell_type": "code",
   "execution_count": null,
   "metadata": {},
   "outputs": [],
   "source": [
    "employees_df.show(truncate=False)"
   ]
  },
  {
   "cell_type": "code",
   "execution_count": null,
   "metadata": {},
   "outputs": [],
   "source": [
    "employees_df.write.insertInto('employees')"
   ]
  }
 ],
 "metadata": {
  "kernelspec": {
   "display_name": "Pyspark 2",
   "language": "python",
   "name": "pyspark2"
  },
  "language_info": {
   "codemirror_mode": {
    "name": "ipython",
    "version": 3
   },
   "file_extension": ".py",
   "mimetype": "text/x-python",
   "name": "python",
   "nbconvert_exporter": "python",
   "pygments_lexer": "ipython3",
   "version": "3.6.12"
  }
 },
 "nbformat": 4,
 "nbformat_minor": 4
}
