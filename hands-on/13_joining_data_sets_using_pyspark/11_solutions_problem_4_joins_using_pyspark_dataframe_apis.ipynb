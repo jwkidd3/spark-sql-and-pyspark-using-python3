{
 "cells": [
  {
   "cell_type": "markdown",
   "metadata": {},
   "source": [
    "## Solutions - Problem 4\n",
    "\n",
    "Check if there are any origins in airtraffic data which do not have correpsonding records in airport-codes."
   ]
  },
  {
   "cell_type": "markdown",
   "metadata": {},
   "source": [
    "* This is an example for outer join.\n",
    "* We need to get those airports which are in Origin field in January 2008 airtraffic data set but not in airport-codes. We need to consider all the valid records from airport codes.\n",
    "* Based on the side of the airtraffic data set, we can say left or right. We will be invoking join using airtraffic data set and hence we will use left outer join.\n",
    "* We will also apply distinct on Origin before performing left outer join."
   ]
  },
  {
   "cell_type": "markdown",
   "metadata": {},
   "source": [
    "Let us start spark context for this Notebook so that we can execute the code provided. You can sign up for our [10 node state of the art cluster/labs](https://labs.spark.com/plans) to learn Spark SQL using our unique integrated LMS."
   ]
  },
  {
   "cell_type": "code",
   "execution_count": 1,
   "metadata": {},
   "outputs": [],
   "source": [
    "from pyspark.sql import SparkSession\n",
    "\n",
    "import getpass\n",
    "username = getpass.getuser()\n",
    "\n",
    "spark = SparkSession. \\\n",
    "    builder. \\\n",
    "    config('spark.ui.port', '0'). \\\n",
    "    config(\"spark.sql.warehouse.dir\", f\"/user/{username}/warehouse\"). \\\n",
    "    enableHiveSupport(). \\\n",
    "    appName(f'{username} | Python - Joining Data Sets'). \\\n",
    "    master('yarn'). \\\n",
    "    getOrCreate()"
   ]
  },
  {
   "cell_type": "markdown",
   "metadata": {},
   "source": [
    "If you are going to use CLIs, you can use Spark SQL using one of the 3 approaches.\n",
    "\n",
    "**Using Spark SQL**\n",
    "\n",
    "```\n",
    "spark2-sql \\\n",
    "    --master yarn \\\n",
    "    --conf spark.ui.port=0 \\\n",
    "    --conf spark.sql.warehouse.dir=/user/${USER}/warehouse\n",
    "```\n",
    "\n",
    "**Using Scala**\n",
    "\n",
    "```\n",
    "spark2-shell \\\n",
    "    --master yarn \\\n",
    "    --conf spark.ui.port=0 \\\n",
    "    --conf spark.sql.warehouse.dir=/user/${USER}/warehouse\n",
    "```\n",
    "\n",
    "**Using Pyspark**\n",
    "\n",
    "```\n",
    "pyspark2 \\\n",
    "    --master yarn \\\n",
    "    --conf spark.ui.port=0 \\\n",
    "    --conf spark.sql.warehouse.dir=/user/${USER}/warehouse\n",
    "```"
   ]
  },
  {
   "cell_type": "code",
   "execution_count": 2,
   "metadata": {},
   "outputs": [],
   "source": [
    "spark.conf.set(\"spark.sql.shuffle.partitions\", \"2\")"
   ]
  },
  {
   "cell_type": "code",
   "execution_count": 3,
   "metadata": {},
   "outputs": [],
   "source": [
    "airtrafficPath = \"/public/airtraffic_all/airtraffic-part/flightmonth=200801\""
   ]
  },
  {
   "cell_type": "code",
   "execution_count": 4,
   "metadata": {},
   "outputs": [],
   "source": [
    "airtraffic = spark. \\\n",
    "    read. \\\n",
    "    parquet(airtrafficPath)"
   ]
  },
  {
   "cell_type": "code",
   "execution_count": 5,
   "metadata": {},
   "outputs": [
    {
     "name": "stdout",
     "output_type": "stream",
     "text": [
      "+----+-----+----------+------+----+----------+\n",
      "|Year|Month|DayOfMonth|Origin|Dest|CRSDepTime|\n",
      "+----+-----+----------+------+----+----------+\n",
      "|2008|    1|        16|   BGR| CVG|      1735|\n",
      "|2008|    1|        17|   SYR| CVG|      1701|\n",
      "|2008|    1|        17|   SAV| BOS|      1225|\n",
      "|2008|    1|        17|   CVG| GRR|      1530|\n",
      "|2008|    1|        17|   STL| CVG|      1205|\n",
      "|2008|    1|        18|   STL| JFK|      1150|\n",
      "|2008|    1|        18|   MCI| CVG|      1009|\n",
      "|2008|    1|        19|   TUL| CVG|       835|\n",
      "|2008|    1|        20|   JFK| PHL|      1935|\n",
      "|2008|    1|        20|   RDU| CVG|       830|\n",
      "|2008|    1|        21|   CVG| DTW|      1640|\n",
      "|2008|    1|        21|   MSY| LGA|      1204|\n",
      "|2008|    1|        21|   JFK| PHL|      1935|\n",
      "|2008|    1|        21|   DCA| JFK|      1830|\n",
      "|2008|    1|        21|   HSV| DCA|       700|\n",
      "|2008|    1|        22|   ORD| CVG|      1910|\n",
      "|2008|    1|        22|   CVG| JFK|      1320|\n",
      "|2008|    1|        23|   LGA| SAV|       908|\n",
      "|2008|    1|        23|   CLT| CVG|      1252|\n",
      "|2008|    1|        23|   GSP| LGA|       635|\n",
      "+----+-----+----------+------+----+----------+\n",
      "only showing top 20 rows\n",
      "\n"
     ]
    }
   ],
   "source": [
    "airtraffic. \\\n",
    "    select(\n",
    "        \"Year\", \"Month\", \"DayOfMonth\", \n",
    "        \"Origin\", \"Dest\", \"CRSDepTime\"\n",
    "    ). \\\n",
    "    show()"
   ]
  },
  {
   "cell_type": "code",
   "execution_count": 6,
   "metadata": {},
   "outputs": [
    {
     "data": {
      "text/plain": [
       "605659"
      ]
     },
     "execution_count": 6,
     "metadata": {},
     "output_type": "execute_result"
    }
   ],
   "source": [
    "airtraffic.count()"
   ]
  },
  {
   "cell_type": "code",
   "execution_count": 7,
   "metadata": {},
   "outputs": [],
   "source": [
    "airportCodesPath = \"/public/airtraffic_all/airport-codes\""
   ]
  },
  {
   "cell_type": "code",
   "execution_count": 8,
   "metadata": {},
   "outputs": [],
   "source": [
    "def getValidAirportCodes(airportCodesPath):\n",
    "    airportCodes = spark. \\\n",
    "        read. \\\n",
    "        option(\"sep\", \"\\t\"). \\\n",
    "        option(\"header\", True). \\\n",
    "        option(\"inferSchema\", True). \\\n",
    "        csv(airportCodesPath). \\\n",
    "        filter(\"!(State = 'Hawaii' AND IATA = 'Big')\")\n",
    "    return airportCodes"
   ]
  },
  {
   "cell_type": "code",
   "execution_count": 9,
   "metadata": {},
   "outputs": [],
   "source": [
    "airportCodes = getValidAirportCodes(airportCodesPath)"
   ]
  },
  {
   "cell_type": "code",
   "execution_count": 10,
   "metadata": {},
   "outputs": [
    {
     "data": {
      "text/plain": [
       "524"
      ]
     },
     "execution_count": 10,
     "metadata": {},
     "output_type": "execute_result"
    }
   ],
   "source": [
    "airportCodes.count()"
   ]
  },
  {
   "cell_type": "code",
   "execution_count": 11,
   "metadata": {},
   "outputs": [
    {
     "name": "stdout",
     "output_type": "stream",
     "text": [
      "+------+\n",
      "|Origin|\n",
      "+------+\n",
      "|   BGR|\n",
      "|   SYR|\n",
      "|   CVG|\n",
      "|   STL|\n",
      "|   JFK|\n",
      "|   MSY|\n",
      "|   DCA|\n",
      "|   HSV|\n",
      "|   ORD|\n",
      "|   CLT|\n",
      "|   GSP|\n",
      "|   BOS|\n",
      "|   COS|\n",
      "|   BNA|\n",
      "|   ATL|\n",
      "|   SJC|\n",
      "|   GJT|\n",
      "|   AZO|\n",
      "|   ELP|\n",
      "|   PDX|\n",
      "+------+\n",
      "only showing top 20 rows\n",
      "\n"
     ]
    }
   ],
   "source": [
    "airtraffic. \\\n",
    "    select(\"Origin\"). \\\n",
    "    distinct(). \\\n",
    "    show()"
   ]
  },
  {
   "cell_type": "code",
   "execution_count": 15,
   "metadata": {},
   "outputs": [
    {
     "data": {
      "text/plain": [
       "286"
      ]
     },
     "execution_count": 15,
     "metadata": {},
     "output_type": "execute_result"
    }
   ],
   "source": [
    "airtraffic. \\\n",
    "    select(\"Origin\"). \\\n",
    "    distinct(). \\\n",
    "    count()"
   ]
  },
  {
   "cell_type": "code",
   "execution_count": 12,
   "metadata": {},
   "outputs": [
    {
     "name": "stdout",
     "output_type": "stream",
     "text": [
      "+------+----------------+-----+-------+----+\n",
      "|Origin|            City|State|Country|IATA|\n",
      "+------+----------------+-----+-------+----+\n",
      "|   BGR|          Bangor|   ME|    USA| BGR|\n",
      "|   SYR|        Syracuse|   NY|    USA| SYR|\n",
      "|   CVG|      Cincinnati|   OH|    USA| CVG|\n",
      "|   STL|       St. Louis|   MO|    USA| STL|\n",
      "|   JFK|        New York|   NY|    USA| JFK|\n",
      "|   MSY|     New Orleans|   LA|    USA| MSY|\n",
      "|   DCA|   Washington DC| null|    USA| DCA|\n",
      "|   HSV|      Huntsville|   AL|    USA| HSV|\n",
      "|   ORD|         Chicago|   IL|    USA| ORD|\n",
      "|   CLT|       Charlotte|   NC|    USA| CLT|\n",
      "|   GSP|      Greenville|   SC|    USA| GSP|\n",
      "|   BOS|          Boston|   MA|    USA| BOS|\n",
      "|   COS|Colorado Springs|   CO|    USA| COS|\n",
      "|   BNA|       Nashville|   TN|    USA| BNA|\n",
      "|   ATL|         Atlanta|   GA|    USA| ATL|\n",
      "|   SJC|        San Jose|   CA|    USA| SJC|\n",
      "|   GJT|  Grand Junction|   CO|    USA| GJT|\n",
      "|   AZO|       Kalamazoo|   MI|    USA| AZO|\n",
      "|   ELP|         El Paso|   TX|    USA| ELP|\n",
      "|   PDX|        Portland|   OR|    USA| PDX|\n",
      "+------+----------------+-----+-------+----+\n",
      "only showing top 20 rows\n",
      "\n"
     ]
    }
   ],
   "source": [
    "airtraffic. \\\n",
    "    select(\"Origin\"). \\\n",
    "    distinct(). \\\n",
    "    join(airportCodes, airtraffic[\"Origin\"] == airportCodes[\"IATA\"], \"left\"). \\\n",
    "    show()"
   ]
  },
  {
   "cell_type": "code",
   "execution_count": 13,
   "metadata": {},
   "outputs": [
    {
     "name": "stdout",
     "output_type": "stream",
     "text": [
      "+------+----+-----+-------+----+\n",
      "|Origin|City|State|Country|IATA|\n",
      "+------+----+-----+-------+----+\n",
      "|   HDN|null| null|   null|null|\n",
      "|   SJU|null| null|   null|null|\n",
      "|   ITO|null| null|   null|null|\n",
      "|   STT|null| null|   null|null|\n",
      "|   CEC|null| null|   null|null|\n",
      "|   CDC|null| null|   null|null|\n",
      "|   PSG|null| null|   null|null|\n",
      "|   ADK|null| null|   null|null|\n",
      "|   KOA|null| null|   null|null|\n",
      "|   OTZ|null| null|   null|null|\n",
      "|   BQN|null| null|   null|null|\n",
      "|   STX|null| null|   null|null|\n",
      "|   PMD|null| null|   null|null|\n",
      "|   PSE|null| null|   null|null|\n",
      "|   SCC|null| null|   null|null|\n",
      "|   SLE|null| null|   null|null|\n",
      "+------+----+-----+-------+----+\n",
      "\n"
     ]
    }
   ],
   "source": [
    "airtraffic. \\\n",
    "    select(\"Origin\"). \\\n",
    "    distinct(). \\\n",
    "    join(airportCodes, airtraffic[\"Origin\"] == airportCodes[\"IATA\"], \"left\"). \\\n",
    "    filter(\"IATA IS NULL\"). \\\n",
    "    show()"
   ]
  },
  {
   "cell_type": "code",
   "execution_count": 14,
   "metadata": {},
   "outputs": [
    {
     "data": {
      "text/plain": [
       "16"
      ]
     },
     "execution_count": 14,
     "metadata": {},
     "output_type": "execute_result"
    }
   ],
   "source": [
    "airtraffic. \\\n",
    "    select(\"Origin\"). \\\n",
    "    distinct(). \\\n",
    "    join(airportCodes, airtraffic[\"Origin\"] == airportCodes[\"IATA\"], \"left\"). \\\n",
    "    filter(\"IATA IS NULL\"). \\\n",
    "    count()"
   ]
  },
  {
   "cell_type": "code",
   "execution_count": null,
   "metadata": {},
   "outputs": [],
   "source": []
  }
 ],
 "metadata": {
  "kernelspec": {
   "display_name": "Python 3 (ipykernel)",
   "language": "python",
   "name": "python3"
  },
  "language_info": {
   "codemirror_mode": {
    "name": "ipython",
    "version": 3
   },
   "file_extension": ".py",
   "mimetype": "text/x-python",
   "name": "python",
   "nbconvert_exporter": "python",
   "pygments_lexer": "ipython3",
   "version": "3.7.12"
  }
 },
 "nbformat": 4,
 "nbformat_minor": 4
}
