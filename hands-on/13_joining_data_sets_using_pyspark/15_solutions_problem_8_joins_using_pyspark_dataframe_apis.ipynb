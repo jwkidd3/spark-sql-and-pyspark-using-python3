{
 "cells": [
  {
   "cell_type": "markdown",
   "metadata": {},
   "source": [
    "## Solutions - Problem 8\n",
    "\n",
    "Get number of orders and revenue for each year, month and date using orders which are either COMPLETE or CLOSED. Make sure that daily metrics are rolled up at month and year as well."
   ]
  },
  {
   "cell_type": "markdown",
   "metadata": {},
   "source": [
    "* Read data from orders and filter for COMPLETE or CLOSED.\n",
    "* Read data from order_items\n",
    "* Join orders and order_items using order_id\n",
    "* Group data by order_date and get number of orders as well as revenue for each day using rollup.\n",
    "* Sort the data using order_date."
   ]
  },
  {
   "cell_type": "markdown",
   "metadata": {},
   "source": [
    "Let us start spark context for this Notebook so that we can execute the code provided. You can sign up for our [10 node state of the art cluster/labs](https://labs.spark.com/plans) to learn Spark SQL using our unique integrated LMS."
   ]
  },
  {
   "cell_type": "code",
   "execution_count": 1,
   "metadata": {},
   "outputs": [],
   "source": [
    "from pyspark.sql import SparkSession\n",
    "\n",
    "import getpass\n",
    "username = getpass.getuser()\n",
    "\n",
    "spark = SparkSession. \\\n",
    "    builder. \\\n",
    "    config('spark.ui.port', '0'). \\\n",
    "    config(\"spark.sql.warehouse.dir\", f\"/user/{username}/warehouse\"). \\\n",
    "    enableHiveSupport(). \\\n",
    "    appName(f'{username} | Python - Joining Data Sets'). \\\n",
    "    master('yarn'). \\\n",
    "    getOrCreate()"
   ]
  },
  {
   "cell_type": "markdown",
   "metadata": {},
   "source": [
    "If you are going to use CLIs, you can use Spark SQL using one of the 3 approaches.\n",
    "\n",
    "**Using Spark SQL**\n",
    "\n",
    "```\n",
    "spark2-sql \\\n",
    "    --master yarn \\\n",
    "    --conf spark.ui.port=0 \\\n",
    "    --conf spark.sql.warehouse.dir=/user/${USER}/warehouse\n",
    "```\n",
    "\n",
    "**Using Scala**\n",
    "\n",
    "```\n",
    "spark2-shell \\\n",
    "    --master yarn \\\n",
    "    --conf spark.ui.port=0 \\\n",
    "    --conf spark.sql.warehouse.dir=/user/${USER}/warehouse\n",
    "```\n",
    "\n",
    "**Using Pyspark**\n",
    "\n",
    "```\n",
    "pyspark2 \\\n",
    "    --master yarn \\\n",
    "    --conf spark.ui.port=0 \\\n",
    "    --conf spark.sql.warehouse.dir=/user/${USER}/warehouse\n",
    "```"
   ]
  },
  {
   "cell_type": "code",
   "execution_count": 2,
   "metadata": {},
   "outputs": [],
   "source": [
    "spark.conf.set('spark.sql.shuffle.partitions', '2')"
   ]
  },
  {
   "cell_type": "code",
   "execution_count": 3,
   "metadata": {},
   "outputs": [],
   "source": [
    "orders = spark.read.json('/public/retail_db_json/orders')"
   ]
  },
  {
   "cell_type": "code",
   "execution_count": 4,
   "metadata": {},
   "outputs": [
    {
     "data": {
      "text/plain": [
       "68883"
      ]
     },
     "execution_count": 4,
     "metadata": {},
     "output_type": "execute_result"
    }
   ],
   "source": [
    "orders.count()"
   ]
  },
  {
   "cell_type": "code",
   "execution_count": 5,
   "metadata": {},
   "outputs": [],
   "source": [
    "orders_filtered = orders. \\\n",
    "    filter(\"order_status IN ('COMPLETE', 'CLOSED')\")"
   ]
  },
  {
   "cell_type": "code",
   "execution_count": 6,
   "metadata": {},
   "outputs": [
    {
     "data": {
      "text/plain": [
       "30455"
      ]
     },
     "execution_count": 6,
     "metadata": {},
     "output_type": "execute_result"
    }
   ],
   "source": [
    "orders_filtered.count()"
   ]
  },
  {
   "cell_type": "code",
   "execution_count": 7,
   "metadata": {},
   "outputs": [],
   "source": [
    "order_items = spark.read.json('/public/retail_db_json/order_items')"
   ]
  },
  {
   "cell_type": "code",
   "execution_count": 8,
   "metadata": {},
   "outputs": [],
   "source": [
    "orders_join = orders_filtered. \\\n",
    "    join(order_items, orders_filtered.order_id == order_items.order_item_order_id)"
   ]
  },
  {
   "cell_type": "code",
   "execution_count": 9,
   "metadata": {},
   "outputs": [],
   "source": [
    "from pyspark.sql.functions import col, countDistinct, sum, round, date_format, year"
   ]
  },
  {
   "cell_type": "code",
   "execution_count": 15,
   "metadata": {},
   "outputs": [],
   "source": [
    "revenue = orders_join. \\\n",
    "    rollup(\n",
    "        year('order_date').alias('order_year'),\n",
    "        date_format(col('order_date'), 'yyyyMM').alias('order_month'),\n",
    "        'order_date'\n",
    "    ). \\\n",
    "    agg(\n",
    "        countDistinct('order_id').alias('order_count'),\n",
    "        round(sum('order_item_subtotal'), 2).alias('revenue')\n",
    "    ). \\\n",
    "    orderBy('order_year', 'order_month', 'order_date')"
   ]
  },
  {
   "cell_type": "code",
   "execution_count": 16,
   "metadata": {},
   "outputs": [
    {
     "name": "stdout",
     "output_type": "stream",
     "text": [
      "+----------+-----------+---------------------+-----------+-------------+\n",
      "|order_year|order_month|order_date           |order_count|revenue      |\n",
      "+----------+-----------+---------------------+-----------+-------------+\n",
      "|null      |null       |null                 |25266      |1.501298248E7|\n",
      "|2013      |null       |null                 |11266      |6686892.0    |\n",
      "|2013      |201307     |null                 |564        |333465.45    |\n",
      "|2013      |201307     |2013-07-25 00:00:00.0|51         |31547.23     |\n",
      "|2013      |201307     |2013-07-26 00:00:00.0|99         |54713.23     |\n",
      "|2013      |201307     |2013-07-27 00:00:00.0|80         |48411.48     |\n",
      "|2013      |201307     |2013-07-28 00:00:00.0|67         |35672.03     |\n",
      "|2013      |201307     |2013-07-29 00:00:00.0|90         |54579.7      |\n",
      "|2013      |201307     |2013-07-30 00:00:00.0|90         |49329.29     |\n",
      "|2013      |201307     |2013-07-31 00:00:00.0|87         |59212.49     |\n",
      "|2013      |201308     |null                 |2073       |1221828.9    |\n",
      "|2013      |201308     |2013-08-01 00:00:00.0|82         |49160.08     |\n",
      "|2013      |201308     |2013-08-02 00:00:00.0|90         |50688.58     |\n",
      "|2013      |201308     |2013-08-03 00:00:00.0|72         |43416.74     |\n",
      "|2013      |201308     |2013-08-04 00:00:00.0|63         |35093.01     |\n",
      "|2013      |201308     |2013-08-05 00:00:00.0|62         |34025.27     |\n",
      "|2013      |201308     |2013-08-06 00:00:00.0|99         |57843.89     |\n",
      "|2013      |201308     |2013-08-07 00:00:00.0|77         |45525.59     |\n",
      "|2013      |201308     |2013-08-08 00:00:00.0|57         |33549.47     |\n",
      "|2013      |201308     |2013-08-09 00:00:00.0|43         |29225.16     |\n",
      "|2013      |201308     |2013-08-10 00:00:00.0|83         |46435.04     |\n",
      "|2013      |201308     |2013-08-11 00:00:00.0|58         |31155.5      |\n",
      "|2013      |201308     |2013-08-12 00:00:00.0|93         |59014.74     |\n",
      "|2013      |201308     |2013-08-13 00:00:00.0|31         |17956.88     |\n",
      "|2013      |201308     |2013-08-14 00:00:00.0|64         |42043.45     |\n",
      "|2013      |201308     |2013-08-15 00:00:00.0|79         |49566.68     |\n",
      "|2013      |201308     |2013-08-16 00:00:00.0|44         |30160.1      |\n",
      "|2013      |201308     |2013-08-17 00:00:00.0|104        |63226.83     |\n",
      "|2013      |201308     |2013-08-18 00:00:00.0|72         |46612.7      |\n",
      "|2013      |201308     |2013-08-19 00:00:00.0|35         |21397.59     |\n",
      "|2013      |201308     |2013-08-20 00:00:00.0|73         |43714.92     |\n",
      "|2013      |201308     |2013-08-21 00:00:00.0|49         |28947.65     |\n",
      "|2013      |201308     |2013-08-22 00:00:00.0|68         |38190.02     |\n",
      "|2013      |201308     |2013-08-23 00:00:00.0|69         |36305.67     |\n",
      "|2013      |201308     |2013-08-24 00:00:00.0|90         |52650.15     |\n",
      "|2013      |201308     |2013-08-25 00:00:00.0|60         |32295.08     |\n",
      "|2013      |201308     |2013-08-26 00:00:00.0|62         |38548.4      |\n",
      "|2013      |201308     |2013-08-27 00:00:00.0|73         |41010.78     |\n",
      "|2013      |201308     |2013-08-28 00:00:00.0|44         |22637.86     |\n",
      "|2013      |201308     |2013-08-29 00:00:00.0|83         |43275.41     |\n",
      "|2013      |201308     |2013-08-30 00:00:00.0|40         |24200.55     |\n",
      "|2013      |201308     |2013-08-31 00:00:00.0|54         |33955.11     |\n",
      "|2013      |201309     |null                 |2167       |1302255.8    |\n",
      "|2013      |201309     |2013-09-01 00:00:00.0|56         |42237.77     |\n",
      "|2013      |201309     |2013-09-02 00:00:00.0|78         |44463.56     |\n",
      "|2013      |201309     |2013-09-03 00:00:00.0|69         |44379.1      |\n",
      "|2013      |201309     |2013-09-04 00:00:00.0|37         |22946.52     |\n",
      "|2013      |201309     |2013-09-05 00:00:00.0|104        |59942.43     |\n",
      "|2013      |201309     |2013-09-06 00:00:00.0|102        |61976.1      |\n",
      "|2013      |201309     |2013-09-07 00:00:00.0|76         |45235.53     |\n",
      "+----------+-----------+---------------------+-----------+-------------+\n",
      "only showing top 50 rows\n",
      "\n"
     ]
    }
   ],
   "source": [
    "revenue.show(50, truncate=False)"
   ]
  },
  {
   "cell_type": "code",
   "execution_count": 17,
   "metadata": {},
   "outputs": [],
   "source": [
    "revenue = orders_join. \\\n",
    "    rollup(\n",
    "        year('order_date').alias('order_year'),\n",
    "        date_format(col('order_date'), 'yyyyMM').alias('order_month'),\n",
    "        'order_date'\n",
    "    ). \\\n",
    "    agg(\n",
    "        countDistinct('order_id').alias('order_count'),\n",
    "        round(sum('order_item_subtotal'), 2).alias('revenue')\n",
    "    ). \\\n",
    "    orderBy(\n",
    "        col('order_year').asc_nulls_last(), \n",
    "        col('order_month').asc_nulls_last(), \n",
    "        col('order_date').asc_nulls_last()\n",
    "    )"
   ]
  },
  {
   "cell_type": "code",
   "execution_count": 18,
   "metadata": {},
   "outputs": [
    {
     "name": "stdout",
     "output_type": "stream",
     "text": [
      "+----------+-----------+---------------------+-----------+---------+\n",
      "|order_year|order_month|order_date           |order_count|revenue  |\n",
      "+----------+-----------+---------------------+-----------+---------+\n",
      "|2013      |201307     |2013-07-25 00:00:00.0|51         |31547.23 |\n",
      "|2013      |201307     |2013-07-26 00:00:00.0|99         |54713.23 |\n",
      "|2013      |201307     |2013-07-27 00:00:00.0|80         |48411.48 |\n",
      "|2013      |201307     |2013-07-28 00:00:00.0|67         |35672.03 |\n",
      "|2013      |201307     |2013-07-29 00:00:00.0|90         |54579.7  |\n",
      "|2013      |201307     |2013-07-30 00:00:00.0|90         |49329.29 |\n",
      "|2013      |201307     |2013-07-31 00:00:00.0|87         |59212.49 |\n",
      "|2013      |201307     |null                 |564        |333465.45|\n",
      "|2013      |201308     |2013-08-01 00:00:00.0|82         |49160.08 |\n",
      "|2013      |201308     |2013-08-02 00:00:00.0|90         |50688.58 |\n",
      "|2013      |201308     |2013-08-03 00:00:00.0|72         |43416.74 |\n",
      "|2013      |201308     |2013-08-04 00:00:00.0|63         |35093.01 |\n",
      "|2013      |201308     |2013-08-05 00:00:00.0|62         |34025.27 |\n",
      "|2013      |201308     |2013-08-06 00:00:00.0|99         |57843.89 |\n",
      "|2013      |201308     |2013-08-07 00:00:00.0|77         |45525.59 |\n",
      "|2013      |201308     |2013-08-08 00:00:00.0|57         |33549.47 |\n",
      "|2013      |201308     |2013-08-09 00:00:00.0|43         |29225.16 |\n",
      "|2013      |201308     |2013-08-10 00:00:00.0|83         |46435.04 |\n",
      "|2013      |201308     |2013-08-11 00:00:00.0|58         |31155.5  |\n",
      "|2013      |201308     |2013-08-12 00:00:00.0|93         |59014.74 |\n",
      "|2013      |201308     |2013-08-13 00:00:00.0|31         |17956.88 |\n",
      "|2013      |201308     |2013-08-14 00:00:00.0|64         |42043.45 |\n",
      "|2013      |201308     |2013-08-15 00:00:00.0|79         |49566.68 |\n",
      "|2013      |201308     |2013-08-16 00:00:00.0|44         |30160.1  |\n",
      "|2013      |201308     |2013-08-17 00:00:00.0|104        |63226.83 |\n",
      "|2013      |201308     |2013-08-18 00:00:00.0|72         |46612.7  |\n",
      "|2013      |201308     |2013-08-19 00:00:00.0|35         |21397.59 |\n",
      "|2013      |201308     |2013-08-20 00:00:00.0|73         |43714.92 |\n",
      "|2013      |201308     |2013-08-21 00:00:00.0|49         |28947.65 |\n",
      "|2013      |201308     |2013-08-22 00:00:00.0|68         |38190.02 |\n",
      "|2013      |201308     |2013-08-23 00:00:00.0|69         |36305.67 |\n",
      "|2013      |201308     |2013-08-24 00:00:00.0|90         |52650.15 |\n",
      "|2013      |201308     |2013-08-25 00:00:00.0|60         |32295.08 |\n",
      "|2013      |201308     |2013-08-26 00:00:00.0|62         |38548.4  |\n",
      "|2013      |201308     |2013-08-27 00:00:00.0|73         |41010.78 |\n",
      "|2013      |201308     |2013-08-28 00:00:00.0|44         |22637.86 |\n",
      "|2013      |201308     |2013-08-29 00:00:00.0|83         |43275.41 |\n",
      "|2013      |201308     |2013-08-30 00:00:00.0|40         |24200.55 |\n",
      "|2013      |201308     |2013-08-31 00:00:00.0|54         |33955.11 |\n",
      "|2013      |201308     |null                 |2073       |1221828.9|\n",
      "|2013      |201309     |2013-09-01 00:00:00.0|56         |42237.77 |\n",
      "|2013      |201309     |2013-09-02 00:00:00.0|78         |44463.56 |\n",
      "|2013      |201309     |2013-09-03 00:00:00.0|69         |44379.1  |\n",
      "|2013      |201309     |2013-09-04 00:00:00.0|37         |22946.52 |\n",
      "|2013      |201309     |2013-09-05 00:00:00.0|104        |59942.43 |\n",
      "|2013      |201309     |2013-09-06 00:00:00.0|102        |61976.1  |\n",
      "|2013      |201309     |2013-09-07 00:00:00.0|76         |45235.53 |\n",
      "|2013      |201309     |2013-09-08 00:00:00.0|70         |39660.48 |\n",
      "|2013      |201309     |2013-09-09 00:00:00.0|86         |49372.42 |\n",
      "|2013      |201309     |2013-09-10 00:00:00.0|88         |47745.72 |\n",
      "+----------+-----------+---------------------+-----------+---------+\n",
      "only showing top 50 rows\n",
      "\n"
     ]
    }
   ],
   "source": [
    "revenue.show(50, truncate=False)"
   ]
  },
  {
   "cell_type": "code",
   "execution_count": 13,
   "metadata": {},
   "outputs": [
    {
     "data": {
      "text/plain": [
       "380"
      ]
     },
     "execution_count": 13,
     "metadata": {},
     "output_type": "execute_result"
    }
   ],
   "source": [
    "revenue.count()"
   ]
  },
  {
   "cell_type": "code",
   "execution_count": null,
   "metadata": {},
   "outputs": [],
   "source": []
  }
 ],
 "metadata": {
  "kernelspec": {
   "display_name": "Python 3 (ipykernel)",
   "language": "python",
   "name": "python3"
  },
  "language_info": {
   "codemirror_mode": {
    "name": "ipython",
    "version": 3
   },
   "file_extension": ".py",
   "mimetype": "text/x-python",
   "name": "python",
   "nbconvert_exporter": "python",
   "pygments_lexer": "ipython3",
   "version": "3.7.12"
  }
 },
 "nbformat": 4,
 "nbformat_minor": 4
}
