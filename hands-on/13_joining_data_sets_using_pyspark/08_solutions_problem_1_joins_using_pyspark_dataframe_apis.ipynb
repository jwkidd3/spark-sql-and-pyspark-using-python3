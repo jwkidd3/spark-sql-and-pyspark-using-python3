{
 "cells": [
  {
   "cell_type": "markdown",
   "metadata": {},
   "source": [
    "## Solutions - Problem 1\n",
    "\n",
    "Get number of flights departed from each of the US airport in the month of 2008 January."
   ]
  },
  {
   "cell_type": "markdown",
   "metadata": {},
   "source": [
    "* We have to use airport codes to determine US airport.\n",
    "* We need to use airtraffic data to get departure details.\n",
    "* To solve this problem we have to perform inner join."
   ]
  },
  {
   "cell_type": "markdown",
   "metadata": {},
   "source": [
    "Let us start spark context for this Notebook so that we can execute the code provided. You can sign up for our [10 node state of the art cluster/labs](https://labs.spark.com/plans) to learn Spark SQL using our unique integrated LMS."
   ]
  },
  {
   "cell_type": "code",
   "execution_count": 1,
   "metadata": {},
   "outputs": [],
   "source": [
    "from pyspark.sql import SparkSession\n",
    "\n",
    "import getpass\n",
    "username = getpass.getuser()\n",
    "\n",
    "spark = SparkSession. \\\n",
    "    builder. \\\n",
    "    config('spark.ui.port', '0'). \\\n",
    "    config(\"spark.sql.warehouse.dir\", f\"/user/{username}/warehouse\"). \\\n",
    "    enableHiveSupport(). \\\n",
    "    appName(f'{username} | Python - Joining Data Sets'). \\\n",
    "    master('yarn'). \\\n",
    "    getOrCreate()"
   ]
  },
  {
   "cell_type": "markdown",
   "metadata": {},
   "source": [
    "If you are going to use CLIs, you can use Spark SQL using one of the 3 approaches.\n",
    "\n",
    "**Using Spark SQL**\n",
    "\n",
    "```\n",
    "spark2-sql \\\n",
    "    --master yarn \\\n",
    "    --conf spark.ui.port=0 \\\n",
    "    --conf spark.sql.warehouse.dir=/user/${USER}/warehouse\n",
    "```\n",
    "\n",
    "**Using Scala**\n",
    "\n",
    "```\n",
    "spark2-shell \\\n",
    "    --master yarn \\\n",
    "    --conf spark.ui.port=0 \\\n",
    "    --conf spark.sql.warehouse.dir=/user/${USER}/warehouse\n",
    "```\n",
    "\n",
    "**Using Pyspark**\n",
    "\n",
    "```\n",
    "pyspark2 \\\n",
    "    --master yarn \\\n",
    "    --conf spark.ui.port=0 \\\n",
    "    --conf spark.sql.warehouse.dir=/user/${USER}/warehouse\n",
    "```"
   ]
  },
  {
   "cell_type": "code",
   "execution_count": 2,
   "metadata": {},
   "outputs": [],
   "source": [
    "spark.conf.set(\"spark.sql.shuffle.partitions\", \"2\")"
   ]
  },
  {
   "cell_type": "code",
   "execution_count": 3,
   "metadata": {},
   "outputs": [],
   "source": [
    "airtrafficPath = \"/public/airtraffic_all/airtraffic-part/flightmonth=200801\""
   ]
  },
  {
   "cell_type": "code",
   "execution_count": 4,
   "metadata": {},
   "outputs": [],
   "source": [
    "airtraffic = spark. \\\n",
    "    read. \\\n",
    "    parquet(airtrafficPath)"
   ]
  },
  {
   "cell_type": "code",
   "execution_count": 5,
   "metadata": {},
   "outputs": [
    {
     "name": "stdout",
     "output_type": "stream",
     "text": [
      "+----+-----+----------+------+----+----------+\n",
      "|Year|Month|DayOfMonth|Origin|Dest|CRSDepTime|\n",
      "+----+-----+----------+------+----+----------+\n",
      "|2008|    1|        16|   BGR| CVG|      1735|\n",
      "|2008|    1|        17|   SYR| CVG|      1701|\n",
      "|2008|    1|        17|   SAV| BOS|      1225|\n",
      "|2008|    1|        17|   CVG| GRR|      1530|\n",
      "|2008|    1|        17|   STL| CVG|      1205|\n",
      "|2008|    1|        18|   STL| JFK|      1150|\n",
      "|2008|    1|        18|   MCI| CVG|      1009|\n",
      "|2008|    1|        19|   TUL| CVG|       835|\n",
      "|2008|    1|        20|   JFK| PHL|      1935|\n",
      "|2008|    1|        20|   RDU| CVG|       830|\n",
      "|2008|    1|        21|   CVG| DTW|      1640|\n",
      "|2008|    1|        21|   MSY| LGA|      1204|\n",
      "|2008|    1|        21|   JFK| PHL|      1935|\n",
      "|2008|    1|        21|   DCA| JFK|      1830|\n",
      "|2008|    1|        21|   HSV| DCA|       700|\n",
      "|2008|    1|        22|   ORD| CVG|      1910|\n",
      "|2008|    1|        22|   CVG| JFK|      1320|\n",
      "|2008|    1|        23|   LGA| SAV|       908|\n",
      "|2008|    1|        23|   CLT| CVG|      1252|\n",
      "|2008|    1|        23|   GSP| LGA|       635|\n",
      "+----+-----+----------+------+----+----------+\n",
      "only showing top 20 rows\n",
      "\n"
     ]
    }
   ],
   "source": [
    "airtraffic. \\\n",
    "    select(\n",
    "        \"Year\", \"Month\", \"DayOfMonth\", \n",
    "        \"Origin\", \"Dest\", \"CRSDepTime\"\n",
    "    ). \\\n",
    "show()"
   ]
  },
  {
   "cell_type": "code",
   "execution_count": 6,
   "metadata": {},
   "outputs": [
    {
     "data": {
      "text/plain": [
       "605659"
      ]
     },
     "execution_count": 6,
     "metadata": {},
     "output_type": "execute_result"
    }
   ],
   "source": [
    "airtraffic.count()"
   ]
  },
  {
   "cell_type": "code",
   "execution_count": 7,
   "metadata": {},
   "outputs": [],
   "source": [
    "airportCodesPath = \"/public/airtraffic_all/airport-codes\""
   ]
  },
  {
   "cell_type": "code",
   "execution_count": 8,
   "metadata": {},
   "outputs": [],
   "source": [
    "def getValidAirportCodes(airportCodesPath):\n",
    "    airportCodes = spark. \\\n",
    "        read. \\\n",
    "        option(\"sep\", \"\\t\"). \\\n",
    "        option(\"header\", True). \\\n",
    "        option(\"inferSchema\", True). \\\n",
    "        csv(airportCodesPath). \\\n",
    "        filter(\"!(State = 'Hawaii' AND IATA = 'Big') AND Country = 'USA'\")\n",
    "    return airportCodes"
   ]
  },
  {
   "cell_type": "code",
   "execution_count": 9,
   "metadata": {},
   "outputs": [],
   "source": [
    "airportCodes = getValidAirportCodes(airportCodesPath)"
   ]
  },
  {
   "cell_type": "code",
   "execution_count": 10,
   "metadata": {},
   "outputs": [
    {
     "data": {
      "text/plain": [
       "443"
      ]
     },
     "execution_count": 10,
     "metadata": {},
     "output_type": "execute_result"
    }
   ],
   "source": [
    "airportCodes.count()"
   ]
  },
  {
   "cell_type": "code",
   "execution_count": 11,
   "metadata": {},
   "outputs": [],
   "source": [
    "from pyspark.sql.functions import col, lit, count"
   ]
  },
  {
   "cell_type": "code",
   "execution_count": 12,
   "metadata": {},
   "outputs": [
    {
     "name": "stdout",
     "output_type": "stream",
     "text": [
      "+----+-----+----------+-------------+-----+-------+----+----------+\n",
      "|Year|Month|DayOfMonth|         City|State|Country|IATA|CRSDepTime|\n",
      "+----+-----+----------+-------------+-----+-------+----+----------+\n",
      "|2008|    1|        16|       Bangor|   ME|    USA| BGR|      1735|\n",
      "|2008|    1|        17|     Syracuse|   NY|    USA| SYR|      1701|\n",
      "|2008|    1|        17|     Savannah|   GA|    USA| SAV|      1225|\n",
      "|2008|    1|        17|   Cincinnati|   OH|    USA| CVG|      1530|\n",
      "|2008|    1|        17|    St. Louis|   MO|    USA| STL|      1205|\n",
      "|2008|    1|        18|    St. Louis|   MO|    USA| STL|      1150|\n",
      "|2008|    1|        18|  Kansas City|   MO|    USA| MCI|      1009|\n",
      "|2008|    1|        19|        Tulsa|   OK|    USA| TUL|       835|\n",
      "|2008|    1|        20|     New York|   NY|    USA| JFK|      1935|\n",
      "|2008|    1|        20|      Raleigh|   NC|    USA| RDU|       830|\n",
      "|2008|    1|        21|   Cincinnati|   OH|    USA| CVG|      1640|\n",
      "|2008|    1|        21|  New Orleans|   LA|    USA| MSY|      1204|\n",
      "|2008|    1|        21|     New York|   NY|    USA| JFK|      1935|\n",
      "|2008|    1|        21|Washington DC| null|    USA| DCA|      1830|\n",
      "|2008|    1|        21|   Huntsville|   AL|    USA| HSV|       700|\n",
      "|2008|    1|        22|      Chicago|   IL|    USA| ORD|      1910|\n",
      "|2008|    1|        22|   Cincinnati|   OH|    USA| CVG|      1320|\n",
      "|2008|    1|        23|     New York|   NY|    USA| LGA|       908|\n",
      "|2008|    1|        23|    Charlotte|   NC|    USA| CLT|      1252|\n",
      "|2008|    1|        23|   Greenville|   SC|    USA| GSP|       635|\n",
      "+----+-----+----------+-------------+-----+-------+----+----------+\n",
      "only showing top 20 rows\n",
      "\n"
     ]
    }
   ],
   "source": [
    "airtraffic. \\\n",
    "    join(airportCodes, airportCodes[\"IATA\"] == airtraffic[\"Origin\"]). \\\n",
    "    select(col(\"Year\"), col(\"Month\"), col(\"DayOfMonth\"), airportCodes[\"*\"], col(\"CRSDepTime\")). \\\n",
    "    show()"
   ]
  },
  {
   "cell_type": "code",
   "execution_count": 13,
   "metadata": {},
   "outputs": [
    {
     "name": "stdout",
     "output_type": "stream",
     "text": [
      "+------+-----------+\n",
      "|Origin|FlightCount|\n",
      "+------+-----------+\n",
      "|   ATL|      33897|\n",
      "|   ORD|      29936|\n",
      "|   DFW|      23861|\n",
      "|   DEN|      19477|\n",
      "|   LAX|      18945|\n",
      "|   PHX|      17695|\n",
      "|   IAH|      15531|\n",
      "|   LAS|      15292|\n",
      "|   DTW|      14357|\n",
      "|   EWR|      12467|\n",
      "|   SLC|      12401|\n",
      "|   MSP|      11800|\n",
      "|   SFO|      11573|\n",
      "|   MCO|      11070|\n",
      "|   CLT|      10752|\n",
      "|   LGA|      10300|\n",
      "|   JFK|      10023|\n",
      "|   BOS|       9717|\n",
      "|   BWI|       8883|\n",
      "|   CVG|       8659|\n",
      "+------+-----------+\n",
      "only showing top 20 rows\n",
      "\n"
     ]
    }
   ],
   "source": [
    "airtraffic. \\\n",
    "    join(airportCodes, airportCodes[\"IATA\"] == airtraffic[\"Origin\"]). \\\n",
    "    groupBy(\"Origin\"). \\\n",
    "    agg(count(lit(1)).alias(\"FlightCount\")). \\\n",
    "    orderBy(col(\"FlightCount\").desc()). \\\n",
    "    show()"
   ]
  },
  {
   "cell_type": "code",
   "execution_count": null,
   "metadata": {},
   "outputs": [],
   "source": []
  }
 ],
 "metadata": {
  "kernelspec": {
   "display_name": "Python 3",
   "language": "python",
   "name": "python3"
  },
  "language_info": {
   "codemirror_mode": {
    "name": "ipython",
    "version": 3
   },
   "file_extension": ".py",
   "mimetype": "text/x-python",
   "name": "python",
   "nbconvert_exporter": "python",
   "pygments_lexer": "ipython3",
   "version": "3.6.9"
  }
 },
 "nbformat": 4,
 "nbformat_minor": 4
}
