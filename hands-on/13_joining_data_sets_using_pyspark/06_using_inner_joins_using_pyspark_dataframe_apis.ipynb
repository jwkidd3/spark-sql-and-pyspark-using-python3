{
 "cells": [
  {
   "cell_type": "markdown",
   "metadata": {},
   "source": [
    "## Using Inner Join\n",
    "\n",
    "Let us understand about inner join in Spark. Here are the steps we typically follow for joining data frames."
   ]
  },
  {
   "cell_type": "markdown",
   "metadata": {},
   "source": [
    "* Read the data sets that are supposed to be joined from files into respective data frames.\n",
    "* Optionally we filter the data, if filter is involved as per the requirements.\n",
    "* Join both the data sets using inner join. We will get the data satisfying the join condition in the form of a new Data Frame.\n",
    "* Once the Data Frame with Join Results is created we can refer the columns from both the data sets after the join using the original data frame for further processing"
   ]
  },
  {
   "cell_type": "markdown",
   "metadata": {},
   "source": [
    "Let us start spark context for this Notebook so that we can execute the code provided. You can sign up for our [10 node state of the art cluster/labs](https://labs.spark.com/plans) to learn Spark SQL using our unique integrated LMS."
   ]
  },
  {
   "cell_type": "code",
   "execution_count": 1,
   "metadata": {},
   "outputs": [],
   "source": [
    "from pyspark.sql import SparkSession\n",
    "\n",
    "import getpass\n",
    "username = getpass.getuser()\n",
    "\n",
    "spark = SparkSession. \\\n",
    "    builder. \\\n",
    "    config('spark.ui.port', '0'). \\\n",
    "    config(\"spark.sql.warehouse.dir\", f\"/user/{username}/warehouse\"). \\\n",
    "    enableHiveSupport(). \\\n",
    "    appName(f'{username} | Python - Joining Data Sets'). \\\n",
    "    master('yarn'). \\\n",
    "    getOrCreate()"
   ]
  },
  {
   "cell_type": "markdown",
   "metadata": {},
   "source": [
    "If you are going to use CLIs, you can use Spark SQL using one of the 3 approaches.\n",
    "\n",
    "**Using Spark SQL**\n",
    "\n",
    "```\n",
    "spark2-sql \\\n",
    "    --master yarn \\\n",
    "    --conf spark.ui.port=0 \\\n",
    "    --conf spark.sql.warehouse.dir=/user/${USER}/warehouse\n",
    "```\n",
    "\n",
    "**Using Scala**\n",
    "\n",
    "```\n",
    "spark2-shell \\\n",
    "    --master yarn \\\n",
    "    --conf spark.ui.port=0 \\\n",
    "    --conf spark.sql.warehouse.dir=/user/${USER}/warehouse\n",
    "```\n",
    "\n",
    "**Using Pyspark**\n",
    "\n",
    "```\n",
    "pyspark2 \\\n",
    "    --master yarn \\\n",
    "    --conf spark.ui.port=0 \\\n",
    "    --conf spark.sql.warehouse.dir=/user/${USER}/warehouse\n",
    "```"
   ]
  },
  {
   "cell_type": "markdown",
   "metadata": {},
   "source": [
    "* Read orders and order_items data sets"
   ]
  },
  {
   "cell_type": "code",
   "execution_count": 2,
   "metadata": {},
   "outputs": [],
   "source": [
    "spark.conf.set(\"spark.sql.shuffle.partitions\", \"2\")"
   ]
  },
  {
   "cell_type": "code",
   "execution_count": 3,
   "metadata": {},
   "outputs": [],
   "source": [
    "orders = spark.read.json('/public/retail_db_json/orders')"
   ]
  },
  {
   "cell_type": "code",
   "execution_count": 4,
   "metadata": {},
   "outputs": [],
   "source": [
    "order_items = spark.read.json('/public/retail_db_json/order_items')"
   ]
  },
  {
   "cell_type": "code",
   "execution_count": 5,
   "metadata": {},
   "outputs": [
    {
     "name": "stdout",
     "output_type": "stream",
     "text": [
      "root\n",
      " |-- order_customer_id: long (nullable = true)\n",
      " |-- order_date: string (nullable = true)\n",
      " |-- order_id: long (nullable = true)\n",
      " |-- order_status: string (nullable = true)\n",
      "\n"
     ]
    }
   ],
   "source": [
    "orders.printSchema()"
   ]
  },
  {
   "cell_type": "code",
   "execution_count": 6,
   "metadata": {},
   "outputs": [
    {
     "name": "stdout",
     "output_type": "stream",
     "text": [
      "root\n",
      " |-- order_item_id: long (nullable = true)\n",
      " |-- order_item_order_id: long (nullable = true)\n",
      " |-- order_item_product_id: long (nullable = true)\n",
      " |-- order_item_product_price: double (nullable = true)\n",
      " |-- order_item_quantity: long (nullable = true)\n",
      " |-- order_item_subtotal: double (nullable = true)\n",
      "\n"
     ]
    }
   ],
   "source": [
    "order_items.printSchema()"
   ]
  },
  {
   "cell_type": "markdown",
   "metadata": {},
   "source": [
    "* Join orders and order_items based up on the common key. In orders it is known as order_id and in order_items it is known as order_item_order_id."
   ]
  },
  {
   "cell_type": "code",
   "execution_count": 7,
   "metadata": {},
   "outputs": [
    {
     "name": "stdout",
     "output_type": "stream",
     "text": [
      "Help on method join in module pyspark.sql.dataframe:\n",
      "\n",
      "join(other, on=None, how=None) method of pyspark.sql.dataframe.DataFrame instance\n",
      "    Joins with another :class:`DataFrame`, using the given join expression.\n",
      "    \n",
      "    :param other: Right side of the join\n",
      "    :param on: a string for the join column name, a list of column names,\n",
      "        a join expression (Column), or a list of Columns.\n",
      "        If `on` is a string or a list of strings indicating the name of the join column(s),\n",
      "        the column(s) must exist on both sides, and this performs an equi-join.\n",
      "    :param how: str, default ``inner``. Must be one of: ``inner``, ``cross``, ``outer``,\n",
      "        ``full``, ``full_outer``, ``left``, ``left_outer``, ``right``, ``right_outer``,\n",
      "        ``left_semi``, and ``left_anti``.\n",
      "    \n",
      "    The following performs a full outer join between ``df1`` and ``df2``.\n",
      "    \n",
      "    >>> df.join(df2, df.name == df2.name, 'outer').select(df.name, df2.height).collect()\n",
      "    [Row(name=None, height=80), Row(name='Bob', height=85), Row(name='Alice', height=None)]\n",
      "    \n",
      "    >>> df.join(df2, 'name', 'outer').select('name', 'height').collect()\n",
      "    [Row(name='Tom', height=80), Row(name='Bob', height=85), Row(name='Alice', height=None)]\n",
      "    \n",
      "    >>> cond = [df.name == df3.name, df.age == df3.age]\n",
      "    >>> df.join(df3, cond, 'outer').select(df.name, df3.age).collect()\n",
      "    [Row(name='Alice', age=2), Row(name='Bob', age=5)]\n",
      "    \n",
      "    >>> df.join(df2, 'name').select(df.name, df2.height).collect()\n",
      "    [Row(name='Bob', height=85)]\n",
      "    \n",
      "    >>> df.join(df4, ['name', 'age']).select(df.name, df.age).collect()\n",
      "    [Row(name='Bob', age=5)]\n",
      "    \n",
      "    .. versionadded:: 1.3\n",
      "\n"
     ]
    }
   ],
   "source": [
    "help(orders.join)"
   ]
  },
  {
   "cell_type": "code",
   "execution_count": 8,
   "metadata": {},
   "outputs": [],
   "source": [
    "orders_join = orders.join(\n",
    "    order_items, \n",
    "    orders.order_id == order_items.order_item_order_id\n",
    ")"
   ]
  },
  {
   "cell_type": "code",
   "execution_count": 9,
   "metadata": {},
   "outputs": [],
   "source": [
    "orders_join = orders.join(\n",
    "    order_items, \n",
    "    on=orders.order_id == order_items.order_item_order_id\n",
    ")"
   ]
  },
  {
   "cell_type": "code",
   "execution_count": 10,
   "metadata": {},
   "outputs": [],
   "source": [
    "orders_join = orders.join(\n",
    "    order_items, \n",
    "    on=orders['order_id'] == order_items['order_item_order_id']\n",
    ")"
   ]
  },
  {
   "cell_type": "code",
   "execution_count": 11,
   "metadata": {},
   "outputs": [],
   "source": [
    "orders_join = orders.join(\n",
    "    order_items, \n",
    "    on=orders['order_id'] == order_items['order_item_order_id'],\n",
    "    how='inner'\n",
    ")"
   ]
  },
  {
   "cell_type": "code",
   "execution_count": 12,
   "metadata": {},
   "outputs": [
    {
     "name": "stdout",
     "output_type": "stream",
     "text": [
      "root\n",
      " |-- order_customer_id: long (nullable = true)\n",
      " |-- order_date: string (nullable = true)\n",
      " |-- order_id: long (nullable = true)\n",
      " |-- order_status: string (nullable = true)\n",
      " |-- order_item_id: long (nullable = true)\n",
      " |-- order_item_order_id: long (nullable = true)\n",
      " |-- order_item_product_id: long (nullable = true)\n",
      " |-- order_item_product_price: double (nullable = true)\n",
      " |-- order_item_quantity: long (nullable = true)\n",
      " |-- order_item_subtotal: double (nullable = true)\n",
      "\n"
     ]
    }
   ],
   "source": [
    "orders_join.printSchema()"
   ]
  },
  {
   "cell_type": "code",
   "execution_count": 13,
   "metadata": {},
   "outputs": [
    {
     "name": "stdout",
     "output_type": "stream",
     "text": [
      "+-----------------+--------------------+--------+---------------+-------------+-------------------+---------------------+------------------------+-------------------+-------------------+\n",
      "|order_customer_id|          order_date|order_id|   order_status|order_item_id|order_item_order_id|order_item_product_id|order_item_product_price|order_item_quantity|order_item_subtotal|\n",
      "+-----------------+--------------------+--------+---------------+-------------+-------------------+---------------------+------------------------+-------------------+-------------------+\n",
      "|            11599|2013-07-25 00:00:...|       1|         CLOSED|            1|                  1|                  957|                  299.98|                  1|             299.98|\n",
      "|              256|2013-07-25 00:00:...|       2|PENDING_PAYMENT|            2|                  2|                 1073|                  199.99|                  1|             199.99|\n",
      "|              256|2013-07-25 00:00:...|       2|PENDING_PAYMENT|            3|                  2|                  502|                    50.0|                  5|              250.0|\n",
      "|              256|2013-07-25 00:00:...|       2|PENDING_PAYMENT|            4|                  2|                  403|                  129.99|                  1|             129.99|\n",
      "|             8827|2013-07-25 00:00:...|       4|         CLOSED|            5|                  4|                  897|                   24.99|                  2|              49.98|\n",
      "|             8827|2013-07-25 00:00:...|       4|         CLOSED|            6|                  4|                  365|                   59.99|                  5|             299.95|\n",
      "|             8827|2013-07-25 00:00:...|       4|         CLOSED|            7|                  4|                  502|                    50.0|                  3|              150.0|\n",
      "|             8827|2013-07-25 00:00:...|       4|         CLOSED|            8|                  4|                 1014|                   49.98|                  4|             199.92|\n",
      "|            11318|2013-07-25 00:00:...|       5|       COMPLETE|            9|                  5|                  957|                  299.98|                  1|             299.98|\n",
      "|            11318|2013-07-25 00:00:...|       5|       COMPLETE|           10|                  5|                  365|                   59.99|                  5|             299.95|\n",
      "|            11318|2013-07-25 00:00:...|       5|       COMPLETE|           11|                  5|                 1014|                   49.98|                  2|              99.96|\n",
      "|            11318|2013-07-25 00:00:...|       5|       COMPLETE|           12|                  5|                  957|                  299.98|                  1|             299.98|\n",
      "|            11318|2013-07-25 00:00:...|       5|       COMPLETE|           13|                  5|                  403|                  129.99|                  1|             129.99|\n",
      "|             4530|2013-07-25 00:00:...|       7|       COMPLETE|           14|                  7|                 1073|                  199.99|                  1|             199.99|\n",
      "|             4530|2013-07-25 00:00:...|       7|       COMPLETE|           15|                  7|                  957|                  299.98|                  1|             299.98|\n",
      "|             4530|2013-07-25 00:00:...|       7|       COMPLETE|           16|                  7|                  926|                   15.99|                  5|              79.95|\n",
      "|             2911|2013-07-25 00:00:...|       8|     PROCESSING|           17|                  8|                  365|                   59.99|                  3|             179.97|\n",
      "|             2911|2013-07-25 00:00:...|       8|     PROCESSING|           18|                  8|                  365|                   59.99|                  5|             299.95|\n",
      "|             2911|2013-07-25 00:00:...|       8|     PROCESSING|           19|                  8|                 1014|                   49.98|                  4|             199.92|\n",
      "|             2911|2013-07-25 00:00:...|       8|     PROCESSING|           20|                  8|                  502|                    50.0|                  1|               50.0|\n",
      "+-----------------+--------------------+--------+---------------+-------------+-------------------+---------------------+------------------------+-------------------+-------------------+\n",
      "only showing top 20 rows\n",
      "\n"
     ]
    }
   ],
   "source": [
    "orders_join.show()"
   ]
  },
  {
   "cell_type": "code",
   "execution_count": 14,
   "metadata": {},
   "outputs": [
    {
     "data": {
      "text/plain": [
       "68883"
      ]
     },
     "execution_count": 14,
     "metadata": {},
     "output_type": "execute_result"
    }
   ],
   "source": [
    "orders.count()"
   ]
  },
  {
   "cell_type": "code",
   "execution_count": 15,
   "metadata": {},
   "outputs": [
    {
     "data": {
      "text/plain": [
       "172198"
      ]
     },
     "execution_count": 15,
     "metadata": {},
     "output_type": "execute_result"
    }
   ],
   "source": [
    "order_items.count()"
   ]
  },
  {
   "cell_type": "code",
   "execution_count": 16,
   "metadata": {},
   "outputs": [
    {
     "data": {
      "text/plain": [
       "172198"
      ]
     },
     "execution_count": 16,
     "metadata": {},
     "output_type": "execute_result"
    }
   ],
   "source": [
    "orders_join.count()"
   ]
  },
  {
   "cell_type": "markdown",
   "metadata": {},
   "source": [
    "* Project all the fields from orders and then order_item_subtotal from order_items."
   ]
  },
  {
   "cell_type": "code",
   "execution_count": 17,
   "metadata": {},
   "outputs": [
    {
     "name": "stdout",
     "output_type": "stream",
     "text": [
      "+-----------------+--------------------+--------+---------------+-------------------+\n",
      "|order_customer_id|          order_date|order_id|   order_status|order_item_subtotal|\n",
      "+-----------------+--------------------+--------+---------------+-------------------+\n",
      "|            11599|2013-07-25 00:00:...|       1|         CLOSED|             299.98|\n",
      "|              256|2013-07-25 00:00:...|       2|PENDING_PAYMENT|             199.99|\n",
      "|              256|2013-07-25 00:00:...|       2|PENDING_PAYMENT|              250.0|\n",
      "|              256|2013-07-25 00:00:...|       2|PENDING_PAYMENT|             129.99|\n",
      "|             8827|2013-07-25 00:00:...|       4|         CLOSED|              49.98|\n",
      "|             8827|2013-07-25 00:00:...|       4|         CLOSED|             299.95|\n",
      "|             8827|2013-07-25 00:00:...|       4|         CLOSED|              150.0|\n",
      "|             8827|2013-07-25 00:00:...|       4|         CLOSED|             199.92|\n",
      "|            11318|2013-07-25 00:00:...|       5|       COMPLETE|             299.98|\n",
      "|            11318|2013-07-25 00:00:...|       5|       COMPLETE|             299.95|\n",
      "|            11318|2013-07-25 00:00:...|       5|       COMPLETE|              99.96|\n",
      "|            11318|2013-07-25 00:00:...|       5|       COMPLETE|             299.98|\n",
      "|            11318|2013-07-25 00:00:...|       5|       COMPLETE|             129.99|\n",
      "|             4530|2013-07-25 00:00:...|       7|       COMPLETE|             199.99|\n",
      "|             4530|2013-07-25 00:00:...|       7|       COMPLETE|             299.98|\n",
      "|             4530|2013-07-25 00:00:...|       7|       COMPLETE|              79.95|\n",
      "|             2911|2013-07-25 00:00:...|       8|     PROCESSING|             179.97|\n",
      "|             2911|2013-07-25 00:00:...|       8|     PROCESSING|             299.95|\n",
      "|             2911|2013-07-25 00:00:...|       8|     PROCESSING|             199.92|\n",
      "|             2911|2013-07-25 00:00:...|       8|     PROCESSING|               50.0|\n",
      "+-----------------+--------------------+--------+---------------+-------------------+\n",
      "only showing top 20 rows\n",
      "\n"
     ]
    }
   ],
   "source": [
    "orders. \\\n",
    "    join(\n",
    "        order_items, \n",
    "        on=orders['order_id'] == order_items['order_item_order_id'],\n",
    "        how='inner'\n",
    "    ). \\\n",
    "    select(orders['*'], order_items['order_item_subtotal']). \\\n",
    "    show()"
   ]
  },
  {
   "cell_type": "markdown",
   "metadata": {},
   "source": [
    "* Project order_id, order_date, order_status from orders and order_item_subtotal from order_items."
   ]
  },
  {
   "cell_type": "code",
   "execution_count": 18,
   "metadata": {},
   "outputs": [
    {
     "name": "stdout",
     "output_type": "stream",
     "text": [
      "+--------+--------------------+---------------+-------------------+\n",
      "|order_id|          order_date|   order_status|order_item_subtotal|\n",
      "+--------+--------------------+---------------+-------------------+\n",
      "|       1|2013-07-25 00:00:...|         CLOSED|             299.98|\n",
      "|       2|2013-07-25 00:00:...|PENDING_PAYMENT|             199.99|\n",
      "|       2|2013-07-25 00:00:...|PENDING_PAYMENT|              250.0|\n",
      "|       2|2013-07-25 00:00:...|PENDING_PAYMENT|             129.99|\n",
      "|       4|2013-07-25 00:00:...|         CLOSED|              49.98|\n",
      "|       4|2013-07-25 00:00:...|         CLOSED|             299.95|\n",
      "|       4|2013-07-25 00:00:...|         CLOSED|              150.0|\n",
      "|       4|2013-07-25 00:00:...|         CLOSED|             199.92|\n",
      "|       5|2013-07-25 00:00:...|       COMPLETE|             299.98|\n",
      "|       5|2013-07-25 00:00:...|       COMPLETE|             299.95|\n",
      "|       5|2013-07-25 00:00:...|       COMPLETE|              99.96|\n",
      "|       5|2013-07-25 00:00:...|       COMPLETE|             299.98|\n",
      "|       5|2013-07-25 00:00:...|       COMPLETE|             129.99|\n",
      "|       7|2013-07-25 00:00:...|       COMPLETE|             199.99|\n",
      "|       7|2013-07-25 00:00:...|       COMPLETE|             299.98|\n",
      "|       7|2013-07-25 00:00:...|       COMPLETE|              79.95|\n",
      "|       8|2013-07-25 00:00:...|     PROCESSING|             179.97|\n",
      "|       8|2013-07-25 00:00:...|     PROCESSING|             299.95|\n",
      "|       8|2013-07-25 00:00:...|     PROCESSING|             199.92|\n",
      "|       8|2013-07-25 00:00:...|     PROCESSING|               50.0|\n",
      "+--------+--------------------+---------------+-------------------+\n",
      "only showing top 20 rows\n",
      "\n"
     ]
    }
   ],
   "source": [
    "orders. \\\n",
    "    join(\n",
    "        order_items, \n",
    "        orders['order_id'] == order_items['order_item_order_id']\n",
    "    ). \\\n",
    "    select(orders.order_id, orders.order_date, orders.order_status, order_items.order_item_subtotal). \\\n",
    "    show()"
   ]
  },
  {
   "cell_type": "code",
   "execution_count": 19,
   "metadata": {},
   "outputs": [
    {
     "name": "stdout",
     "output_type": "stream",
     "text": [
      "+--------+--------------------+---------------+-------------------+\n",
      "|order_id|          order_date|   order_status|order_item_subtotal|\n",
      "+--------+--------------------+---------------+-------------------+\n",
      "|       1|2013-07-25 00:00:...|         CLOSED|             299.98|\n",
      "|       2|2013-07-25 00:00:...|PENDING_PAYMENT|             199.99|\n",
      "|       2|2013-07-25 00:00:...|PENDING_PAYMENT|              250.0|\n",
      "|       2|2013-07-25 00:00:...|PENDING_PAYMENT|             129.99|\n",
      "|       4|2013-07-25 00:00:...|         CLOSED|              49.98|\n",
      "|       4|2013-07-25 00:00:...|         CLOSED|             299.95|\n",
      "|       4|2013-07-25 00:00:...|         CLOSED|              150.0|\n",
      "|       4|2013-07-25 00:00:...|         CLOSED|             199.92|\n",
      "|       5|2013-07-25 00:00:...|       COMPLETE|             299.98|\n",
      "|       5|2013-07-25 00:00:...|       COMPLETE|             299.95|\n",
      "|       5|2013-07-25 00:00:...|       COMPLETE|              99.96|\n",
      "|       5|2013-07-25 00:00:...|       COMPLETE|             299.98|\n",
      "|       5|2013-07-25 00:00:...|       COMPLETE|             129.99|\n",
      "|       7|2013-07-25 00:00:...|       COMPLETE|             199.99|\n",
      "|       7|2013-07-25 00:00:...|       COMPLETE|             299.98|\n",
      "|       7|2013-07-25 00:00:...|       COMPLETE|              79.95|\n",
      "|       8|2013-07-25 00:00:...|     PROCESSING|             179.97|\n",
      "|       8|2013-07-25 00:00:...|     PROCESSING|             299.95|\n",
      "|       8|2013-07-25 00:00:...|     PROCESSING|             199.92|\n",
      "|       8|2013-07-25 00:00:...|     PROCESSING|               50.0|\n",
      "+--------+--------------------+---------------+-------------------+\n",
      "only showing top 20 rows\n",
      "\n"
     ]
    }
   ],
   "source": [
    "orders. \\\n",
    "    join(\n",
    "        order_items, \n",
    "        on=orders['order_id'] == order_items['order_item_order_id']\n",
    "    ). \\\n",
    "    select(orders['order_id'], orders['order_date'], orders['order_status'], order_items['order_item_subtotal']). \\\n",
    "    show()"
   ]
  }
 ],
 "metadata": {
  "kernelspec": {
   "display_name": "Python 3",
   "language": "python",
   "name": "python3"
  },
  "language_info": {
   "codemirror_mode": {
    "name": "ipython",
    "version": 3
   },
   "file_extension": ".py",
   "mimetype": "text/x-python",
   "name": "python",
   "nbconvert_exporter": "python",
   "pygments_lexer": "ipython3",
   "version": "3.6.9"
  }
 },
 "nbformat": 4,
 "nbformat_minor": 4
}
