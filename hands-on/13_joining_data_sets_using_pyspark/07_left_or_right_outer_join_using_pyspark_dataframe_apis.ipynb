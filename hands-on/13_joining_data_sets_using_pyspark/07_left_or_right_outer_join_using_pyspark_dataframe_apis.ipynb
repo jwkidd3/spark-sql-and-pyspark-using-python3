{
 "cells": [
  {
   "cell_type": "markdown",
   "metadata": {},
   "source": [
    "## Left or Right Outer Join\n",
    "\n",
    "Let us understand about left or right outer join using Spark."
   ]
  },
  {
   "cell_type": "markdown",
   "metadata": {},
   "source": [
    "* Many times we want to get the data from both the data sets satisfying the join condition along with the data from the driving table which does not satisfy the join condition.\n",
    "* We can use either left or right outer join to perform outer join to fulfill our requirements.\n",
    "* Here is one of the classic example.\n",
    "  * We have customers data in customers folder or table and orders data in orders folder or table.\n",
    "  * There is one to many relationship between customers and orders.\n",
    "  * There might be customers who never placed any orders.\n",
    "  * We might want to get the revenue or number of orders placed by customers. \n",
    "  * In case, if we need to display count or revenue as 0 for such customers - we need to perform outer join between customers and orders with customers as driving table."
   ]
  },
  {
   "cell_type": "markdown",
   "metadata": {},
   "source": [
    "Let us start spark context for this Notebook so that we can execute the code provided. You can sign up for our [10 node state of the art cluster/labs](https://labs.spark.com/plans) to learn Spark SQL using our unique integrated LMS."
   ]
  },
  {
   "cell_type": "code",
   "execution_count": 1,
   "metadata": {},
   "outputs": [],
   "source": [
    "from pyspark.sql import SparkSession\n",
    "\n",
    "import getpass\n",
    "username = getpass.getuser()\n",
    "\n",
    "spark = SparkSession. \\\n",
    "    builder. \\\n",
    "    config('spark.ui.port', '0'). \\\n",
    "    config(\"spark.sql.warehouse.dir\", f\"/user/{username}/warehouse\"). \\\n",
    "    enableHiveSupport(). \\\n",
    "    appName(f'{username} | Python - Joining Data Sets'). \\\n",
    "    master('yarn'). \\\n",
    "    getOrCreate()"
   ]
  },
  {
   "cell_type": "markdown",
   "metadata": {},
   "source": [
    "If you are going to use CLIs, you can use Spark SQL using one of the 3 approaches.\n",
    "\n",
    "**Using Spark SQL**\n",
    "\n",
    "```\n",
    "spark2-sql \\\n",
    "    --master yarn \\\n",
    "    --conf spark.ui.port=0 \\\n",
    "    --conf spark.sql.warehouse.dir=/user/${USER}/warehouse\n",
    "```\n",
    "\n",
    "**Using Scala**\n",
    "\n",
    "```\n",
    "spark2-shell \\\n",
    "    --master yarn \\\n",
    "    --conf spark.ui.port=0 \\\n",
    "    --conf spark.sql.warehouse.dir=/user/${USER}/warehouse\n",
    "```\n",
    "\n",
    "**Using Pyspark**\n",
    "\n",
    "```\n",
    "pyspark2 \\\n",
    "    --master yarn \\\n",
    "    --conf spark.ui.port=0 \\\n",
    "    --conf spark.sql.warehouse.dir=/user/${USER}/warehouse\n",
    "```"
   ]
  },
  {
   "cell_type": "markdown",
   "metadata": {},
   "source": [
    "* Perform outer join between customers and orders and get the count to compare with inner join count."
   ]
  },
  {
   "cell_type": "code",
   "execution_count": 2,
   "metadata": {},
   "outputs": [],
   "source": [
    "spark.conf.set(\"spark.sql.shuffle.partitions\", \"2\")"
   ]
  },
  {
   "cell_type": "code",
   "execution_count": 3,
   "metadata": {},
   "outputs": [],
   "source": [
    "orders = spark.read.json('/public/retail_db_json/orders')"
   ]
  },
  {
   "cell_type": "code",
   "execution_count": 4,
   "metadata": {},
   "outputs": [],
   "source": [
    "customers = spark.read.json('/public/retail_db_json/customers')"
   ]
  },
  {
   "cell_type": "code",
   "execution_count": 5,
   "metadata": {},
   "outputs": [
    {
     "name": "stdout",
     "output_type": "stream",
     "text": [
      "root\n",
      " |-- order_customer_id: long (nullable = true)\n",
      " |-- order_date: string (nullable = true)\n",
      " |-- order_id: long (nullable = true)\n",
      " |-- order_status: string (nullable = true)\n",
      "\n"
     ]
    }
   ],
   "source": [
    "orders.printSchema()"
   ]
  },
  {
   "cell_type": "code",
   "execution_count": 6,
   "metadata": {},
   "outputs": [
    {
     "name": "stdout",
     "output_type": "stream",
     "text": [
      "root\n",
      " |-- customer_city: string (nullable = true)\n",
      " |-- customer_email: string (nullable = true)\n",
      " |-- customer_fname: string (nullable = true)\n",
      " |-- customer_id: long (nullable = true)\n",
      " |-- customer_lname: string (nullable = true)\n",
      " |-- customer_password: string (nullable = true)\n",
      " |-- customer_state: string (nullable = true)\n",
      " |-- customer_street: string (nullable = true)\n",
      " |-- customer_zipcode: string (nullable = true)\n",
      "\n"
     ]
    }
   ],
   "source": [
    "customers.printSchema()"
   ]
  },
  {
   "cell_type": "code",
   "execution_count": 7,
   "metadata": {},
   "outputs": [
    {
     "name": "stdout",
     "output_type": "stream",
     "text": [
      "Help on method join in module pyspark.sql.dataframe:\n",
      "\n",
      "join(other, on=None, how=None) method of pyspark.sql.dataframe.DataFrame instance\n",
      "    Joins with another :class:`DataFrame`, using the given join expression.\n",
      "    \n",
      "    :param other: Right side of the join\n",
      "    :param on: a string for the join column name, a list of column names,\n",
      "        a join expression (Column), or a list of Columns.\n",
      "        If `on` is a string or a list of strings indicating the name of the join column(s),\n",
      "        the column(s) must exist on both sides, and this performs an equi-join.\n",
      "    :param how: str, default ``inner``. Must be one of: ``inner``, ``cross``, ``outer``,\n",
      "        ``full``, ``full_outer``, ``left``, ``left_outer``, ``right``, ``right_outer``,\n",
      "        ``left_semi``, and ``left_anti``.\n",
      "    \n",
      "    The following performs a full outer join between ``df1`` and ``df2``.\n",
      "    \n",
      "    >>> df.join(df2, df.name == df2.name, 'outer').select(df.name, df2.height).collect()\n",
      "    [Row(name=None, height=80), Row(name='Bob', height=85), Row(name='Alice', height=None)]\n",
      "    \n",
      "    >>> df.join(df2, 'name', 'outer').select('name', 'height').collect()\n",
      "    [Row(name='Tom', height=80), Row(name='Bob', height=85), Row(name='Alice', height=None)]\n",
      "    \n",
      "    >>> cond = [df.name == df3.name, df.age == df3.age]\n",
      "    >>> df.join(df3, cond, 'outer').select(df.name, df3.age).collect()\n",
      "    [Row(name='Alice', age=2), Row(name='Bob', age=5)]\n",
      "    \n",
      "    >>> df.join(df2, 'name').select(df.name, df2.height).collect()\n",
      "    [Row(name='Bob', height=85)]\n",
      "    \n",
      "    >>> df.join(df4, ['name', 'age']).select(df.name, df.age).collect()\n",
      "    [Row(name='Bob', age=5)]\n",
      "    \n",
      "    .. versionadded:: 1.3\n",
      "\n"
     ]
    }
   ],
   "source": [
    "help(customers.join)"
   ]
  },
  {
   "cell_type": "code",
   "execution_count": 8,
   "metadata": {},
   "outputs": [],
   "source": [
    "customer_order_details = customers.join(\n",
    "    orders, \n",
    "    on=customers['customer_id'] == orders['order_customer_id'],\n",
    "    how='inner'\n",
    ")"
   ]
  },
  {
   "cell_type": "code",
   "execution_count": 9,
   "metadata": {},
   "outputs": [
    {
     "data": {
      "text/plain": [
       "68883"
      ]
     },
     "execution_count": 9,
     "metadata": {},
     "output_type": "execute_result"
    }
   ],
   "source": [
    "orders.count()"
   ]
  },
  {
   "cell_type": "code",
   "execution_count": 10,
   "metadata": {},
   "outputs": [
    {
     "data": {
      "text/plain": [
       "68883"
      ]
     },
     "execution_count": 10,
     "metadata": {},
     "output_type": "execute_result"
    }
   ],
   "source": [
    "customer_order_details.count()"
   ]
  },
  {
   "cell_type": "code",
   "execution_count": 11,
   "metadata": {},
   "outputs": [],
   "source": [
    "customer_order_details_left = customers.join(\n",
    "    orders, \n",
    "    on=customers['customer_id'] == orders['order_customer_id'],\n",
    "    how='left'\n",
    ")"
   ]
  },
  {
   "cell_type": "code",
   "execution_count": 12,
   "metadata": {},
   "outputs": [],
   "source": [
    "customer_order_details_left = customers.join(\n",
    "    orders, \n",
    "    on=customers['customer_id'] == orders['order_customer_id'],\n",
    "    how='left_outer'\n",
    ")"
   ]
  },
  {
   "cell_type": "code",
   "execution_count": 13,
   "metadata": {},
   "outputs": [
    {
     "name": "stdout",
     "output_type": "stream",
     "text": [
      "root\n",
      " |-- customer_city: string (nullable = true)\n",
      " |-- customer_email: string (nullable = true)\n",
      " |-- customer_fname: string (nullable = true)\n",
      " |-- customer_id: long (nullable = true)\n",
      " |-- customer_lname: string (nullable = true)\n",
      " |-- customer_password: string (nullable = true)\n",
      " |-- customer_state: string (nullable = true)\n",
      " |-- customer_street: string (nullable = true)\n",
      " |-- customer_zipcode: string (nullable = true)\n",
      " |-- order_customer_id: long (nullable = true)\n",
      " |-- order_date: string (nullable = true)\n",
      " |-- order_id: long (nullable = true)\n",
      " |-- order_status: string (nullable = true)\n",
      "\n"
     ]
    }
   ],
   "source": [
    "customer_order_details_left.printSchema()"
   ]
  },
  {
   "cell_type": "code",
   "execution_count": 14,
   "metadata": {},
   "outputs": [
    {
     "data": {
      "text/plain": [
       "68913"
      ]
     },
     "execution_count": 14,
     "metadata": {},
     "output_type": "execute_result"
    }
   ],
   "source": [
    "customer_order_details_left.count()"
   ]
  },
  {
   "cell_type": "code",
   "execution_count": 15,
   "metadata": {},
   "outputs": [],
   "source": [
    "customer_order_details_right = orders.join(\n",
    "    customers, \n",
    "    on=customers['customer_id'] == orders['order_customer_id'],\n",
    "    how='right'\n",
    ")"
   ]
  },
  {
   "cell_type": "code",
   "execution_count": 16,
   "metadata": {},
   "outputs": [
    {
     "data": {
      "text/plain": [
       "68913"
      ]
     },
     "execution_count": 16,
     "metadata": {},
     "output_type": "execute_result"
    }
   ],
   "source": [
    "customer_order_details_right.count()"
   ]
  },
  {
   "cell_type": "code",
   "execution_count": 17,
   "metadata": {},
   "outputs": [
    {
     "name": "stdout",
     "output_type": "stream",
     "text": [
      "root\n",
      " |-- order_customer_id: long (nullable = true)\n",
      " |-- order_date: string (nullable = true)\n",
      " |-- order_id: long (nullable = true)\n",
      " |-- order_status: string (nullable = true)\n",
      " |-- customer_city: string (nullable = true)\n",
      " |-- customer_email: string (nullable = true)\n",
      " |-- customer_fname: string (nullable = true)\n",
      " |-- customer_id: long (nullable = true)\n",
      " |-- customer_lname: string (nullable = true)\n",
      " |-- customer_password: string (nullable = true)\n",
      " |-- customer_state: string (nullable = true)\n",
      " |-- customer_street: string (nullable = true)\n",
      " |-- customer_zipcode: string (nullable = true)\n",
      "\n"
     ]
    }
   ],
   "source": [
    "customer_order_details_right.printSchema()"
   ]
  },
  {
   "cell_type": "code",
   "execution_count": 18,
   "metadata": {},
   "outputs": [
    {
     "name": "stdout",
     "output_type": "stream",
     "text": [
      "+-----------+--------------+-----------------+--------------------+--------+---------------+\n",
      "|customer_id|customer_email|order_customer_id|          order_date|order_id|   order_status|\n",
      "+-----------+--------------+-----------------+--------------------+--------+---------------+\n",
      "|          1|     XXXXXXXXX|                1|2013-12-13 00:00:...|   22945|       COMPLETE|\n",
      "|          2|     XXXXXXXXX|                2|2013-11-30 00:00:...|   67863|       COMPLETE|\n",
      "|          2|     XXXXXXXXX|                2|2013-08-02 00:00:...|   57963|        ON_HOLD|\n",
      "|          2|     XXXXXXXXX|                2|2014-02-18 00:00:...|   33865|       COMPLETE|\n",
      "|          2|     XXXXXXXXX|                2|2013-10-29 00:00:...|   15192|PENDING_PAYMENT|\n",
      "|          3|     XXXXXXXXX|                3|2013-12-14 00:00:...|   61453|       COMPLETE|\n",
      "|          3|     XXXXXXXXX|                3|2014-07-24 00:00:...|   57617|       COMPLETE|\n",
      "|          3|     XXXXXXXXX|                3|2014-07-15 00:00:...|   56178|        PENDING|\n",
      "|          3|     XXXXXXXXX|                3|2014-05-09 00:00:...|   46399|     PROCESSING|\n",
      "|          3|     XXXXXXXXX|                3|2014-02-26 00:00:...|   35158|       COMPLETE|\n",
      "|          3|     XXXXXXXXX|                3|2013-12-19 00:00:...|   23662|       COMPLETE|\n",
      "|          3|     XXXXXXXXX|                3|2013-12-11 00:00:...|   22646|       COMPLETE|\n",
      "|          4|     XXXXXXXXX|                4|2014-06-10 00:00:...|   51157|         CLOSED|\n",
      "|          4|     XXXXXXXXX|                4|2014-05-28 00:00:...|   49339|       COMPLETE|\n",
      "|          4|     XXXXXXXXX|                4|2014-03-15 00:00:...|   37878|       COMPLETE|\n",
      "|          4|     XXXXXXXXX|                4|2013-11-09 00:00:...|   17253|PENDING_PAYMENT|\n",
      "|          4|     XXXXXXXXX|                4|2013-09-24 00:00:...|    9704|       COMPLETE|\n",
      "|          4|     XXXXXXXXX|                4|2013-09-19 00:00:...|    9023|       COMPLETE|\n",
      "|          5|     XXXXXXXXX|                5|2014-05-05 00:00:...|   45832|PENDING_PAYMENT|\n",
      "|          5|     XXXXXXXXX|                5|2014-04-05 00:00:...|   41333|       COMPLETE|\n",
      "+-----------+--------------+-----------------+--------------------+--------+---------------+\n",
      "only showing top 20 rows\n",
      "\n"
     ]
    }
   ],
   "source": [
    "customer_order_details_left. \\\n",
    "    select(customers.customer_id, customers.customer_email, orders['*']). \\\n",
    "    show()"
   ]
  },
  {
   "cell_type": "code",
   "execution_count": 19,
   "metadata": {},
   "outputs": [
    {
     "data": {
      "text/plain": [
       "68883"
      ]
     },
     "execution_count": 19,
     "metadata": {},
     "output_type": "execute_result"
    }
   ],
   "source": [
    "orders.count()"
   ]
  },
  {
   "cell_type": "code",
   "execution_count": 20,
   "metadata": {},
   "outputs": [
    {
     "data": {
      "text/plain": [
       "12435"
      ]
     },
     "execution_count": 20,
     "metadata": {},
     "output_type": "execute_result"
    }
   ],
   "source": [
    "customers.count()"
   ]
  },
  {
   "cell_type": "code",
   "execution_count": 21,
   "metadata": {},
   "outputs": [
    {
     "data": {
      "text/plain": [
       "68883"
      ]
     },
     "execution_count": 21,
     "metadata": {},
     "output_type": "execute_result"
    }
   ],
   "source": [
    "customer_order_details.count()"
   ]
  },
  {
   "cell_type": "code",
   "execution_count": 22,
   "metadata": {},
   "outputs": [
    {
     "data": {
      "text/plain": [
       "68913"
      ]
     },
     "execution_count": 22,
     "metadata": {},
     "output_type": "execute_result"
    }
   ],
   "source": [
    "customer_order_details_left.count()"
   ]
  },
  {
   "cell_type": "markdown",
   "metadata": {},
   "source": [
    "* Using customer_order_details_left, get all the customers who never placed orders. We need to check, if orders primary key is null on the left or right outer join results."
   ]
  },
  {
   "cell_type": "code",
   "execution_count": 23,
   "metadata": {},
   "outputs": [
    {
     "name": "stdout",
     "output_type": "stream",
     "text": [
      "+-----------+--------------+-----------------+--------------------+--------+---------------+\n",
      "|customer_id|customer_email|order_customer_id|          order_date|order_id|   order_status|\n",
      "+-----------+--------------+-----------------+--------------------+--------+---------------+\n",
      "|          1|     XXXXXXXXX|                1|2013-12-13 00:00:...|   22945|       COMPLETE|\n",
      "|          2|     XXXXXXXXX|                2|2013-11-30 00:00:...|   67863|       COMPLETE|\n",
      "|          2|     XXXXXXXXX|                2|2013-08-02 00:00:...|   57963|        ON_HOLD|\n",
      "|          2|     XXXXXXXXX|                2|2014-02-18 00:00:...|   33865|       COMPLETE|\n",
      "|          2|     XXXXXXXXX|                2|2013-10-29 00:00:...|   15192|PENDING_PAYMENT|\n",
      "|          3|     XXXXXXXXX|                3|2013-12-14 00:00:...|   61453|       COMPLETE|\n",
      "|          3|     XXXXXXXXX|                3|2014-07-24 00:00:...|   57617|       COMPLETE|\n",
      "|          3|     XXXXXXXXX|                3|2014-07-15 00:00:...|   56178|        PENDING|\n",
      "|          3|     XXXXXXXXX|                3|2014-05-09 00:00:...|   46399|     PROCESSING|\n",
      "|          3|     XXXXXXXXX|                3|2014-02-26 00:00:...|   35158|       COMPLETE|\n",
      "|          3|     XXXXXXXXX|                3|2013-12-19 00:00:...|   23662|       COMPLETE|\n",
      "|          3|     XXXXXXXXX|                3|2013-12-11 00:00:...|   22646|       COMPLETE|\n",
      "|          4|     XXXXXXXXX|                4|2014-06-10 00:00:...|   51157|         CLOSED|\n",
      "|          4|     XXXXXXXXX|                4|2014-05-28 00:00:...|   49339|       COMPLETE|\n",
      "|          4|     XXXXXXXXX|                4|2014-03-15 00:00:...|   37878|       COMPLETE|\n",
      "|          4|     XXXXXXXXX|                4|2013-11-09 00:00:...|   17253|PENDING_PAYMENT|\n",
      "|          4|     XXXXXXXXX|                4|2013-09-24 00:00:...|    9704|       COMPLETE|\n",
      "|          4|     XXXXXXXXX|                4|2013-09-19 00:00:...|    9023|       COMPLETE|\n",
      "|          5|     XXXXXXXXX|                5|2014-05-05 00:00:...|   45832|PENDING_PAYMENT|\n",
      "|          5|     XXXXXXXXX|                5|2014-04-05 00:00:...|   41333|       COMPLETE|\n",
      "+-----------+--------------+-----------------+--------------------+--------+---------------+\n",
      "only showing top 20 rows\n",
      "\n"
     ]
    }
   ],
   "source": [
    "customer_order_details_left. \\\n",
    "    select(customers.customer_id, customers.customer_email, orders['*']). \\\n",
    "    show()"
   ]
  },
  {
   "cell_type": "code",
   "execution_count": 24,
   "metadata": {},
   "outputs": [
    {
     "name": "stdout",
     "output_type": "stream",
     "text": [
      "+-----------+--------------+-----------------+----------+--------+------------+\n",
      "|customer_id|customer_email|order_customer_id|order_date|order_id|order_status|\n",
      "+-----------+--------------+-----------------+----------+--------+------------+\n",
      "|        219|     XXXXXXXXX|             null|      null|    null|        null|\n",
      "|        339|     XXXXXXXXX|             null|      null|    null|        null|\n",
      "|        469|     XXXXXXXXX|             null|      null|    null|        null|\n",
      "|       1187|     XXXXXXXXX|             null|      null|    null|        null|\n",
      "|       1481|     XXXXXXXXX|             null|      null|    null|        null|\n",
      "|       1808|     XXXXXXXXX|             null|      null|    null|        null|\n",
      "|       2073|     XXXXXXXXX|             null|      null|    null|        null|\n",
      "|       2096|     XXXXXXXXX|             null|      null|    null|        null|\n",
      "|       2450|     XXXXXXXXX|             null|      null|    null|        null|\n",
      "|       4555|     XXXXXXXXX|             null|      null|    null|        null|\n",
      "|       4927|     XXXXXXXXX|             null|      null|    null|        null|\n",
      "|       6072|     XXXXXXXXX|             null|      null|    null|        null|\n",
      "|       6613|     XXXXXXXXX|             null|      null|    null|        null|\n",
      "|       7011|     XXXXXXXXX|             null|      null|    null|        null|\n",
      "|       7552|     XXXXXXXXX|             null|      null|    null|        null|\n",
      "|       8243|     XXXXXXXXX|             null|      null|    null|        null|\n",
      "|       8343|     XXXXXXXXX|             null|      null|    null|        null|\n",
      "|       8575|     XXXXXXXXX|             null|      null|    null|        null|\n",
      "|       8778|     XXXXXXXXX|             null|      null|    null|        null|\n",
      "|       8882|     XXXXXXXXX|             null|      null|    null|        null|\n",
      "+-----------+--------------+-----------------+----------+--------+------------+\n",
      "only showing top 20 rows\n",
      "\n"
     ]
    }
   ],
   "source": [
    "customer_order_details_left. \\\n",
    "    filter(orders.order_id.isNull()). \\\n",
    "    select(customers.customer_id, customers.customer_email, orders['*']). \\\n",
    "    show()"
   ]
  },
  {
   "cell_type": "code",
   "execution_count": 25,
   "metadata": {},
   "outputs": [
    {
     "data": {
      "text/plain": [
       "30"
      ]
     },
     "execution_count": 25,
     "metadata": {},
     "output_type": "execute_result"
    }
   ],
   "source": [
    "customer_order_details_left. \\\n",
    "    filter(orders.order_id.isNull()). \\\n",
    "    count()"
   ]
  },
  {
   "cell_type": "markdown",
   "metadata": {},
   "source": [
    "* Alternative approach of aliases to the dataframe as part of joins."
   ]
  },
  {
   "cell_type": "code",
   "execution_count": 26,
   "metadata": {},
   "outputs": [
    {
     "name": "stdout",
     "output_type": "stream",
     "text": [
      "+-----------+--------------+-----------------+----------+--------+------------+\n",
      "|customer_id|customer_email|order_customer_id|order_date|order_id|order_status|\n",
      "+-----------+--------------+-----------------+----------+--------+------------+\n",
      "|        219|     XXXXXXXXX|             null|      null|    null|        null|\n",
      "|        339|     XXXXXXXXX|             null|      null|    null|        null|\n",
      "|        469|     XXXXXXXXX|             null|      null|    null|        null|\n",
      "|       1187|     XXXXXXXXX|             null|      null|    null|        null|\n",
      "|       1481|     XXXXXXXXX|             null|      null|    null|        null|\n",
      "|       1808|     XXXXXXXXX|             null|      null|    null|        null|\n",
      "|       2073|     XXXXXXXXX|             null|      null|    null|        null|\n",
      "|       2096|     XXXXXXXXX|             null|      null|    null|        null|\n",
      "|       2450|     XXXXXXXXX|             null|      null|    null|        null|\n",
      "|       4555|     XXXXXXXXX|             null|      null|    null|        null|\n",
      "|       4927|     XXXXXXXXX|             null|      null|    null|        null|\n",
      "|       6072|     XXXXXXXXX|             null|      null|    null|        null|\n",
      "|       6613|     XXXXXXXXX|             null|      null|    null|        null|\n",
      "|       7011|     XXXXXXXXX|             null|      null|    null|        null|\n",
      "|       7552|     XXXXXXXXX|             null|      null|    null|        null|\n",
      "|       8243|     XXXXXXXXX|             null|      null|    null|        null|\n",
      "|       8343|     XXXXXXXXX|             null|      null|    null|        null|\n",
      "|       8575|     XXXXXXXXX|             null|      null|    null|        null|\n",
      "|       8778|     XXXXXXXXX|             null|      null|    null|        null|\n",
      "|       8882|     XXXXXXXXX|             null|      null|    null|        null|\n",
      "+-----------+--------------+-----------------+----------+--------+------------+\n",
      "only showing top 20 rows\n",
      "\n"
     ]
    }
   ],
   "source": [
    "customers. \\\n",
    "    alias('c'). \\\n",
    "    join(\n",
    "        orders.alias('o'), \n",
    "        on=customers['customer_id'] == orders['order_customer_id'],\n",
    "        how='left'\n",
    "    ). \\\n",
    "    filter('o.order_id IS NULL'). \\\n",
    "    selectExpr('c.customer_id', 'c.customer_email', 'o.*'). \\\n",
    "    show()"
   ]
  },
  {
   "cell_type": "code",
   "execution_count": 27,
   "metadata": {},
   "outputs": [
    {
     "data": {
      "text/plain": [
       "30"
      ]
     },
     "execution_count": 27,
     "metadata": {},
     "output_type": "execute_result"
    }
   ],
   "source": [
    "customers. \\\n",
    "    alias('c'). \\\n",
    "    join(\n",
    "        orders.alias('o'), \n",
    "        on=customers['customer_id'] == orders['order_customer_id'],\n",
    "        how='left'\n",
    "    ). \\\n",
    "    filter('o.order_id IS NULL'). \\\n",
    "    count()"
   ]
  },
  {
   "cell_type": "markdown",
   "metadata": {},
   "source": [
    "* Get the number of orders placed by each customer for the year 2013. If a customer have not placed any order get the order count for the customer as 0."
   ]
  },
  {
   "cell_type": "code",
   "execution_count": 28,
   "metadata": {},
   "outputs": [],
   "source": [
    "orders = spark.read.json('/public/retail_db_json/orders')"
   ]
  },
  {
   "cell_type": "code",
   "execution_count": 29,
   "metadata": {},
   "outputs": [],
   "source": [
    "customers = spark.read.json('/public/retail_db_json/customers')"
   ]
  },
  {
   "cell_type": "code",
   "execution_count": 30,
   "metadata": {},
   "outputs": [],
   "source": [
    "orders_filtered = orders.filter(\"order_date LIKE '2013%'\")"
   ]
  },
  {
   "cell_type": "code",
   "execution_count": 31,
   "metadata": {},
   "outputs": [],
   "source": [
    "customer_order_details_left = customers.alias('c'). \\\n",
    "    join(\n",
    "    orders_filtered.alias('o'), \n",
    "    on=customers['customer_id'] == orders_filtered['order_customer_id'],\n",
    "    how='left'\n",
    ")"
   ]
  },
  {
   "cell_type": "code",
   "execution_count": 32,
   "metadata": {},
   "outputs": [
    {
     "data": {
      "text/plain": [
       "30662"
      ]
     },
     "execution_count": 32,
     "metadata": {},
     "output_type": "execute_result"
    }
   ],
   "source": [
    "orders_filtered.count()"
   ]
  },
  {
   "cell_type": "code",
   "execution_count": 33,
   "metadata": {},
   "outputs": [
    {
     "data": {
      "text/plain": [
       "31746"
      ]
     },
     "execution_count": 33,
     "metadata": {},
     "output_type": "execute_result"
    }
   ],
   "source": [
    "customer_order_details_left.count()"
   ]
  },
  {
   "cell_type": "code",
   "execution_count": 34,
   "metadata": {},
   "outputs": [
    {
     "data": {
      "text/plain": [
       "11351"
      ]
     },
     "execution_count": 34,
     "metadata": {},
     "output_type": "execute_result"
    }
   ],
   "source": [
    "orders_filtered.select('order_customer_id').distinct().count()"
   ]
  },
  {
   "cell_type": "code",
   "execution_count": 35,
   "metadata": {},
   "outputs": [],
   "source": [
    "from pyspark.sql.functions import col, lit, expr, sum"
   ]
  },
  {
   "cell_type": "code",
   "execution_count": 36,
   "metadata": {},
   "outputs": [
    {
     "name": "stdout",
     "output_type": "stream",
     "text": [
      "+-----------+--------------+-----------+\n",
      "|customer_id|customer_email|order_count|\n",
      "+-----------+--------------+-----------+\n",
      "|         10|     XXXXXXXXX|          0|\n",
      "|         28|     XXXXXXXXX|          0|\n",
      "|         43|     XXXXXXXXX|          0|\n",
      "|         47|     XXXXXXXXX|          0|\n",
      "|         55|     XXXXXXXXX|          0|\n",
      "|         56|     XXXXXXXXX|          0|\n",
      "|         59|     XXXXXXXXX|          0|\n",
      "|         78|     XXXXXXXXX|          0|\n",
      "|         91|     XXXXXXXXX|          0|\n",
      "|         98|     XXXXXXXXX|          0|\n",
      "|        129|     XXXXXXXXX|          0|\n",
      "|        143|     XXXXXXXXX|          0|\n",
      "|        144|     XXXXXXXXX|          0|\n",
      "|        186|     XXXXXXXXX|          0|\n",
      "|        200|     XXXXXXXXX|          0|\n",
      "|        212|     XXXXXXXXX|          0|\n",
      "|        219|     XXXXXXXXX|          0|\n",
      "|        238|     XXXXXXXXX|          0|\n",
      "|        253|     XXXXXXXXX|          0|\n",
      "|        261|     XXXXXXXXX|          0|\n",
      "+-----------+--------------+-----------+\n",
      "only showing top 20 rows\n",
      "\n"
     ]
    }
   ],
   "source": [
    "customer_order_details_left. \\\n",
    "    groupBy('customer_id', 'customer_email'). \\\n",
    "    agg(sum(expr('CASE WHEN order_id IS NULL THEN 0 ELSE 1 END')).alias('order_count')). \\\n",
    "    orderBy('order_count', 'customer_id'). \\\n",
    "    show()"
   ]
  },
  {
   "cell_type": "code",
   "execution_count": 37,
   "metadata": {},
   "outputs": [
    {
     "data": {
      "text/plain": [
       "12435"
      ]
     },
     "execution_count": 37,
     "metadata": {},
     "output_type": "execute_result"
    }
   ],
   "source": [
    "customer_order_details_left. \\\n",
    "    groupBy('customer_id', 'customer_email'). \\\n",
    "    agg(sum(expr('CASE WHEN order_id IS NULL THEN 0 ELSE 1 END')).alias('order_count')). \\\n",
    "    orderBy('order_count', 'customer_id'). \\\n",
    "    count()"
   ]
  },
  {
   "cell_type": "code",
   "execution_count": 38,
   "metadata": {},
   "outputs": [
    {
     "data": {
      "text/plain": [
       "1084"
      ]
     },
     "execution_count": 38,
     "metadata": {},
     "output_type": "execute_result"
    }
   ],
   "source": [
    "customer_order_details_left.filter('order_id IS NULL').count()"
   ]
  },
  {
   "cell_type": "code",
   "execution_count": null,
   "metadata": {},
   "outputs": [],
   "source": []
  }
 ],
 "metadata": {
  "kernelspec": {
   "display_name": "Python 3 (ipykernel)",
   "language": "python",
   "name": "python3"
  },
  "language_info": {
   "codemirror_mode": {
    "name": "ipython",
    "version": 3
   },
   "file_extension": ".py",
   "mimetype": "text/x-python",
   "name": "python",
   "nbconvert_exporter": "python",
   "pygments_lexer": "ipython3",
   "version": "3.7.12"
  }
 },
 "nbformat": 4,
 "nbformat_minor": 4
}
