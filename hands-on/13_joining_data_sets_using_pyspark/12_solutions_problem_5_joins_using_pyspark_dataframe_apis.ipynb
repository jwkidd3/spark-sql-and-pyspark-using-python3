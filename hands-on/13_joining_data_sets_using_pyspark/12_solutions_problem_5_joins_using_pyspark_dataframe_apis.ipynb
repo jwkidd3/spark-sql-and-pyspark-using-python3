{
 "cells": [
  {
   "cell_type": "markdown",
   "metadata": {},
   "source": [
    "## Solutions - Problem 5\n",
    "\n",
    "Get the total number of flights departed from the airports in January 2008 that do not contain entries in airport-codes."
   ]
  },
  {
   "cell_type": "markdown",
   "metadata": {},
   "source": [
    "* This is an example for outer join.\n",
    "* We need to get number of flights from the 2008 January airtraffic data which do not have entries in airport-codes.\n",
    "* Based on the side of the airtraffic data set, we can say left or right. We will be invoking join using airtraffic and hence we will use left outer join..\n",
    "* We will be peforming join first and then we will aggregate to get number of flights from the concerned airports.\n",
    "* In this case will get total number of flights."
   ]
  },
  {
   "cell_type": "markdown",
   "metadata": {},
   "source": [
    "Let us start spark context for this Notebook so that we can execute the code provided. You can sign up for our [10 node state of the art cluster/labs](https://labs.spark.com/plans) to learn Spark SQL using our unique integrated LMS."
   ]
  },
  {
   "cell_type": "code",
   "execution_count": 1,
   "metadata": {},
   "outputs": [],
   "source": [
    "from pyspark.sql import SparkSession\n",
    "\n",
    "import getpass\n",
    "username = getpass.getuser()\n",
    "\n",
    "spark = SparkSession. \\\n",
    "    builder. \\\n",
    "    config('spark.ui.port', '0'). \\\n",
    "    config(\"spark.sql.warehouse.dir\", f\"/user/{username}/warehouse\"). \\\n",
    "    enableHiveSupport(). \\\n",
    "    appName(f'{username} | Python - Joining Data Sets'). \\\n",
    "    master('yarn'). \\\n",
    "    getOrCreate()"
   ]
  },
  {
   "cell_type": "markdown",
   "metadata": {},
   "source": [
    "If you are going to use CLIs, you can use Spark SQL using one of the 3 approaches.\n",
    "\n",
    "**Using Spark SQL**\n",
    "\n",
    "```\n",
    "spark2-sql \\\n",
    "    --master yarn \\\n",
    "    --conf spark.ui.port=0 \\\n",
    "    --conf spark.sql.warehouse.dir=/user/${USER}/warehouse\n",
    "```\n",
    "\n",
    "**Using Scala**\n",
    "\n",
    "```\n",
    "spark2-shell \\\n",
    "    --master yarn \\\n",
    "    --conf spark.ui.port=0 \\\n",
    "    --conf spark.sql.warehouse.dir=/user/${USER}/warehouse\n",
    "```\n",
    "\n",
    "**Using Pyspark**\n",
    "\n",
    "```\n",
    "pyspark2 \\\n",
    "    --master yarn \\\n",
    "    --conf spark.ui.port=0 \\\n",
    "    --conf spark.sql.warehouse.dir=/user/${USER}/warehouse\n",
    "```"
   ]
  },
  {
   "cell_type": "code",
   "execution_count": 2,
   "metadata": {},
   "outputs": [],
   "source": [
    "spark.conf.set(\"spark.sql.shuffle.partitions\", \"2\")"
   ]
  },
  {
   "cell_type": "code",
   "execution_count": 3,
   "metadata": {},
   "outputs": [],
   "source": [
    "airtrafficPath = \"/public/airtraffic_all/airtraffic-part/flightmonth=200801\""
   ]
  },
  {
   "cell_type": "code",
   "execution_count": 4,
   "metadata": {},
   "outputs": [],
   "source": [
    "airtraffic = spark. \\\n",
    "    read. \\\n",
    "    parquet(airtrafficPath)"
   ]
  },
  {
   "cell_type": "code",
   "execution_count": 5,
   "metadata": {},
   "outputs": [
    {
     "name": "stdout",
     "output_type": "stream",
     "text": [
      "+----+-----+----------+------+----+----------+\n",
      "|Year|Month|DayOfMonth|Origin|Dest|CRSDepTime|\n",
      "+----+-----+----------+------+----+----------+\n",
      "|2008|    1|        16|   BGR| CVG|      1735|\n",
      "|2008|    1|        17|   SYR| CVG|      1701|\n",
      "|2008|    1|        17|   SAV| BOS|      1225|\n",
      "|2008|    1|        17|   CVG| GRR|      1530|\n",
      "|2008|    1|        17|   STL| CVG|      1205|\n",
      "|2008|    1|        18|   STL| JFK|      1150|\n",
      "|2008|    1|        18|   MCI| CVG|      1009|\n",
      "|2008|    1|        19|   TUL| CVG|       835|\n",
      "|2008|    1|        20|   JFK| PHL|      1935|\n",
      "|2008|    1|        20|   RDU| CVG|       830|\n",
      "|2008|    1|        21|   CVG| DTW|      1640|\n",
      "|2008|    1|        21|   MSY| LGA|      1204|\n",
      "|2008|    1|        21|   JFK| PHL|      1935|\n",
      "|2008|    1|        21|   DCA| JFK|      1830|\n",
      "|2008|    1|        21|   HSV| DCA|       700|\n",
      "|2008|    1|        22|   ORD| CVG|      1910|\n",
      "|2008|    1|        22|   CVG| JFK|      1320|\n",
      "|2008|    1|        23|   LGA| SAV|       908|\n",
      "|2008|    1|        23|   CLT| CVG|      1252|\n",
      "|2008|    1|        23|   GSP| LGA|       635|\n",
      "+----+-----+----------+------+----+----------+\n",
      "only showing top 20 rows\n",
      "\n"
     ]
    }
   ],
   "source": [
    "airtraffic. \\\n",
    "    select(\n",
    "        \"Year\", \"Month\", \"DayOfMonth\", \n",
    "        \"Origin\", \"Dest\", \"CRSDepTime\"\n",
    "    ). \\\n",
    "    show()"
   ]
  },
  {
   "cell_type": "code",
   "execution_count": 6,
   "metadata": {},
   "outputs": [
    {
     "data": {
      "text/plain": [
       "605659"
      ]
     },
     "execution_count": 6,
     "metadata": {},
     "output_type": "execute_result"
    }
   ],
   "source": [
    "airtraffic.count()"
   ]
  },
  {
   "cell_type": "code",
   "execution_count": 7,
   "metadata": {},
   "outputs": [],
   "source": [
    "airportCodesPath = \"/public/airtraffic_all/airport-codes\""
   ]
  },
  {
   "cell_type": "code",
   "execution_count": 8,
   "metadata": {},
   "outputs": [],
   "source": [
    "def getValidAirportCodes(airportCodesPath):\n",
    "    airportCodes = spark. \\\n",
    "        read. \\\n",
    "        option(\"sep\", \"\\t\"). \\\n",
    "        option(\"header\", True). \\\n",
    "        option(\"inferSchema\", True). \\\n",
    "        csv(airportCodesPath). \\\n",
    "        filter(\"!(State = 'Hawaii' AND IATA = 'Big')\")\n",
    "    return airportCodes"
   ]
  },
  {
   "cell_type": "code",
   "execution_count": 9,
   "metadata": {},
   "outputs": [],
   "source": [
    "airportCodes = getValidAirportCodes(airportCodesPath)"
   ]
  },
  {
   "cell_type": "code",
   "execution_count": 10,
   "metadata": {},
   "outputs": [
    {
     "data": {
      "text/plain": [
       "524"
      ]
     },
     "execution_count": 10,
     "metadata": {},
     "output_type": "execute_result"
    }
   ],
   "source": [
    "airportCodes.count()"
   ]
  },
  {
   "cell_type": "code",
   "execution_count": 11,
   "metadata": {},
   "outputs": [
    {
     "name": "stdout",
     "output_type": "stream",
     "text": [
      "+----+-----+----------+------+----+----------+----+-----+-------+----+\n",
      "|Year|Month|DayOfMonth|Origin|Dest|CRSDepTime|City|State|Country|IATA|\n",
      "+----+-----+----------+------+----+----------+----+-----+-------+----+\n",
      "|2008|    1|         8|   HDN| DEN|      1403|null| null|   null|null|\n",
      "|2008|    1|        26|   HDN| DEN|      1533|null| null|   null|null|\n",
      "|2008|    1|        26|   SJU| CLT|      1520|null| null|   null|null|\n",
      "|2008|    1|        19|   SJU| ATL|       945|null| null|   null|null|\n",
      "|2008|    1|        31|   ITO| HNL|      1010|null| null|   null|null|\n",
      "|2008|    1|        26|   ITO| HNL|      1725|null| null|   null|null|\n",
      "|2008|    1|        24|   KOA| LAX|      2355|null| null|   null|null|\n",
      "|2008|    1|        22|   SJU| EWR|      1845|null| null|   null|null|\n",
      "|2008|    1|        21|   SJU| MIA|      1815|null| null|   null|null|\n",
      "|2008|    1|        26|   STT| MIA|       845|null| null|   null|null|\n",
      "|2008|    1|        11|   SJU| MIA|      1235|null| null|   null|null|\n",
      "|2008|    1|        31|   SJU| DFW|      1720|null| null|   null|null|\n",
      "|2008|    1|         5|   SJU| MIA|      2110|null| null|   null|null|\n",
      "|2008|    1|        30|   ITO| HNL|       915|null| null|   null|null|\n",
      "|2008|    1|         1|   KOA| HNL|      1245|null| null|   null|null|\n",
      "|2008|    1|         1|   KOA| HNL|      1030|null| null|   null|null|\n",
      "|2008|    1|        28|   ITO| HNL|      1153|null| null|   null|null|\n",
      "|2008|    1|         3|   OTZ| ANC|      1502|null| null|   null|null|\n",
      "|2008|    1|         8|   OTZ| OME|       829|null| null|   null|null|\n",
      "|2008|    1|        20|   SJU| JFK|      1245|null| null|   null|null|\n",
      "+----+-----+----------+------+----+----------+----+-----+-------+----+\n",
      "only showing top 20 rows\n",
      "\n"
     ]
    }
   ],
   "source": [
    "airtraffic. \\\n",
    "    join(airportCodes, airtraffic[\"Origin\"] == airportCodes[\"IATA\"], \"left\"). \\\n",
    "    filter(\"IATA IS NULL\"). \\\n",
    "    select(airtraffic[\"Year\"], airtraffic[\"Month\"], airtraffic[\"DayOfMonth\"], \n",
    "           airtraffic[\"Origin\"], airtraffic[\"Dest\"], airtraffic[\"CRSDepTime\"], \n",
    "           airportCodes[\"*\"]\n",
    "          ). \\\n",
    "    show()"
   ]
  },
  {
   "cell_type": "code",
   "execution_count": 12,
   "metadata": {},
   "outputs": [
    {
     "data": {
      "text/plain": [
       "5585"
      ]
     },
     "execution_count": 12,
     "metadata": {},
     "output_type": "execute_result"
    }
   ],
   "source": [
    "airtraffic. \\\n",
    "    join(airportCodes, airtraffic[\"Origin\"] == airportCodes[\"IATA\"], \"left\"). \\\n",
    "    filter(\"IATA IS NULL\"). \\\n",
    "    count()"
   ]
  },
  {
   "cell_type": "code",
   "execution_count": null,
   "metadata": {},
   "outputs": [],
   "source": []
  }
 ],
 "metadata": {
  "kernelspec": {
   "display_name": "Python 3 (ipykernel)",
   "language": "python",
   "name": "python3"
  },
  "language_info": {
   "codemirror_mode": {
    "name": "ipython",
    "version": 3
   },
   "file_extension": ".py",
   "mimetype": "text/x-python",
   "name": "python",
   "nbconvert_exporter": "python",
   "pygments_lexer": "ipython3",
   "version": "3.7.12"
  }
 },
 "nbformat": 4,
 "nbformat_minor": 4
}
