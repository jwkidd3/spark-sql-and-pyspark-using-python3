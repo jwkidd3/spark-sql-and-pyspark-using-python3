{
 "cells": [
  {
   "cell_type": "markdown",
   "metadata": {},
   "source": [
    "# Processing Column Data\n",
    "\n",
    "As part of this module we will explore the functions available under `org.apache.spark.sql.functions` to derive new values from existing column values with in a Data Frame.\n",
    "\n",
    "* Pre-defined Functions\n",
    "* Create Dummy Data Frame\n",
    "* Categories of Functions\n",
    "* Special Functions - col and lit\n",
    "* String Manipulation Functions - 1\n",
    "* String Manipulation Functions - 2\n",
    "* Date and Time Overview\n",
    "* Date and Time Arithmetic\n",
    "* Date and Time - trunc and date_trunc\n",
    "* Date and Time - Extracting Information\n",
    "* Dealing with Unix Timestamp\n",
    "* Example - Word Count\n",
    "* Conclusion"
   ]
  }
 ],
 "metadata": {
  "kernelspec": {
   "display_name": "Pyspark 2",
   "language": "python",
   "name": "pyspark2"
  },
  "language_info": {
   "codemirror_mode": {
    "name": "ipython",
    "version": 3
   },
   "file_extension": ".py",
   "mimetype": "text/x-python",
   "name": "python",
   "nbconvert_exporter": "python",
   "pygments_lexer": "ipython3",
   "version": "3.6.9"
  },
  "name": "04 Processing Column Data",
  "notebookId": 2221802076484304,
  "pycharm": {
   "stem_cell": {
    "cell_type": "raw",
    "metadata": {
     "collapsed": false
    },
    "source": [
     "\n",
     "\n",
     "\n"
    ]
   }
  }
 },
 "nbformat": 4,
 "nbformat_minor": 4
}
