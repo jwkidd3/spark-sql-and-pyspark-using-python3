{
 "cells": [
  {
   "cell_type": "markdown",
   "metadata": {},
   "source": [
    "## Pre-defined Functions\n",
    "\n",
    "We typically process data in the columns using functions in `pyspark.sql.functions`. Let us understand details about these functions in detail as part of this module."
   ]
  },
  {
   "cell_type": "markdown",
   "metadata": {},
   "source": [
    "* Let us recap about Functions or APIs to process Data Frames.\n",
    " * Projection - `select` or `withColumn` or `drop` or `selectExpr`\n",
    " * Filtering - `filter` or `where`\n",
    " * Grouping data by key and perform aggregations - `groupBy`\n",
    " * Sorting data - `sort` or `orderBy` \n",
    "* We can pass column names or literals or expressions to all the Data Frame APIs.\n",
    "* Expressions include arithmetic operations, transformations using functions from `pyspark.sql.functions`.\n",
    "* There are approximately 300 functions under `pyspark.sql.functions`.\n",
    "* We will talk about some of the important functions used for String Manipulation, Date Manipulation etc."
   ]
  },
  {
   "cell_type": "markdown",
   "metadata": {},
   "source": [
    "Let us start spark context for this Notebook so that we can execute the code provided. You can sign up for our [10 node state of the art cluster/labs](https://labs.spark.com/plans) to learn Spark SQL using our unique integrated LMS."
   ]
  },
  {
   "cell_type": "code",
   "execution_count": 1,
   "metadata": {},
   "outputs": [],
   "source": [
    "from pyspark.sql import SparkSession\n",
    "\n",
    "import getpass\n",
    "username = getpass.getuser()\n",
    "\n",
    "spark = SparkSession. \\\n",
    "    builder. \\\n",
    "    config('spark.ui.port', '0'). \\\n",
    "    config(\"spark.sql.warehouse.dir\", f\"/user/{username}/warehouse\"). \\\n",
    "    enableHiveSupport(). \\\n",
    "    appName(f'{username} | Python - Processing Column Data'). \\\n",
    "    master('yarn'). \\\n",
    "    getOrCreate()"
   ]
  },
  {
   "cell_type": "markdown",
   "metadata": {},
   "source": [
    "If you are going to use CLIs, you can use Spark SQL using one of the 3 approaches.\n",
    "\n",
    "**Using Spark SQL**\n",
    "\n",
    "```\n",
    "spark2-sql \\\n",
    "    --master yarn \\\n",
    "    --conf spark.ui.port=0 \\\n",
    "    --conf spark.sql.warehouse.dir=/user/${USER}/warehouse\n",
    "```\n",
    "\n",
    "**Using Scala**\n",
    "\n",
    "```\n",
    "spark2-shell \\\n",
    "    --master yarn \\\n",
    "    --conf spark.ui.port=0 \\\n",
    "    --conf spark.sql.warehouse.dir=/user/${USER}/warehouse\n",
    "```\n",
    "\n",
    "**Using Pyspark**\n",
    "\n",
    "```\n",
    "pyspark2 \\\n",
    "    --master yarn \\\n",
    "    --conf spark.ui.port=0 \\\n",
    "    --conf spark.sql.warehouse.dir=/user/${USER}/warehouse\n",
    "```"
   ]
  },
  {
   "cell_type": "markdown",
   "metadata": {},
   "source": [
    "* Here are some of the examples of using functions to take care of required transformations."
   ]
  },
  {
   "cell_type": "code",
   "execution_count": 5,
   "metadata": {},
   "outputs": [],
   "source": [
    "# Reading data\n",
    "\n",
    "orders = spark.read.csv(\n",
    "    '/public/retail_db/orders',\n",
    "    schema='order_id INT, order_date STRING, order_customer_id INT, order_status STRING'\n",
    ")"
   ]
  },
  {
   "cell_type": "code",
   "execution_count": 6,
   "metadata": {},
   "outputs": [],
   "source": [
    "# Importing functions\n",
    "\n",
    "from pyspark.sql.functions import date_format"
   ]
  },
  {
   "cell_type": "code",
   "execution_count": 7,
   "metadata": {},
   "outputs": [
    {
     "name": "stdout",
     "output_type": "stream",
     "text": [
      "+--------+--------------------+-----------------+---------------+\n",
      "|order_id|          order_date|order_customer_id|   order_status|\n",
      "+--------+--------------------+-----------------+---------------+\n",
      "|       1|2013-07-25 00:00:...|            11599|         CLOSED|\n",
      "|       2|2013-07-25 00:00:...|              256|PENDING_PAYMENT|\n",
      "|       3|2013-07-25 00:00:...|            12111|       COMPLETE|\n",
      "|       4|2013-07-25 00:00:...|             8827|         CLOSED|\n",
      "|       5|2013-07-25 00:00:...|            11318|       COMPLETE|\n",
      "|       6|2013-07-25 00:00:...|             7130|       COMPLETE|\n",
      "|       7|2013-07-25 00:00:...|             4530|       COMPLETE|\n",
      "|       8|2013-07-25 00:00:...|             2911|     PROCESSING|\n",
      "|       9|2013-07-25 00:00:...|             5657|PENDING_PAYMENT|\n",
      "|      10|2013-07-25 00:00:...|             5648|PENDING_PAYMENT|\n",
      "|      11|2013-07-25 00:00:...|              918| PAYMENT_REVIEW|\n",
      "|      12|2013-07-25 00:00:...|             1837|         CLOSED|\n",
      "|      13|2013-07-25 00:00:...|             9149|PENDING_PAYMENT|\n",
      "|      14|2013-07-25 00:00:...|             9842|     PROCESSING|\n",
      "|      15|2013-07-25 00:00:...|             2568|       COMPLETE|\n",
      "|      16|2013-07-25 00:00:...|             7276|PENDING_PAYMENT|\n",
      "|      17|2013-07-25 00:00:...|             2667|       COMPLETE|\n",
      "|      18|2013-07-25 00:00:...|             1205|         CLOSED|\n",
      "|      19|2013-07-25 00:00:...|             9488|PENDING_PAYMENT|\n",
      "|      20|2013-07-25 00:00:...|             9198|     PROCESSING|\n",
      "+--------+--------------------+-----------------+---------------+\n",
      "only showing top 20 rows\n",
      "\n"
     ]
    }
   ],
   "source": [
    "orders.show()"
   ]
  },
  {
   "cell_type": "code",
   "execution_count": 8,
   "metadata": {},
   "outputs": [
    {
     "name": "stdout",
     "output_type": "stream",
     "text": [
      "root\n",
      " |-- order_id: integer (nullable = true)\n",
      " |-- order_date: string (nullable = true)\n",
      " |-- order_customer_id: integer (nullable = true)\n",
      " |-- order_status: string (nullable = true)\n",
      "\n"
     ]
    }
   ],
   "source": [
    "orders.printSchema()"
   ]
  },
  {
   "cell_type": "code",
   "execution_count": 9,
   "metadata": {},
   "outputs": [
    {
     "name": "stdout",
     "output_type": "stream",
     "text": [
      "+--------+--------------------+-----------------+---------------+-----------+\n",
      "|order_id|          order_date|order_customer_id|   order_status|order_month|\n",
      "+--------+--------------------+-----------------+---------------+-----------+\n",
      "|       1|2013-07-25 00:00:...|            11599|         CLOSED|     201307|\n",
      "|       2|2013-07-25 00:00:...|              256|PENDING_PAYMENT|     201307|\n",
      "|       3|2013-07-25 00:00:...|            12111|       COMPLETE|     201307|\n",
      "|       4|2013-07-25 00:00:...|             8827|         CLOSED|     201307|\n",
      "|       5|2013-07-25 00:00:...|            11318|       COMPLETE|     201307|\n",
      "|       6|2013-07-25 00:00:...|             7130|       COMPLETE|     201307|\n",
      "|       7|2013-07-25 00:00:...|             4530|       COMPLETE|     201307|\n",
      "|       8|2013-07-25 00:00:...|             2911|     PROCESSING|     201307|\n",
      "|       9|2013-07-25 00:00:...|             5657|PENDING_PAYMENT|     201307|\n",
      "|      10|2013-07-25 00:00:...|             5648|PENDING_PAYMENT|     201307|\n",
      "|      11|2013-07-25 00:00:...|              918| PAYMENT_REVIEW|     201307|\n",
      "|      12|2013-07-25 00:00:...|             1837|         CLOSED|     201307|\n",
      "|      13|2013-07-25 00:00:...|             9149|PENDING_PAYMENT|     201307|\n",
      "|      14|2013-07-25 00:00:...|             9842|     PROCESSING|     201307|\n",
      "|      15|2013-07-25 00:00:...|             2568|       COMPLETE|     201307|\n",
      "|      16|2013-07-25 00:00:...|             7276|PENDING_PAYMENT|     201307|\n",
      "|      17|2013-07-25 00:00:...|             2667|       COMPLETE|     201307|\n",
      "|      18|2013-07-25 00:00:...|             1205|         CLOSED|     201307|\n",
      "|      19|2013-07-25 00:00:...|             9488|PENDING_PAYMENT|     201307|\n",
      "|      20|2013-07-25 00:00:...|             9198|     PROCESSING|     201307|\n",
      "+--------+--------------------+-----------------+---------------+-----------+\n",
      "only showing top 20 rows\n",
      "\n"
     ]
    }
   ],
   "source": [
    "# Function as part of projections\n",
    "\n",
    "orders.select('*', date_format('order_date', 'yyyyMM').alias('order_month')).show()"
   ]
  },
  {
   "cell_type": "code",
   "execution_count": 10,
   "metadata": {},
   "outputs": [
    {
     "name": "stdout",
     "output_type": "stream",
     "text": [
      "+--------+--------------------+-----------------+---------------+-----------+\n",
      "|order_id|          order_date|order_customer_id|   order_status|order_month|\n",
      "+--------+--------------------+-----------------+---------------+-----------+\n",
      "|       1|2013-07-25 00:00:...|            11599|         CLOSED|     201307|\n",
      "|       2|2013-07-25 00:00:...|              256|PENDING_PAYMENT|     201307|\n",
      "|       3|2013-07-25 00:00:...|            12111|       COMPLETE|     201307|\n",
      "|       4|2013-07-25 00:00:...|             8827|         CLOSED|     201307|\n",
      "|       5|2013-07-25 00:00:...|            11318|       COMPLETE|     201307|\n",
      "|       6|2013-07-25 00:00:...|             7130|       COMPLETE|     201307|\n",
      "|       7|2013-07-25 00:00:...|             4530|       COMPLETE|     201307|\n",
      "|       8|2013-07-25 00:00:...|             2911|     PROCESSING|     201307|\n",
      "|       9|2013-07-25 00:00:...|             5657|PENDING_PAYMENT|     201307|\n",
      "|      10|2013-07-25 00:00:...|             5648|PENDING_PAYMENT|     201307|\n",
      "|      11|2013-07-25 00:00:...|              918| PAYMENT_REVIEW|     201307|\n",
      "|      12|2013-07-25 00:00:...|             1837|         CLOSED|     201307|\n",
      "|      13|2013-07-25 00:00:...|             9149|PENDING_PAYMENT|     201307|\n",
      "|      14|2013-07-25 00:00:...|             9842|     PROCESSING|     201307|\n",
      "|      15|2013-07-25 00:00:...|             2568|       COMPLETE|     201307|\n",
      "|      16|2013-07-25 00:00:...|             7276|PENDING_PAYMENT|     201307|\n",
      "|      17|2013-07-25 00:00:...|             2667|       COMPLETE|     201307|\n",
      "|      18|2013-07-25 00:00:...|             1205|         CLOSED|     201307|\n",
      "|      19|2013-07-25 00:00:...|             9488|PENDING_PAYMENT|     201307|\n",
      "|      20|2013-07-25 00:00:...|             9198|     PROCESSING|     201307|\n",
      "+--------+--------------------+-----------------+---------------+-----------+\n",
      "only showing top 20 rows\n",
      "\n"
     ]
    }
   ],
   "source": [
    "orders.withColumn('order_month', date_format('order_date', 'yyyyMM')).show()"
   ]
  },
  {
   "cell_type": "code",
   "execution_count": 11,
   "metadata": {},
   "outputs": [
    {
     "name": "stdout",
     "output_type": "stream",
     "text": [
      "+--------+--------------------+-----------------+---------------+\n",
      "|order_id|          order_date|order_customer_id|   order_status|\n",
      "+--------+--------------------+-----------------+---------------+\n",
      "|   25876|2014-01-01 00:00:...|             3414|PENDING_PAYMENT|\n",
      "|   25877|2014-01-01 00:00:...|             5549|PENDING_PAYMENT|\n",
      "|   25878|2014-01-01 00:00:...|             9084|        PENDING|\n",
      "|   25879|2014-01-01 00:00:...|             5118|        PENDING|\n",
      "|   25880|2014-01-01 00:00:...|            10146|       CANCELED|\n",
      "|   25881|2014-01-01 00:00:...|             3205|PENDING_PAYMENT|\n",
      "|   25882|2014-01-01 00:00:...|             4598|       COMPLETE|\n",
      "|   25883|2014-01-01 00:00:...|            11764|        PENDING|\n",
      "|   25884|2014-01-01 00:00:...|             7904|PENDING_PAYMENT|\n",
      "|   25885|2014-01-01 00:00:...|             7253|        PENDING|\n",
      "|   25886|2014-01-01 00:00:...|             8195|     PROCESSING|\n",
      "|   25887|2014-01-01 00:00:...|            10062|        PENDING|\n",
      "|   25888|2014-01-01 00:00:...|             6735|       COMPLETE|\n",
      "|   25889|2014-01-01 00:00:...|            10045|       COMPLETE|\n",
      "|   25890|2014-01-01 00:00:...|             2581|        PENDING|\n",
      "|   25891|2014-01-01 00:00:...|             3037|         CLOSED|\n",
      "|   25892|2014-01-01 00:00:...|             3853|        ON_HOLD|\n",
      "|   25893|2014-01-01 00:00:...|             8679|PENDING_PAYMENT|\n",
      "|   25894|2014-01-01 00:00:...|             7839|     PROCESSING|\n",
      "|   25895|2014-01-01 00:00:...|             1044|       COMPLETE|\n",
      "+--------+--------------------+-----------------+---------------+\n",
      "only showing top 20 rows\n",
      "\n"
     ]
    }
   ],
   "source": [
    "# Function as part of where or filter\n",
    "\n",
    "orders. \\\n",
    "    filter(date_format('order_date', 'yyyyMM') == 201401). \\\n",
    "    show()"
   ]
  },
  {
   "cell_type": "code",
   "execution_count": 12,
   "metadata": {},
   "outputs": [
    {
     "name": "stdout",
     "output_type": "stream",
     "text": [
      "+-----------+-----+\n",
      "|order_month|count|\n",
      "+-----------+-----+\n",
      "|     201401| 5908|\n",
      "|     201405| 5467|\n",
      "|     201312| 5892|\n",
      "|     201310| 5335|\n",
      "|     201311| 6381|\n",
      "|     201307| 1533|\n",
      "|     201407| 4468|\n",
      "|     201403| 5778|\n",
      "|     201404| 5657|\n",
      "|     201402| 5635|\n",
      "|     201309| 5841|\n",
      "|     201406| 5308|\n",
      "|     201308| 5680|\n",
      "+-----------+-----+\n",
      "\n"
     ]
    }
   ],
   "source": [
    "# Function as part of groupBy\n",
    "\n",
    "orders. \\\n",
    "    groupBy(date_format('order_date', 'yyyyMM').alias('order_month')). \\\n",
    "    count(). \\\n",
    "    show()"
   ]
  },
  {
   "cell_type": "code",
   "execution_count": null,
   "metadata": {},
   "outputs": [],
   "source": []
  }
 ],
 "metadata": {
  "kernelspec": {
   "display_name": "Pyspark 2",
   "language": "python",
   "name": "pyspark2"
  },
  "language_info": {
   "codemirror_mode": {
    "name": "ipython",
    "version": 3
   },
   "file_extension": ".py",
   "mimetype": "text/x-python",
   "name": "python",
   "nbconvert_exporter": "python",
   "pygments_lexer": "ipython3",
   "version": "3.6.9"
  }
 },
 "nbformat": 4,
 "nbformat_minor": 4
}
