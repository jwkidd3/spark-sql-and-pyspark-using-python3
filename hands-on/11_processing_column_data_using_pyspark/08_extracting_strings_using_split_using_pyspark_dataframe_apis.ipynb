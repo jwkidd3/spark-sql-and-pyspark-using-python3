{
 "cells": [
  {
   "cell_type": "markdown",
   "metadata": {},
   "source": [
    "## Extracting Strings using split\n",
    "Let us understand how to extract substrings from main string using `split` function."
   ]
  },
  {
   "cell_type": "markdown",
   "metadata": {},
   "source": [
    "* If we are processing **variable length columns** with **delimiter** then we use `split` to extract the information.\n",
    "* Here are some of the examples for **variable length columns** and the use cases for which we typically extract information.\n",
    "* Address where we store House Number, Street Name, City, State and Zip Code comma separated. We might want to extract City and State for demographics reports.\n",
    "* `split` takes 2 arguments, **column** and **delimiter**.\n",
    "* `split` convert each string into array and we can access the elements using index.\n",
    "* We can also use `explode` in conjunction with `split` to explode the list or array into records in Data Frame. It can be used in cases such as word count, phone count etc. "
   ]
  },
  {
   "cell_type": "markdown",
   "metadata": {},
   "source": [
    "Let us start spark context for this Notebook so that we can execute the code provided. You can sign up for our [10 node state of the art cluster/labs](https://labs.spark.com/plans) to learn Spark SQL using our unique integrated LMS."
   ]
  },
  {
   "cell_type": "code",
   "execution_count": 1,
   "metadata": {},
   "outputs": [],
   "source": [
    "from pyspark.sql import SparkSession\n",
    "\n",
    "import getpass\n",
    "username = getpass.getuser()\n",
    "\n",
    "spark = SparkSession. \\\n",
    "    builder. \\\n",
    "    config('spark.ui.port', '0'). \\\n",
    "    config(\"spark.sql.warehouse.dir\", f\"/user/{username}/warehouse\"). \\\n",
    "    enableHiveSupport(). \\\n",
    "    appName(f'{username} | Python - Processing Column Data'). \\\n",
    "    master('yarn'). \\\n",
    "    getOrCreate()"
   ]
  },
  {
   "cell_type": "markdown",
   "metadata": {},
   "source": [
    "If you are going to use CLIs, you can use Spark SQL using one of the 3 approaches.\n",
    "\n",
    "**Using Spark SQL**\n",
    "\n",
    "```\n",
    "spark2-sql \\\n",
    "    --master yarn \\\n",
    "    --conf spark.ui.port=0 \\\n",
    "    --conf spark.sql.warehouse.dir=/user/${USER}/warehouse\n",
    "```\n",
    "\n",
    "**Using Scala**\n",
    "\n",
    "```\n",
    "spark2-shell \\\n",
    "    --master yarn \\\n",
    "    --conf spark.ui.port=0 \\\n",
    "    --conf spark.sql.warehouse.dir=/user/${USER}/warehouse\n",
    "```\n",
    "\n",
    "**Using Pyspark**\n",
    "\n",
    "```\n",
    "pyspark2 \\\n",
    "    --master yarn \\\n",
    "    --conf spark.ui.port=0 \\\n",
    "    --conf spark.sql.warehouse.dir=/user/${USER}/warehouse\n",
    "```"
   ]
  },
  {
   "cell_type": "code",
   "execution_count": 2,
   "metadata": {},
   "outputs": [],
   "source": [
    "l = [('X', )]"
   ]
  },
  {
   "cell_type": "code",
   "execution_count": 3,
   "metadata": {},
   "outputs": [],
   "source": [
    "df = spark.createDataFrame(l, \"dummy STRING\")"
   ]
  },
  {
   "cell_type": "code",
   "execution_count": 4,
   "metadata": {
    "pycharm": {
     "name": "#%%\n"
    }
   },
   "outputs": [],
   "source": [
    "from pyspark.sql.functions import split, explode, lit"
   ]
  },
  {
   "cell_type": "code",
   "execution_count": 5,
   "metadata": {
    "pycharm": {
     "name": "#%%\n"
    }
   },
   "outputs": [
    {
     "name": "stdout",
     "output_type": "stream",
     "text": [
      "+----------------------------------+\n",
      "|split(Hello World, how are you,  )|\n",
      "+----------------------------------+\n",
      "|[Hello, World,, how, are, you]    |\n",
      "+----------------------------------+\n",
      "\n"
     ]
    }
   ],
   "source": [
    "df.select(split(lit(\"Hello World, how are you\"), \" \")). \\\n",
    "    show(truncate=False)"
   ]
  },
  {
   "cell_type": "code",
   "execution_count": 6,
   "metadata": {
    "pycharm": {
     "name": "#%%\n"
    }
   },
   "outputs": [
    {
     "name": "stdout",
     "output_type": "stream",
     "text": [
      "+-------------------------------------+\n",
      "|split(Hello World, how are you,  )[2]|\n",
      "+-------------------------------------+\n",
      "|how                                  |\n",
      "+-------------------------------------+\n",
      "\n"
     ]
    }
   ],
   "source": [
    "df.select(split(lit(\"Hello World, how are you\"), \" \")[2]). \\\n",
    "    show(truncate=False)"
   ]
  },
  {
   "cell_type": "code",
   "execution_count": 7,
   "metadata": {},
   "outputs": [
    {
     "name": "stdout",
     "output_type": "stream",
     "text": [
      "+------+\n",
      "|word  |\n",
      "+------+\n",
      "|Hello |\n",
      "|World,|\n",
      "|how   |\n",
      "|are   |\n",
      "|you   |\n",
      "+------+\n",
      "\n"
     ]
    }
   ],
   "source": [
    "df.select(explode(split(lit(\"Hello World, how are you\"), \" \")).alias('word')). \\\n",
    "    show(truncate=False)"
   ]
  },
  {
   "cell_type": "markdown",
   "metadata": {},
   "source": [
    "* Most of the problems can be solved either by using `substring` or `split`."
   ]
  },
  {
   "cell_type": "markdown",
   "metadata": {},
   "source": [
    "### Tasks - split\n",
    "Let us perform few tasks to extract information from fixed length strings as well as delimited variable length strings.\n",
    "* Create a list for employees with name, ssn and phone_numbers.\n",
    "* SSN Format **3 2 4** - Fixed Length with 11 characters\n",
    "* Phone Number Format - Country Code is variable and remaining phone number have 10 digits. One can have multiple phone numbers where they are separated by `,`:\n",
    " * Country Code - one to 3 digits\n",
    " * Area Code - 3 digits\n",
    " * Phone Number Prefix - 3 digits\n",
    " * Phone Number Remaining - 4 digits\n",
    " * All the 4 parts are separated by spaces\n",
    "* Create a Dataframe with column names name, ssn and phone_number\n",
    "* Extract area code and last 4 digits from the phone number.\n",
    "* Extract last 4 digits from SSN."
   ]
  },
  {
   "cell_type": "code",
   "execution_count": 8,
   "metadata": {},
   "outputs": [],
   "source": [
    "employees = [(1, \"Scott\", \"Tiger\", 1000.0, \n",
    "                      \"united states\", \"+1 123 456 7890,+1 234 567 8901\", \"123 45 6789\"\n",
    "                     ),\n",
    "                     (2, \"Henry\", \"Ford\", 1250.0, \n",
    "                      \"India\", \"+91 234 567 8901\", \"456 78 9123\"\n",
    "                     ),\n",
    "                     (3, \"Nick\", \"Junior\", 750.0, \n",
    "                      \"united KINGDOM\", \"+44 111 111 1111,+44 222 222 2222\", \"222 33 4444\"\n",
    "                     ),\n",
    "                     (4, \"Bill\", \"Gomes\", 1500.0, \n",
    "                      \"AUSTRALIA\", \"+61 987 654 3210,+61 876 543 2109\", \"789 12 6118\"\n",
    "                     )\n",
    "                ]"
   ]
  },
  {
   "cell_type": "code",
   "execution_count": 9,
   "metadata": {},
   "outputs": [],
   "source": [
    "employeesDF = spark. \\\n",
    "    createDataFrame(employees,\n",
    "                    schema=\"\"\"employee_id INT, first_name STRING, \n",
    "                    last_name STRING, salary FLOAT, nationality STRING,\n",
    "                    phone_numbers STRING, ssn STRING\"\"\"\n",
    "                   )"
   ]
  },
  {
   "cell_type": "code",
   "execution_count": 10,
   "metadata": {},
   "outputs": [
    {
     "name": "stdout",
     "output_type": "stream",
     "text": [
      "+-----------+---------------------------------+\n",
      "|employee_id|phone_numbers                    |\n",
      "+-----------+---------------------------------+\n",
      "|1          |+1 123 456 7890,+1 234 567 8901  |\n",
      "|2          |+91 234 567 8901                 |\n",
      "|3          |+44 111 111 1111,+44 222 222 2222|\n",
      "|4          |+61 987 654 3210,+61 876 543 2109|\n",
      "+-----------+---------------------------------+\n",
      "\n"
     ]
    }
   ],
   "source": [
    "employeesDF. \\\n",
    "    select('employee_id', 'phone_numbers'). \\\n",
    "    show(truncate=False)"
   ]
  },
  {
   "cell_type": "code",
   "execution_count": 11,
   "metadata": {
    "pycharm": {
     "name": "#%%\n"
    }
   },
   "outputs": [],
   "source": [
    "from pyspark.sql.functions import split, explode"
   ]
  },
  {
   "cell_type": "code",
   "execution_count": 12,
   "metadata": {
    "pycharm": {
     "name": "#%%\n"
    }
   },
   "outputs": [],
   "source": [
    "employeesDF = employeesDF. \\\n",
    "    select('employee_id', 'phone_numbers', 'ssn'). \\\n",
    "    withColumn('phone_number', explode(split('phone_numbers', ',')))"
   ]
  },
  {
   "cell_type": "code",
   "execution_count": 13,
   "metadata": {},
   "outputs": [
    {
     "name": "stdout",
     "output_type": "stream",
     "text": [
      "+-----------+---------------------------------+-----------+----------------+\n",
      "|employee_id|phone_numbers                    |ssn        |phone_number    |\n",
      "+-----------+---------------------------------+-----------+----------------+\n",
      "|1          |+1 123 456 7890,+1 234 567 8901  |123 45 6789|+1 123 456 7890 |\n",
      "|1          |+1 123 456 7890,+1 234 567 8901  |123 45 6789|+1 234 567 8901 |\n",
      "|2          |+91 234 567 8901                 |456 78 9123|+91 234 567 8901|\n",
      "|3          |+44 111 111 1111,+44 222 222 2222|222 33 4444|+44 111 111 1111|\n",
      "|3          |+44 111 111 1111,+44 222 222 2222|222 33 4444|+44 222 222 2222|\n",
      "|4          |+61 987 654 3210,+61 876 543 2109|789 12 6118|+61 987 654 3210|\n",
      "|4          |+61 987 654 3210,+61 876 543 2109|789 12 6118|+61 876 543 2109|\n",
      "+-----------+---------------------------------+-----------+----------------+\n",
      "\n"
     ]
    }
   ],
   "source": [
    "employeesDF.show(truncate=False)"
   ]
  },
  {
   "cell_type": "code",
   "execution_count": 14,
   "metadata": {},
   "outputs": [
    {
     "name": "stdout",
     "output_type": "stream",
     "text": [
      "+-----------+----------------+-----------+---------+-----------+---------+\n",
      "|employee_id|    phone_number|        ssn|area_code|phone_last4|ssn_last4|\n",
      "+-----------+----------------+-----------+---------+-----------+---------+\n",
      "|          1| +1 123 456 7890|123 45 6789|      123|       7890|     6789|\n",
      "|          1| +1 234 567 8901|123 45 6789|      234|       8901|     6789|\n",
      "|          2|+91 234 567 8901|456 78 9123|      234|       8901|     9123|\n",
      "|          3|+44 111 111 1111|222 33 4444|      111|       1111|     4444|\n",
      "|          3|+44 222 222 2222|222 33 4444|      222|       2222|     4444|\n",
      "|          4|+61 987 654 3210|789 12 6118|      987|       3210|     6118|\n",
      "|          4|+61 876 543 2109|789 12 6118|      876|       2109|     6118|\n",
      "+-----------+----------------+-----------+---------+-----------+---------+\n",
      "\n"
     ]
    }
   ],
   "source": [
    "employeesDF. \\\n",
    "    select(\"employee_id\", \"phone_number\", \"ssn\"). \\\n",
    "    withColumn(\"area_code\", split(\"phone_number\", \" \")[1].cast(\"int\")). \\\n",
    "    withColumn(\"phone_last4\", split(\"phone_number\", \" \")[3].cast(\"int\")). \\\n",
    "    withColumn(\"ssn_last4\", split(\"ssn\", \" \")[2].cast(\"int\")). \\\n",
    "    show()"
   ]
  },
  {
   "cell_type": "markdown",
   "metadata": {},
   "source": [
    "* Getting Phone Count"
   ]
  },
  {
   "cell_type": "code",
   "execution_count": 15,
   "metadata": {},
   "outputs": [
    {
     "name": "stdout",
     "output_type": "stream",
     "text": [
      "+-----------+---------------------------------+-----------+----------------+\n",
      "|employee_id|phone_numbers                    |ssn        |phone_number    |\n",
      "+-----------+---------------------------------+-----------+----------------+\n",
      "|1          |+1 123 456 7890,+1 234 567 8901  |123 45 6789|+1 123 456 7890 |\n",
      "|1          |+1 123 456 7890,+1 234 567 8901  |123 45 6789|+1 234 567 8901 |\n",
      "|2          |+91 234 567 8901                 |456 78 9123|+91 234 567 8901|\n",
      "|3          |+44 111 111 1111,+44 222 222 2222|222 33 4444|+44 111 111 1111|\n",
      "|3          |+44 111 111 1111,+44 222 222 2222|222 33 4444|+44 222 222 2222|\n",
      "|4          |+61 987 654 3210,+61 876 543 2109|789 12 6118|+61 987 654 3210|\n",
      "|4          |+61 987 654 3210,+61 876 543 2109|789 12 6118|+61 876 543 2109|\n",
      "+-----------+---------------------------------+-----------+----------------+\n",
      "\n"
     ]
    }
   ],
   "source": [
    "employeesDF.show(truncate=False)"
   ]
  },
  {
   "cell_type": "code",
   "execution_count": 16,
   "metadata": {},
   "outputs": [
    {
     "name": "stdout",
     "output_type": "stream",
     "text": [
      "+-----------+-----+\n",
      "|employee_id|count|\n",
      "+-----------+-----+\n",
      "|          1|    2|\n",
      "|          3|    2|\n",
      "|          4|    2|\n",
      "|          2|    1|\n",
      "+-----------+-----+\n",
      "\n"
     ]
    }
   ],
   "source": [
    "employeesDF. \\\n",
    "    groupBy('employee_id'). \\\n",
    "    count(). \\\n",
    "    show()"
   ]
  },
  {
   "cell_type": "code",
   "execution_count": null,
   "metadata": {},
   "outputs": [],
   "source": []
  }
 ],
 "metadata": {
  "kernelspec": {
   "display_name": "Pyspark 2",
   "language": "python",
   "name": "pyspark2"
  },
  "language_info": {
   "codemirror_mode": {
    "name": "ipython",
    "version": 3
   },
   "file_extension": ".py",
   "mimetype": "text/x-python",
   "name": "python",
   "nbconvert_exporter": "python",
   "pygments_lexer": "ipython3",
   "version": "3.6.9"
  }
 },
 "nbformat": 4,
 "nbformat_minor": 4
}
