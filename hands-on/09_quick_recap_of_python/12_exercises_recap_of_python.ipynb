{
 "cells": [
  {
   "cell_type": "markdown",
   "metadata": {},
   "source": [
    "## Exercises - Recap of Python\n",
    "\n",
    "Let us perform few exercises to understand how to process the data. We will use LinkedIn data to perform some basic data processing using Python.\n",
    "\n",
    "* Get LinkedIn archive.\n",
    "  * Go to https://linkedin.com\n",
    "  * Me on top -> Settings & Privacy\n",
    "  * Then go to \"How LinkedIn users your data\" -> Getting a copy of your data\n",
    "  * Register and download. You will get a link as part of the email.\n",
    "* Data contain multiple CSV files. We will limit the analysis to **Contacts.csv** and **Connections.csv**.\n",
    "* Get the number of **contacts** with out email ids.\n",
    "* Get the number of **contacts** from each source.\n",
    "* Get the number of **connections** with each title.\n",
    "* Get the number of **connections** from each company.\n",
    "* Get the number of **contacts** for each month in the year 2018.\n",
    "* Use Postgres or MySQL as databases (you can setup in your laptop) and write **connections** data to the database"
   ]
  },
  {
   "cell_type": "code",
   "execution_count": null,
   "metadata": {},
   "outputs": [],
   "source": []
  }
 ],
 "metadata": {
  "kernelspec": {
   "display_name": "Python 3 (ipykernel)",
   "language": "python",
   "name": "python3"
  },
  "language_info": {
   "codemirror_mode": {
    "name": "ipython",
    "version": 3
   },
   "file_extension": ".py",
   "mimetype": "text/x-python",
   "name": "python",
   "nbconvert_exporter": "python",
   "pygments_lexer": "ipython3",
   "version": "3.7.12"
  }
 },
 "nbformat": 4,
 "nbformat_minor": 4
}
