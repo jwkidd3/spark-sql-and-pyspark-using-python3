{
 "cells": [
  {
   "cell_type": "markdown",
   "metadata": {},
   "source": [
    "## Overview of Pandas Data Frames\n",
    "\n",
    "While collections are typically the group of objects or tuples or simple strings, we need to parse them to further process the data. This process is tedious at times.\n",
    "* With Data Frames we can define the structure.\n",
    "* Data Frame is nothing but group of rows where each row have multiple attributes with names.\n",
    "* Data Frame is similar to a Database Table or Spreadsheet with Header.\n",
    "* Pandas provide rich and simple functions to convert data in files into Data Frames and process them\n",
    "* Data can be read from files into Data Frame using functions such as read_csv.\n",
    "* We can perform all standard operations on Data Frames.\n",
    "  * Projection or Selection     \n",
    "  * Filtering     \n",
    "  * Aggregations     \n",
    "  * Joins     \n",
    "  * Sorting"
   ]
  },
  {
   "cell_type": "markdown",
   "metadata": {},
   "source": [
    "### Tasks\n",
    "\n",
    "Let us perform few tasks to recap the usage of Pandas Data Frames.\n",
    "    \n",
    "* Read order items data from the location on your system. In mine it is /data/retail_db/order_items/part-00000. Use the information below to define schema.\n",
    "* It has 6 fields with the below names in the same order as specified below.\n",
    "  * order_item_id\n",
    "  * order_item_order_id\n",
    "  * order_item_product_id\n",
    "  * order_item_quantity\n",
    "  * order_item_subtotal\n",
    "  * order_item_product_price"
   ]
  },
  {
   "cell_type": "code",
   "execution_count": null,
   "metadata": {},
   "outputs": [],
   "source": [
    "import pandas as pd\n",
    "order_items_path = \"/data/retail_db/order_items/part-00000\"\n",
    "order_items = pd. \\\n",
    "    read_csv(order_items_path,\n",
    "             names=[\"order_item_id\", \"order_item_order_id\",\n",
    "                    \"order_item_product_id\", \"order_item_quantity\",\n",
    "                    \"order_item_subtotal\", \"order_item_product_price\"\n",
    "                   ]\n",
    "            )"
   ]
  },
  {
   "cell_type": "markdown",
   "metadata": {},
   "source": [
    "* Project order_item_order_id and order_item_subtotal"
   ]
  },
  {
   "cell_type": "code",
   "execution_count": null,
   "metadata": {},
   "outputs": [],
   "source": [
    "order_items[[\"order_item_id\", \"order_item_subtotal\"]]"
   ]
  },
  {
   "cell_type": "markdown",
   "metadata": {},
   "source": [
    "* Filter for order_item_order_id 2"
   ]
  },
  {
   "cell_type": "code",
   "execution_count": null,
   "metadata": {},
   "outputs": [],
   "source": [
    "order_items.query(\"order_item_order_id == 2\")"
   ]
  },
  {
   "cell_type": "markdown",
   "metadata": {},
   "source": [
    "* Compute revenue for order_item_order_id 2"
   ]
  },
  {
   "cell_type": "code",
   "execution_count": null,
   "metadata": {},
   "outputs": [],
   "source": [
    "order_items. \\\n",
    "    query(\"order_item_order_id == 2\")[\"order_item_subtotal\"]. \\\n",
    "    sum()"
   ]
  },
  {
   "cell_type": "markdown",
   "metadata": {},
   "source": [
    "* Get number of items and revenue for each order id. Give alias to the order revenue as **revenue**."
   ]
  },
  {
   "cell_type": "code",
   "execution_count": null,
   "metadata": {},
   "outputs": [],
   "source": [
    "order_items. \\\n",
    "    groupby(\"order_item_order_id\")[\"order_item_subtotal\"]. \\\n",
    "    sum()"
   ]
  },
  {
   "cell_type": "code",
   "execution_count": null,
   "metadata": {},
   "outputs": [],
   "source": [
    "order_items. \\\n",
    "    groupby(\"order_item_order_id\")[\"order_item_subtotal\"]. \\\n",
    "    agg(['sum', 'count']). \\\n",
    "    rename(columns={'sum': 'revenue'})"
   ]
  }
 ],
 "metadata": {
  "kernelspec": {
   "display_name": "Python 3",
   "language": "python",
   "name": "python3"
  },
  "language_info": {
   "codemirror_mode": {
    "name": "ipython",
    "version": 3
   },
   "file_extension": ".py",
   "mimetype": "text/x-python",
   "name": "python",
   "nbconvert_exporter": "python",
   "pygments_lexer": "ipython3",
   "version": "3.6.9"
  }
 },
 "nbformat": 4,
 "nbformat_minor": 4
}
