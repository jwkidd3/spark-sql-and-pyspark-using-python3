{
 "cells": [
  {
   "cell_type": "markdown",
   "metadata": {},
   "source": [
    "## Data Engineering Life Cycle\n",
    "\n",
    "Let us first understand the Data Engineering Life Cycle. We typically read the data, process it by applying business rules and write the data back to different targets\n",
    "* Read the data from different sources.\n",
    "  * Files\n",
    "  * Databases\n",
    "  * Mainframes\n",
    "  * APIs\n",
    "* Processing the data\n",
    "  * Row Level Transformations\n",
    "  * Aggregations\n",
    "  * Sorting\n",
    "  * Ranking\n",
    "  * Joining multiple data sets\n",
    "* Write data to different targets.\n",
    "  * Files\n",
    "  * Databases\n",
    "  * Mainframes\n",
    "  * APIs"
   ]
  }
 ],
 "metadata": {
  "kernelspec": {
   "display_name": "Python 3 (ipykernel)",
   "language": "python",
   "name": "python3"
  },
  "language_info": {
   "codemirror_mode": {
    "name": "ipython",
    "version": 3
   },
   "file_extension": ".py",
   "mimetype": "text/x-python",
   "name": "python",
   "nbconvert_exporter": "python",
   "pygments_lexer": "ipython3",
   "version": "3.7.12"
  }
 },
 "nbformat": 4,
 "nbformat_minor": 4
}
