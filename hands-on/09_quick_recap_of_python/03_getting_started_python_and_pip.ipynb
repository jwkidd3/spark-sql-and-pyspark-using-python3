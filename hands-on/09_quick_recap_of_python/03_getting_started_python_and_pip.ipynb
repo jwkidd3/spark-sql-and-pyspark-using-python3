{
 "cells": [
  {
   "cell_type": "markdown",
   "metadata": {},
   "source": [
    "## Getting Started - Python and pip\n",
    "\n",
    "Let us get started with Python and pip.\n",
    "* Python is a programming language. We can install Python from [python.org](https://www.python.org).\n",
    "* Python contain certain functionality in the form of functions out of the box. However, over a period of time the open source community of Python have come up with libraries for the common and reusable functionality.\n",
    "* Those libraries can be installed using `pip`. It is nothing but Python's package manager.\n",
    "* You can install, upgrade, uninstall, list the details of installed libraries using `pip`.\n",
    "* Here is one of the common practice we follow with respect to starting a new application using Python as programming language.\n",
    "  * Make sure right version of Python is installed for your project/application.\n",
    "  * Create virtual environment for your project.\n",
    "  * Activate and install required libraries.\n",
    "  * Develop the required functionality.\n",
    "  * We can deactivate the virtual environment or activate other virtual environment if we have to switch over to another Python application.\n",
    "\n",
    "```shell\n",
    "python3 -m venv demo\n",
    "source demo/bin/activate\n",
    "pip install pandas\n",
    "```\n",
    "\n",
    "```{note}\n",
    "As part of the demo we have used CLI. However, in actual projects we typically use IDEs such as Pycharm.\n",
    "```"
   ]
  }
 ],
 "metadata": {
  "kernelspec": {
   "display_name": "Python 3 (ipykernel)",
   "language": "python",
   "name": "python3"
  },
  "language_info": {
   "codemirror_mode": {
    "name": "ipython",
    "version": 3
   },
   "file_extension": ".py",
   "mimetype": "text/x-python",
   "name": "python",
   "nbconvert_exporter": "python",
   "pygments_lexer": "ipython3",
   "version": "3.7.12"
  }
 },
 "nbformat": 4,
 "nbformat_minor": 4
}
