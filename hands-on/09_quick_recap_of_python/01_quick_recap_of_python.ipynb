{
 "cells": [
  {
   "cell_type": "markdown",
   "metadata": {},
   "source": [
    "# Quick Recap of Python\n",
    "\n",
    "Let us quickly recap of some of the core programming concepts of Python before we get into Spark.\n",
    "* Data Engineering Life Cycle\n",
    "* Getting Started - Python and pip\n",
    "* Python CLI or Jupyter Notebook\n",
    "* Basic Programming Constructs\n",
    "* Developing Functions\n",
    "* Lambda Functions\n",
    "* Overview of Collections\n",
    "* Overview of Pandas Data Frames\n",
    "* Development Life Cycle"
   ]
  },
  {
   "cell_type": "code",
   "execution_count": null,
   "metadata": {},
   "outputs": [],
   "source": []
  }
 ],
 "metadata": {
  "kernelspec": {
   "display_name": "Python 3 (ipykernel)",
   "language": "python",
   "name": "python3"
  },
  "language_info": {
   "codemirror_mode": {
    "name": "ipython",
    "version": 3
   },
   "file_extension": ".py",
   "mimetype": "text/x-python",
   "name": "python",
   "nbconvert_exporter": "python",
   "pygments_lexer": "ipython3",
   "version": "3.7.12"
  },
  "pycharm": {
   "stem_cell": {
    "cell_type": "raw",
    "metadata": {
     "collapsed": false
    },
    "source": []
   }
  }
 },
 "nbformat": 4,
 "nbformat_minor": 4
}
