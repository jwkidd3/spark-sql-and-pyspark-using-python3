{
 "cells": [
  {
   "cell_type": "markdown",
   "metadata": {},
   "source": [
    "## Limitations of Pandas\n",
    "\n",
    "We can use Pandas for data processing. It provides rich APIs to read data from different sources, process the data and then write it to different targets.\n",
    "* Pandas works well for light weight data processing.\n",
    "* Pandas is typically single threaded, which means only one process take care of processing the data.\n",
    "* As data volume grows, the processing time might grow exponentially and also run into resource contention.\n",
    "* It is not trivial to use distributed processing using Pandas APIs. We will end up struggling with multi threading rather than business logic.\n",
    "* There are Distributed Computing Frameworks such as Hadoop Map Reduce, Spark etc to take care of data processing at scale on multi node Hadoop or Spark Clusters.\n",
    "* Both Hadoop Map Reduce and Spark comes with Distributed Computing Frameworks as well as APIs.\n",
    "\n",
    "**Pandas is typically used for light weight Data Processing and Spark is used for Data Processing at Scale.**"
   ]
  }
 ],
 "metadata": {
  "kernelspec": {
   "display_name": "Python 3 (ipykernel)",
   "language": "python",
   "name": "python3"
  },
  "language_info": {
   "codemirror_mode": {
    "name": "ipython",
    "version": 3
   },
   "file_extension": ".py",
   "mimetype": "text/x-python",
   "name": "python",
   "nbconvert_exporter": "python",
   "pygments_lexer": "ipython3",
   "version": "3.7.12"
  }
 },
 "nbformat": 4,
 "nbformat_minor": 4
}
