{
 "cells": [
  {
   "cell_type": "markdown",
   "metadata": {},
   "source": [
    "## Overview of File Systems\n",
    "\n",
    "Let us get an overview of File Systems you can work with while learning Spark.\n",
    "\n",
    "* Here are the file systems that can be used to learn Spark.\n",
    "  * Local file system when you run in local mode.\n",
    "  * Hadoop Distributed File System.\n",
    "  * AWS S3\n",
    "  * Azure Blob\n",
    "  * GCP Cloud Storage\n",
    "  * and other supported file systems.\n",
    "* It is quite straight forward to learn underlying file system. You just need to focus on the following:\n",
    "  * Copy files into the file system from different sources.\n",
    "  * Validate files in the file system.\n",
    "  * Ability to preview the data using Spark related APIs or direct tools.\n",
    "  * Delete files from the file system.\n",
    "* Typically we ingest data into underlying file system using tools such as Informatica, Talend, NiFi, Kafka, custom applications etc. "
   ]
  },
  {
   "cell_type": "code",
   "execution_count": null,
   "metadata": {},
   "outputs": [],
   "source": []
  }
 ],
 "metadata": {
  "kernelspec": {
   "display_name": "Python 3",
   "language": "python",
   "name": "python3"
  },
  "language_info": {
   "codemirror_mode": {
    "name": "ipython",
    "version": 3
   },
   "file_extension": ".py",
   "mimetype": "text/x-python",
   "name": "python",
   "nbconvert_exporter": "python",
   "pygments_lexer": "ipython3",
   "version": "3.6.8"
  }
 },
 "nbformat": 4,
 "nbformat_minor": 4
}
