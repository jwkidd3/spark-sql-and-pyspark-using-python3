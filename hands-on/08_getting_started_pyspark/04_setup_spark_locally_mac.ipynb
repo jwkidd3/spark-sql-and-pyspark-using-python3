{
 "cells": [
  {
   "cell_type": "markdown",
   "metadata": {},
   "source": [
    "## Setup Spark Locally - Mac\n",
    "\n",
    "Let us understand how to setup Spark locally on Mac.\n",
    "\n",
    "* Here are the pre-requisites to setup Spark Locally on mac.\n",
    "  * At least 8 GB RAM is highly desired.\n",
    "  * Make sure JDK 1.8 is setup\n",
    "  * Make sure to have Python 3. If you do not have it, you can install it using **homebrew**.\n",
    "* Here are the steps to setup Pyspark and validate.\n",
    "  * Create Python Virtual Environment - `python3 -m venv spark-venv`.\n",
    "  * Activate the virtual environment - `source spark-venv/bin/activate`.\n",
    "  * Run `pip install pyspark==2.4.6` to install Spark 2.4.6.\n",
    "  * Run `pyspark` to launch Spark CLI using Python as programming language.\n",
    "* Here are some of the limitations related to running Spark locally.\n",
    "  * You will be able to run Spark using local mode by default. But you will not be able to get the feel of Big Data.\n",
    "  * Actual production implementations will be on multinode cluters, which run using YARN or Spark Stand Alone or Mesos.\n",
    "  * You can understand the development process but you will not be able to explore best practices to build effective large scale data engineering solutions."
   ]
  },
  {
   "cell_type": "code",
   "execution_count": null,
   "metadata": {},
   "outputs": [],
   "source": []
  }
 ],
 "metadata": {
  "kernelspec": {
   "display_name": "Python 3",
   "language": "python",
   "name": "python3"
  },
  "language_info": {
   "codemirror_mode": {
    "name": "ipython",
    "version": 3
   },
   "file_extension": ".py",
   "mimetype": "text/x-python",
   "name": "python",
   "nbconvert_exporter": "python",
   "pygments_lexer": "ipython3",
   "version": "3.6.8"
  }
 },
 "nbformat": 4,
 "nbformat_minor": 4
}
