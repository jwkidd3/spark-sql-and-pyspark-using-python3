{
 "cells": [
  {
   "cell_type": "markdown",
   "metadata": {},
   "source": [
    "## Using spark Labs\n",
    "\n",
    "Let me demonstrate how to use spark Labs to practice Spark.\n",
    "* Once you sign up for the lab, you will get access to the cluster via Jupyter based environment.\n",
    "* You can connect to the labs using browser and practice in interactive fashion.\n",
    "* You can either use our material or upload your material to practice using Jupyter based environment.\n",
    "* Here are some of the advantages of using our labs.\n",
    "  * Interactive or Integrated learning experience.\n",
    "  * Access to multi node cluster.\n",
    "  * Pre-configured data sets as well as databases.\n",
    "  * You will be focused on the learning rather than troubleshooting the issues."
   ]
  },
  {
   "cell_type": "code",
   "execution_count": null,
   "metadata": {},
   "outputs": [],
   "source": []
  }
 ],
 "metadata": {
  "kernelspec": {
   "display_name": "Python 3",
   "language": "python",
   "name": "python3"
  },
  "language_info": {
   "codemirror_mode": {
    "name": "ipython",
    "version": 3
   },
   "file_extension": ".py",
   "mimetype": "text/x-python",
   "name": "python",
   "nbconvert_exporter": "python",
   "pygments_lexer": "ipython3",
   "version": "3.6.8"
  }
 },
 "nbformat": 4,
 "nbformat_minor": 4
}
