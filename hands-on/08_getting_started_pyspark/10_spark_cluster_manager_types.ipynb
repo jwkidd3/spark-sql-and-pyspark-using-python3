{
 "cells": [
  {
   "cell_type": "markdown",
   "metadata": {},
   "source": [
    "## Spark Cluster Manager Types\n",
    "\n",
    "Let us get an overview of different Spark Cluster Managers on which typically Spark Applications are deployed.\n",
    "\n",
    "* Here are the supported cluster manager types.\n",
    "  * Local (used for development and unit testing).\n",
    "  * Stand Alone\n",
    "  * YARN\n",
    "  * Mesos\n",
    "* Here are the popular distributions which use YARN to deploy Spark Applications.\n",
    "  * Cloudera\n",
    "  * AWS EMR\n",
    "  * Google Dataproc\n",
    "  * Hortonworks\n",
    "  * MapR\n",
    "* Databricks uses Stand Alone for running or deploying Spark Jobs."
   ]
  },
  {
   "cell_type": "code",
   "execution_count": null,
   "metadata": {},
   "outputs": [],
   "source": []
  }
 ],
 "metadata": {
  "kernelspec": {
   "display_name": "Python 3",
   "language": "python",
   "name": "python3"
  },
  "language_info": {
   "codemirror_mode": {
    "name": "ipython",
    "version": 3
   },
   "file_extension": ".py",
   "mimetype": "text/x-python",
   "name": "python",
   "nbconvert_exporter": "python",
   "pygments_lexer": "ipython3",
   "version": "3.6.8"
  }
 },
 "nbformat": 4,
 "nbformat_minor": 4
}
