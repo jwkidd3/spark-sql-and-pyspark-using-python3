{
 "cells": [
  {
   "cell_type": "markdown",
   "metadata": {},
   "source": [
    "## Launching Spark CLI\n",
    "\n",
    "Let us understand how to launch Pyspark CLI. We will be covering both local as well as our labs.\n",
    "* Once pyspark is installed you can run `pyspark` to launch Pyspark CLI.\n",
    "* In our labs, we have integrated Spark with Hadoop and Hive and you can interact with Hive Database as well.\n",
    "* You need to run the following command to launch Pyspark using Terminal.\n",
    "\n",
    "```shell\n",
    "export PYSPARK_PYTHON=python3\n",
    "export SPARK_MAJOR_VERSION=2\n",
    "pyspark --master yarn \\\n",
    "    --conf spark.ui.port=0 \\\n",
    "    --conf spark.sql.warehouse.dir=/user/${USER}/warehouse\n",
    "```\n",
    "\n",
    "* Alternatively, you can also run the following command to launch Pyspark CLI.\n",
    "\n",
    "```shell\n",
    "pyspark --master yarn \\\n",
    "    --conf spark.ui.port=0 \\\n",
    "    --conf spark.sql.warehouse.dir=/user/${USER}/warehouse\n",
    "```\n",
    "\n",
    "* Here is what happens when you launch Pyspark CLI.\n",
    "  * Launches Python CLI.\n",
    "  * All Spark related libraries will be loaded.\n",
    "  * Creates SparkSession as well as SparkContext objects.\n",
    "  * It facilitates us to explore Spark APIs in interactive fashion."
   ]
  },
  {
   "cell_type": "code",
   "execution_count": null,
   "metadata": {},
   "outputs": [],
   "source": []
  }
 ],
 "metadata": {
  "kernelspec": {
   "display_name": "Python 3",
   "language": "python",
   "name": "python3"
  },
  "language_info": {
   "codemirror_mode": {
    "name": "ipython",
    "version": 3
   },
   "file_extension": ".py",
   "mimetype": "text/x-python",
   "name": "python",
   "nbconvert_exporter": "python",
   "pygments_lexer": "ipython3",
   "version": "3.6.8"
  }
 },
 "nbformat": 4,
 "nbformat_minor": 4
}
