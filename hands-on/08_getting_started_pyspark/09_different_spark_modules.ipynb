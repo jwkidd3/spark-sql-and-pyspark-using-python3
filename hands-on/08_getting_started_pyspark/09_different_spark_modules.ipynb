{
 "cells": [
  {
   "cell_type": "markdown",
   "metadata": {},
   "source": [
    "## Different Spark Modules\n",
    "\n",
    "Let us understand details about different spark modules. We will be focusing on high level modules that are made available since Spark 2.2 and later.\n",
    "* Here are the different Spark Modules.\n",
    "  * Spark Core - RDD and Map Reduce APIs\n",
    "  * Spark Data Frames and Spark SQL\n",
    "  * Spark Structured Streaming\n",
    "  * Spark MLLib (Data Frame based)\n",
    "* As engineers, we need not focus too much on Spark Core libraries to build Data Pipelines. We should focus on Spark Data Frames as well as Spark SQL."
   ]
  },
  {
   "cell_type": "code",
   "execution_count": null,
   "metadata": {},
   "outputs": [],
   "source": []
  }
 ],
 "metadata": {
  "kernelspec": {
   "display_name": "Python 3",
   "language": "python",
   "name": "python3"
  },
  "language_info": {
   "codemirror_mode": {
    "name": "ipython",
    "version": 3
   },
   "file_extension": ".py",
   "mimetype": "text/x-python",
   "name": "python",
   "nbconvert_exporter": "python",
   "pygments_lexer": "ipython3",
   "version": "3.6.8"
  }
 },
 "nbformat": 4,
 "nbformat_minor": 4
}
