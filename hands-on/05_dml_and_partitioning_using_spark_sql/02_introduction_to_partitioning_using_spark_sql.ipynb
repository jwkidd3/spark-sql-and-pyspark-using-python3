{
 "cells": [
  {
   "cell_type": "markdown",
   "metadata": {},
   "source": [
    "## Introduction to Partitioning\n",
    "\n",
    "Let us get an overview of partitioning of Spark Metastore tables."
   ]
  },
  {
   "cell_type": "markdown",
   "metadata": {},
   "source": [
    "* It is similar to list partitioning where each partition is equal to a particular value for a given column.\n",
    "* Spark Metastore does not support range partitioning and bucketing. Bucketing is supported in Hive which is similar to Hash Partitioning.\n",
    "* Once the table is created, we can add static partitions and then load or insert data into it.\n",
    "* Spark Metastore also support creation of partitions dynamically, where partitions will be created based up on the partition column value.\n",
    "* A Partitioned table can be managed or external."
   ]
  }
 ],
 "metadata": {
  "kernelspec": {
   "display_name": "Apache Toree - Scala",
   "language": "scala",
   "name": "apache_toree_scala"
  },
  "language_info": {
   "name": ""
  }
 },
 "nbformat": 4,
 "nbformat_minor": 4
}
