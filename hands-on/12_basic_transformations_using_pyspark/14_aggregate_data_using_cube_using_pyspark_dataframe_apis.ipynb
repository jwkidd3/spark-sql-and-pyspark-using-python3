{
 "cells": [
  {
   "cell_type": "markdown",
   "metadata": {},
   "source": [
    "## Aggregate data using cube\n",
    "\n",
    "Let us go through the details related to advanced aggregations using `cube` in Spark."
   ]
  },
  {
   "cell_type": "markdown",
   "metadata": {},
   "source": [
    "Let us start spark context for this Notebook so that we can execute the code provided. You can sign up for our [10 node state of the art cluster/labs](https://labs.spark.com/plans) to learn Spark SQL using our unique integrated LMS."
   ]
  },
  {
   "cell_type": "code",
   "execution_count": 1,
   "metadata": {},
   "outputs": [],
   "source": [
    "from pyspark.sql import SparkSession\n",
    "\n",
    "import getpass\n",
    "username = getpass.getuser()\n",
    "\n",
    "spark = SparkSession. \\\n",
    "    builder. \\\n",
    "    config('spark.ui.port', '0'). \\\n",
    "    config(\"spark.sql.warehouse.dir\", f\"/user/{username}/warehouse\"). \\\n",
    "    enableHiveSupport(). \\\n",
    "    appName(f'{username} | Python - Basic Transformations'). \\\n",
    "    master('yarn'). \\\n",
    "    getOrCreate()"
   ]
  },
  {
   "cell_type": "markdown",
   "metadata": {},
   "source": [
    "If you are going to use CLIs, you can use Spark SQL using one of the 3 approaches.\n",
    "\n",
    "**Using Spark SQL**\n",
    "\n",
    "```\n",
    "spark2-sql \\\n",
    "    --master yarn \\\n",
    "    --conf spark.ui.port=0 \\\n",
    "    --conf spark.sql.warehouse.dir=/user/${USER}/warehouse\n",
    "```\n",
    "\n",
    "**Using Scala**\n",
    "\n",
    "```\n",
    "spark2-shell \\\n",
    "    --master yarn \\\n",
    "    --conf spark.ui.port=0 \\\n",
    "    --conf spark.sql.warehouse.dir=/user/${USER}/warehouse\n",
    "```\n",
    "\n",
    "**Using Pyspark**\n",
    "\n",
    "```\n",
    "pyspark2 \\\n",
    "    --master yarn \\\n",
    "    --conf spark.ui.port=0 \\\n",
    "    --conf spark.sql.warehouse.dir=/user/${USER}/warehouse\n",
    "```"
   ]
  },
  {
   "cell_type": "code",
   "execution_count": 2,
   "metadata": {},
   "outputs": [],
   "source": [
    "orders = spark.read.json('/public/retail_db_json/orders')"
   ]
  },
  {
   "cell_type": "code",
   "execution_count": 3,
   "metadata": {},
   "outputs": [
    {
     "name": "stdout",
     "output_type": "stream",
     "text": [
      "+-----------------+--------------------+--------+---------------+\n",
      "|order_customer_id|          order_date|order_id|   order_status|\n",
      "+-----------------+--------------------+--------+---------------+\n",
      "|            11599|2013-07-25 00:00:...|       1|         CLOSED|\n",
      "|              256|2013-07-25 00:00:...|       2|PENDING_PAYMENT|\n",
      "|            12111|2013-07-25 00:00:...|       3|       COMPLETE|\n",
      "|             8827|2013-07-25 00:00:...|       4|         CLOSED|\n",
      "|            11318|2013-07-25 00:00:...|       5|       COMPLETE|\n",
      "|             7130|2013-07-25 00:00:...|       6|       COMPLETE|\n",
      "|             4530|2013-07-25 00:00:...|       7|       COMPLETE|\n",
      "|             2911|2013-07-25 00:00:...|       8|     PROCESSING|\n",
      "|             5657|2013-07-25 00:00:...|       9|PENDING_PAYMENT|\n",
      "|             5648|2013-07-25 00:00:...|      10|PENDING_PAYMENT|\n",
      "|              918|2013-07-25 00:00:...|      11| PAYMENT_REVIEW|\n",
      "|             1837|2013-07-25 00:00:...|      12|         CLOSED|\n",
      "|             9149|2013-07-25 00:00:...|      13|PENDING_PAYMENT|\n",
      "|             9842|2013-07-25 00:00:...|      14|     PROCESSING|\n",
      "|             2568|2013-07-25 00:00:...|      15|       COMPLETE|\n",
      "|             7276|2013-07-25 00:00:...|      16|PENDING_PAYMENT|\n",
      "|             2667|2013-07-25 00:00:...|      17|       COMPLETE|\n",
      "|             1205|2013-07-25 00:00:...|      18|         CLOSED|\n",
      "|             9488|2013-07-25 00:00:...|      19|PENDING_PAYMENT|\n",
      "|             9198|2013-07-25 00:00:...|      20|     PROCESSING|\n",
      "+-----------------+--------------------+--------+---------------+\n",
      "only showing top 20 rows\n",
      "\n"
     ]
    }
   ],
   "source": [
    "orders.show()"
   ]
  },
  {
   "cell_type": "code",
   "execution_count": 4,
   "metadata": {},
   "outputs": [
    {
     "name": "stdout",
     "output_type": "stream",
     "text": [
      "root\n",
      " |-- order_customer_id: long (nullable = true)\n",
      " |-- order_date: string (nullable = true)\n",
      " |-- order_id: long (nullable = true)\n",
      " |-- order_status: string (nullable = true)\n",
      "\n"
     ]
    }
   ],
   "source": [
    "orders.printSchema()"
   ]
  },
  {
   "cell_type": "code",
   "execution_count": 5,
   "metadata": {},
   "outputs": [
    {
     "data": {
      "text/plain": [
       "68883"
      ]
     },
     "execution_count": 5,
     "metadata": {},
     "output_type": "execute_result"
    }
   ],
   "source": [
    "orders.count()"
   ]
  },
  {
   "cell_type": "markdown",
   "metadata": {},
   "source": [
    "* Get count of orders by date using cube."
   ]
  },
  {
   "cell_type": "code",
   "execution_count": 6,
   "metadata": {},
   "outputs": [],
   "source": [
    "from pyspark.sql.functions import count, lit"
   ]
  },
  {
   "cell_type": "code",
   "execution_count": 7,
   "metadata": {},
   "outputs": [
    {
     "name": "stdout",
     "output_type": "stream",
     "text": [
      "+--------------------+-----------+\n",
      "|          order_date|order_count|\n",
      "+--------------------+-----------+\n",
      "|2013-08-13 00:00:...|         73|\n",
      "|2013-10-12 00:00:...|        162|\n",
      "|2013-11-15 00:00:...|        135|\n",
      "|2014-03-19 00:00:...|        130|\n",
      "|2014-04-26 00:00:...|        251|\n",
      "|2013-09-16 00:00:...|        121|\n",
      "|2013-09-20 00:00:...|        139|\n",
      "|2013-12-31 00:00:...|        266|\n",
      "|2013-09-06 00:00:...|        276|\n",
      "|2014-06-15 00:00:...|        128|\n",
      "|2013-12-24 00:00:...|        170|\n",
      "|2014-01-07 00:00:...|        163|\n",
      "|2014-06-07 00:00:...|        191|\n",
      "|2013-10-14 00:00:...|        139|\n",
      "|2013-11-11 00:00:...|        246|\n",
      "|2014-01-27 00:00:...|        163|\n",
      "|2014-01-29 00:00:...|        158|\n",
      "|2014-02-14 00:00:...|        174|\n",
      "|2014-04-15 00:00:...|        180|\n",
      "|2014-04-22 00:00:...|        144|\n",
      "+--------------------+-----------+\n",
      "only showing top 20 rows\n",
      "\n"
     ]
    }
   ],
   "source": [
    "orders. \\\n",
    "    groupBy('order_date'). \\\n",
    "    agg(count(lit(1)).alias('order_count')). \\\n",
    "    show()"
   ]
  },
  {
   "cell_type": "code",
   "execution_count": 8,
   "metadata": {},
   "outputs": [
    {
     "data": {
      "text/plain": [
       "364"
      ]
     },
     "execution_count": 8,
     "metadata": {},
     "output_type": "execute_result"
    }
   ],
   "source": [
    "orders. \\\n",
    "    groupBy('order_date'). \\\n",
    "    agg(count(lit(1)).alias('order_count')). \\\n",
    "    count()"
   ]
  },
  {
   "cell_type": "code",
   "execution_count": 9,
   "metadata": {},
   "outputs": [
    {
     "data": {
      "text/plain": [
       "\u001b[0;31mSignature:\u001b[0m \u001b[0morders\u001b[0m\u001b[0;34m.\u001b[0m\u001b[0mcube\u001b[0m\u001b[0;34m(\u001b[0m\u001b[0;34m*\u001b[0m\u001b[0mcols\u001b[0m\u001b[0;34m)\u001b[0m\u001b[0;34m\u001b[0m\u001b[0;34m\u001b[0m\u001b[0m\n",
       "\u001b[0;31mDocstring:\u001b[0m\n",
       "Create a multi-dimensional cube for the current :class:`DataFrame` using\n",
       "the specified columns, so we can run aggregation on them.\n",
       "\n",
       ">>> df.cube(\"name\", df.age).count().orderBy(\"name\", \"age\").show()\n",
       "+-----+----+-----+\n",
       "| name| age|count|\n",
       "+-----+----+-----+\n",
       "| null|null|    2|\n",
       "| null|   2|    1|\n",
       "| null|   5|    1|\n",
       "|Alice|null|    1|\n",
       "|Alice|   2|    1|\n",
       "|  Bob|null|    1|\n",
       "|  Bob|   5|    1|\n",
       "+-----+----+-----+\n",
       "\n",
       ".. versionadded:: 1.4\n",
       "\u001b[0;31mFile:\u001b[0m      /usr/hdp/current/spark2-client/python/pyspark/sql/dataframe.py\n",
       "\u001b[0;31mType:\u001b[0m      method\n"
      ]
     },
     "metadata": {},
     "output_type": "display_data"
    }
   ],
   "source": [
    "orders.cube?"
   ]
  },
  {
   "cell_type": "code",
   "execution_count": 10,
   "metadata": {},
   "outputs": [
    {
     "name": "stdout",
     "output_type": "stream",
     "text": [
      "+--------------------+-----------+\n",
      "|          order_date|order_count|\n",
      "+--------------------+-----------+\n",
      "|                null|      68883|\n",
      "|2013-07-25 00:00:...|        143|\n",
      "|2013-07-26 00:00:...|        269|\n",
      "|2013-07-27 00:00:...|        202|\n",
      "|2013-07-28 00:00:...|        187|\n",
      "|2013-07-29 00:00:...|        253|\n",
      "|2013-07-30 00:00:...|        227|\n",
      "|2013-07-31 00:00:...|        252|\n",
      "|2013-08-01 00:00:...|        246|\n",
      "|2013-08-02 00:00:...|        224|\n",
      "|2013-08-03 00:00:...|        183|\n",
      "|2013-08-04 00:00:...|        187|\n",
      "|2013-08-05 00:00:...|        153|\n",
      "|2013-08-06 00:00:...|        258|\n",
      "|2013-08-07 00:00:...|        203|\n",
      "|2013-08-08 00:00:...|        154|\n",
      "|2013-08-09 00:00:...|        125|\n",
      "|2013-08-10 00:00:...|        270|\n",
      "|2013-08-11 00:00:...|        154|\n",
      "|2013-08-12 00:00:...|        255|\n",
      "+--------------------+-----------+\n",
      "only showing top 20 rows\n",
      "\n"
     ]
    }
   ],
   "source": [
    "orders. \\\n",
    "    cube('order_date'). \\\n",
    "    agg(count(lit(1)).alias('order_count')). \\\n",
    "    orderBy('order_date'). \\\n",
    "    show()"
   ]
  },
  {
   "cell_type": "code",
   "execution_count": 11,
   "metadata": {},
   "outputs": [
    {
     "data": {
      "text/plain": [
       "365"
      ]
     },
     "execution_count": 11,
     "metadata": {},
     "output_type": "execute_result"
    }
   ],
   "source": [
    "orders. \\\n",
    "    cube('order_date'). \\\n",
    "    agg(count(lit(1)).alias('order_count')). \\\n",
    "    orderBy('order_date'). \\\n",
    "    count()"
   ]
  },
  {
   "cell_type": "markdown",
   "metadata": {},
   "source": [
    "* Get count of orders by month as well as date using cube. You will see additional records per month."
   ]
  },
  {
   "cell_type": "code",
   "execution_count": 12,
   "metadata": {},
   "outputs": [],
   "source": [
    "from pyspark.sql.functions import date_format"
   ]
  },
  {
   "cell_type": "code",
   "execution_count": 13,
   "metadata": {},
   "outputs": [
    {
     "name": "stdout",
     "output_type": "stream",
     "text": [
      "+-----------+--------------------+-----------+\n",
      "|order_month|          order_date|order_count|\n",
      "+-----------+--------------------+-----------+\n",
      "|     201307|2013-07-25 00:00:...|        143|\n",
      "|     201307|2013-07-26 00:00:...|        269|\n",
      "|     201307|2013-07-27 00:00:...|        202|\n",
      "|     201307|2013-07-28 00:00:...|        187|\n",
      "|     201307|2013-07-29 00:00:...|        253|\n",
      "|     201307|2013-07-30 00:00:...|        227|\n",
      "|     201307|2013-07-31 00:00:...|        252|\n",
      "|     201308|2013-08-01 00:00:...|        246|\n",
      "|     201308|2013-08-02 00:00:...|        224|\n",
      "|     201308|2013-08-03 00:00:...|        183|\n",
      "|     201308|2013-08-04 00:00:...|        187|\n",
      "|     201308|2013-08-05 00:00:...|        153|\n",
      "|     201308|2013-08-06 00:00:...|        258|\n",
      "|     201308|2013-08-07 00:00:...|        203|\n",
      "|     201308|2013-08-08 00:00:...|        154|\n",
      "|     201308|2013-08-09 00:00:...|        125|\n",
      "|     201308|2013-08-10 00:00:...|        270|\n",
      "|     201308|2013-08-11 00:00:...|        154|\n",
      "|     201308|2013-08-12 00:00:...|        255|\n",
      "|     201308|2013-08-13 00:00:...|         73|\n",
      "+-----------+--------------------+-----------+\n",
      "only showing top 20 rows\n",
      "\n"
     ]
    }
   ],
   "source": [
    "orders. \\\n",
    "    groupBy(date_format('order_date', 'yyyyMM').alias('order_month'), 'order_date'). \\\n",
    "    agg(count(lit(1)).alias('order_count')). \\\n",
    "    orderBy('order_month', 'order_date'). \\\n",
    "    show()"
   ]
  },
  {
   "cell_type": "code",
   "execution_count": 14,
   "metadata": {},
   "outputs": [
    {
     "data": {
      "text/plain": [
       "364"
      ]
     },
     "execution_count": 14,
     "metadata": {},
     "output_type": "execute_result"
    }
   ],
   "source": [
    "orders. \\\n",
    "    groupBy(date_format('order_date', 'yyyyMM').alias('order_month'), 'order_date'). \\\n",
    "    agg(count(lit(1)).alias('order_count')). \\\n",
    "    orderBy('order_month', 'order_date'). \\\n",
    "    count()"
   ]
  },
  {
   "cell_type": "code",
   "execution_count": 15,
   "metadata": {},
   "outputs": [
    {
     "name": "stdout",
     "output_type": "stream",
     "text": [
      "+-----------+--------------------+-----------+\n",
      "|order_month|          order_date|order_count|\n",
      "+-----------+--------------------+-----------+\n",
      "|       null|                null|      68883|\n",
      "|     201307|                null|       1533|\n",
      "|     201307|2013-07-25 00:00:...|        143|\n",
      "|     201307|2013-07-26 00:00:...|        269|\n",
      "|     201307|2013-07-27 00:00:...|        202|\n",
      "|     201307|2013-07-28 00:00:...|        187|\n",
      "|     201307|2013-07-29 00:00:...|        253|\n",
      "|     201307|2013-07-30 00:00:...|        227|\n",
      "|     201307|2013-07-31 00:00:...|        252|\n",
      "|     201308|                null|       5680|\n",
      "|     201308|2013-08-01 00:00:...|        246|\n",
      "|     201308|2013-08-02 00:00:...|        224|\n",
      "|     201308|2013-08-03 00:00:...|        183|\n",
      "|     201308|2013-08-04 00:00:...|        187|\n",
      "|     201308|2013-08-05 00:00:...|        153|\n",
      "|     201308|2013-08-06 00:00:...|        258|\n",
      "|     201308|2013-08-07 00:00:...|        203|\n",
      "|     201308|2013-08-08 00:00:...|        154|\n",
      "|     201308|2013-08-09 00:00:...|        125|\n",
      "|     201308|2013-08-10 00:00:...|        270|\n",
      "+-----------+--------------------+-----------+\n",
      "only showing top 20 rows\n",
      "\n"
     ]
    }
   ],
   "source": [
    "orders. \\\n",
    "    rollup(date_format('order_date', 'yyyyMM').alias('order_month'), 'order_date'). \\\n",
    "    agg(count(lit(1)).alias('order_count')). \\\n",
    "    orderBy('order_month', 'order_date'). \\\n",
    "    show()"
   ]
  },
  {
   "cell_type": "code",
   "execution_count": 16,
   "metadata": {},
   "outputs": [
    {
     "data": {
      "text/plain": [
       "378"
      ]
     },
     "execution_count": 16,
     "metadata": {},
     "output_type": "execute_result"
    }
   ],
   "source": [
    "orders. \\\n",
    "    rollup(date_format('order_date', 'yyyyMM').alias('order_month'), 'order_date'). \\\n",
    "    agg(count(lit(1)).alias('order_count')). \\\n",
    "    orderBy('order_month', 'order_date'). \\\n",
    "    count()"
   ]
  },
  {
   "cell_type": "code",
   "execution_count": 17,
   "metadata": {},
   "outputs": [
    {
     "name": "stdout",
     "output_type": "stream",
     "text": [
      "+-----------+--------------------+-----------+\n",
      "|order_month|          order_date|order_count|\n",
      "+-----------+--------------------+-----------+\n",
      "|       null|                null|      68883|\n",
      "|       null|2013-07-25 00:00:...|        143|\n",
      "|       null|2013-07-26 00:00:...|        269|\n",
      "|       null|2013-07-27 00:00:...|        202|\n",
      "|       null|2013-07-28 00:00:...|        187|\n",
      "|       null|2013-07-29 00:00:...|        253|\n",
      "|       null|2013-07-30 00:00:...|        227|\n",
      "|       null|2013-07-31 00:00:...|        252|\n",
      "|       null|2013-08-01 00:00:...|        246|\n",
      "|       null|2013-08-02 00:00:...|        224|\n",
      "|       null|2013-08-03 00:00:...|        183|\n",
      "|       null|2013-08-04 00:00:...|        187|\n",
      "|       null|2013-08-05 00:00:...|        153|\n",
      "|       null|2013-08-06 00:00:...|        258|\n",
      "|       null|2013-08-07 00:00:...|        203|\n",
      "|       null|2013-08-08 00:00:...|        154|\n",
      "|       null|2013-08-09 00:00:...|        125|\n",
      "|       null|2013-08-10 00:00:...|        270|\n",
      "|       null|2013-08-11 00:00:...|        154|\n",
      "|       null|2013-08-12 00:00:...|        255|\n",
      "+-----------+--------------------+-----------+\n",
      "only showing top 20 rows\n",
      "\n"
     ]
    }
   ],
   "source": [
    "orders. \\\n",
    "    cube(date_format('order_date', 'yyyyMM').alias('order_month'), 'order_date'). \\\n",
    "    agg(count(lit(1)).alias('order_count')). \\\n",
    "    orderBy('order_month', 'order_date'). \\\n",
    "    show()"
   ]
  },
  {
   "cell_type": "code",
   "execution_count": 18,
   "metadata": {},
   "outputs": [
    {
     "name": "stdout",
     "output_type": "stream",
     "text": [
      "+-----------+--------------------+-----------+\n",
      "|order_month|          order_date|order_count|\n",
      "+-----------+--------------------+-----------+\n",
      "|     201307|                null|       1533|\n",
      "|     201307|2013-07-25 00:00:...|        143|\n",
      "|     201307|2013-07-26 00:00:...|        269|\n",
      "|     201307|2013-07-27 00:00:...|        202|\n",
      "|     201307|2013-07-28 00:00:...|        187|\n",
      "|     201307|2013-07-29 00:00:...|        253|\n",
      "|     201307|2013-07-30 00:00:...|        227|\n",
      "|     201307|2013-07-31 00:00:...|        252|\n",
      "|     201308|                null|       5680|\n",
      "|     201308|2013-08-01 00:00:...|        246|\n",
      "|     201308|2013-08-02 00:00:...|        224|\n",
      "|     201308|2013-08-03 00:00:...|        183|\n",
      "|     201308|2013-08-04 00:00:...|        187|\n",
      "|     201308|2013-08-05 00:00:...|        153|\n",
      "|     201308|2013-08-06 00:00:...|        258|\n",
      "|     201308|2013-08-07 00:00:...|        203|\n",
      "|     201308|2013-08-08 00:00:...|        154|\n",
      "|     201308|2013-08-09 00:00:...|        125|\n",
      "|     201308|2013-08-10 00:00:...|        270|\n",
      "|     201308|2013-08-11 00:00:...|        154|\n",
      "+-----------+--------------------+-----------+\n",
      "only showing top 20 rows\n",
      "\n"
     ]
    }
   ],
   "source": [
    "orders. \\\n",
    "    cube(date_format('order_date', 'yyyyMM').alias('order_month'), 'order_date'). \\\n",
    "    agg(count(lit(1)).alias('order_count')). \\\n",
    "    filter('order_month IS NOT NULL'). \\\n",
    "    orderBy('order_month', 'order_date'). \\\n",
    "    show()"
   ]
  },
  {
   "cell_type": "code",
   "execution_count": 19,
   "metadata": {},
   "outputs": [
    {
     "data": {
      "text/plain": [
       "742"
      ]
     },
     "execution_count": 19,
     "metadata": {},
     "output_type": "execute_result"
    }
   ],
   "source": [
    "orders. \\\n",
    "    cube(date_format('order_date', 'yyyyMM').alias('order_month'), 'order_date'). \\\n",
    "    agg(count(lit(1)).alias('order_count')). \\\n",
    "    orderBy('order_month', 'order_date'). \\\n",
    "    count()"
   ]
  },
  {
   "cell_type": "markdown",
   "metadata": {},
   "source": [
    "* Get count of orders by year, month as well as date using cube. You will see additional records per month as well as per year."
   ]
  },
  {
   "cell_type": "code",
   "execution_count": 20,
   "metadata": {},
   "outputs": [],
   "source": [
    "from pyspark.sql.functions import year"
   ]
  },
  {
   "cell_type": "code",
   "execution_count": 21,
   "metadata": {},
   "outputs": [
    {
     "name": "stdout",
     "output_type": "stream",
     "text": [
      "+----------+-----------+--------------------+-----------+\n",
      "|order_year|order_month|          order_date|order_count|\n",
      "+----------+-----------+--------------------+-----------+\n",
      "|      2013|     201307|2013-07-25 00:00:...|        143|\n",
      "|      2013|     201307|2013-07-26 00:00:...|        269|\n",
      "|      2013|     201307|2013-07-27 00:00:...|        202|\n",
      "|      2013|     201307|2013-07-28 00:00:...|        187|\n",
      "|      2013|     201307|2013-07-29 00:00:...|        253|\n",
      "|      2013|     201307|2013-07-30 00:00:...|        227|\n",
      "|      2013|     201307|2013-07-31 00:00:...|        252|\n",
      "|      2013|     201308|2013-08-01 00:00:...|        246|\n",
      "|      2013|     201308|2013-08-02 00:00:...|        224|\n",
      "|      2013|     201308|2013-08-03 00:00:...|        183|\n",
      "|      2013|     201308|2013-08-04 00:00:...|        187|\n",
      "|      2013|     201308|2013-08-05 00:00:...|        153|\n",
      "|      2013|     201308|2013-08-06 00:00:...|        258|\n",
      "|      2013|     201308|2013-08-07 00:00:...|        203|\n",
      "|      2013|     201308|2013-08-08 00:00:...|        154|\n",
      "|      2013|     201308|2013-08-09 00:00:...|        125|\n",
      "|      2013|     201308|2013-08-10 00:00:...|        270|\n",
      "|      2013|     201308|2013-08-11 00:00:...|        154|\n",
      "|      2013|     201308|2013-08-12 00:00:...|        255|\n",
      "|      2013|     201308|2013-08-13 00:00:...|         73|\n",
      "+----------+-----------+--------------------+-----------+\n",
      "only showing top 20 rows\n",
      "\n"
     ]
    }
   ],
   "source": [
    "orders. \\\n",
    "    groupBy(\n",
    "        year('order_date').alias('order_year'),\n",
    "        date_format('order_date', 'yyyyMM').alias('order_month'), \n",
    "        'order_date'\n",
    "    ). \\\n",
    "    agg(count(lit(1)).alias('order_count')). \\\n",
    "    orderBy('order_year', 'order_month', 'order_date'). \\\n",
    "    show()"
   ]
  },
  {
   "cell_type": "code",
   "execution_count": 22,
   "metadata": {},
   "outputs": [
    {
     "data": {
      "text/plain": [
       "364"
      ]
     },
     "execution_count": 22,
     "metadata": {},
     "output_type": "execute_result"
    }
   ],
   "source": [
    "orders. \\\n",
    "    groupBy(\n",
    "        year('order_date').alias('order_year'),\n",
    "        date_format('order_date', 'yyyyMM').alias('order_month'), \n",
    "        'order_date'\n",
    "    ). \\\n",
    "    agg(count(lit(1)).alias('order_count')). \\\n",
    "    orderBy('order_year', 'order_month', 'order_date'). \\\n",
    "    count()"
   ]
  },
  {
   "cell_type": "code",
   "execution_count": 23,
   "metadata": {},
   "outputs": [
    {
     "name": "stdout",
     "output_type": "stream",
     "text": [
      "+----------+-----------+--------------------+-----------+\n",
      "|order_year|order_month|          order_date|order_count|\n",
      "+----------+-----------+--------------------+-----------+\n",
      "|      null|       null|                null|      68883|\n",
      "|      2013|       null|                null|      30662|\n",
      "|      2013|     201307|                null|       1533|\n",
      "|      2013|     201307|2013-07-25 00:00:...|        143|\n",
      "|      2013|     201307|2013-07-26 00:00:...|        269|\n",
      "|      2013|     201307|2013-07-27 00:00:...|        202|\n",
      "|      2013|     201307|2013-07-28 00:00:...|        187|\n",
      "|      2013|     201307|2013-07-29 00:00:...|        253|\n",
      "|      2013|     201307|2013-07-30 00:00:...|        227|\n",
      "|      2013|     201307|2013-07-31 00:00:...|        252|\n",
      "|      2013|     201308|                null|       5680|\n",
      "|      2013|     201308|2013-08-01 00:00:...|        246|\n",
      "|      2013|     201308|2013-08-02 00:00:...|        224|\n",
      "|      2013|     201308|2013-08-03 00:00:...|        183|\n",
      "|      2013|     201308|2013-08-04 00:00:...|        187|\n",
      "|      2013|     201308|2013-08-05 00:00:...|        153|\n",
      "|      2013|     201308|2013-08-06 00:00:...|        258|\n",
      "|      2013|     201308|2013-08-07 00:00:...|        203|\n",
      "|      2013|     201308|2013-08-08 00:00:...|        154|\n",
      "|      2013|     201308|2013-08-09 00:00:...|        125|\n",
      "+----------+-----------+--------------------+-----------+\n",
      "only showing top 20 rows\n",
      "\n"
     ]
    }
   ],
   "source": [
    "orders. \\\n",
    "    rollup(\n",
    "        year('order_date').alias('order_year'),\n",
    "        date_format('order_date', 'yyyyMM').alias('order_month'), \n",
    "        'order_date'\n",
    "    ). \\\n",
    "    agg(count(lit(1)).alias('order_count')). \\\n",
    "    orderBy('order_year', 'order_month', 'order_date'). \\\n",
    "    show()"
   ]
  },
  {
   "cell_type": "code",
   "execution_count": 24,
   "metadata": {},
   "outputs": [
    {
     "data": {
      "text/plain": [
       "380"
      ]
     },
     "execution_count": 24,
     "metadata": {},
     "output_type": "execute_result"
    }
   ],
   "source": [
    "orders. \\\n",
    "    rollup(\n",
    "        year('order_date').alias('order_year'),\n",
    "        date_format('order_date', 'yyyyMM').alias('order_month'), \n",
    "        'order_date'\n",
    "    ). \\\n",
    "    agg(count(lit(1)).alias('order_count')). \\\n",
    "    orderBy('order_year', 'order_month', 'order_date'). \\\n",
    "    count()"
   ]
  },
  {
   "cell_type": "code",
   "execution_count": 25,
   "metadata": {},
   "outputs": [
    {
     "name": "stdout",
     "output_type": "stream",
     "text": [
      "+----------+-----------+--------------------+-----------+\n",
      "|order_year|order_month|          order_date|order_count|\n",
      "+----------+-----------+--------------------+-----------+\n",
      "|      null|       null|                null|      68883|\n",
      "|      null|       null|2013-07-25 00:00:...|        143|\n",
      "|      null|       null|2013-07-26 00:00:...|        269|\n",
      "|      null|       null|2013-07-27 00:00:...|        202|\n",
      "|      null|       null|2013-07-28 00:00:...|        187|\n",
      "|      null|       null|2013-07-29 00:00:...|        253|\n",
      "|      null|       null|2013-07-30 00:00:...|        227|\n",
      "|      null|       null|2013-07-31 00:00:...|        252|\n",
      "|      null|       null|2013-08-01 00:00:...|        246|\n",
      "|      null|       null|2013-08-02 00:00:...|        224|\n",
      "|      null|       null|2013-08-03 00:00:...|        183|\n",
      "|      null|       null|2013-08-04 00:00:...|        187|\n",
      "|      null|       null|2013-08-05 00:00:...|        153|\n",
      "|      null|       null|2013-08-06 00:00:...|        258|\n",
      "|      null|       null|2013-08-07 00:00:...|        203|\n",
      "|      null|       null|2013-08-08 00:00:...|        154|\n",
      "|      null|       null|2013-08-09 00:00:...|        125|\n",
      "|      null|       null|2013-08-10 00:00:...|        270|\n",
      "|      null|       null|2013-08-11 00:00:...|        154|\n",
      "|      null|       null|2013-08-12 00:00:...|        255|\n",
      "+----------+-----------+--------------------+-----------+\n",
      "only showing top 20 rows\n",
      "\n"
     ]
    }
   ],
   "source": [
    "orders. \\\n",
    "    cube(\n",
    "        year('order_date').alias('order_year'),\n",
    "        date_format('order_date', 'yyyyMM').alias('order_month'), \n",
    "        'order_date'\n",
    "    ). \\\n",
    "    agg(count(lit(1)).alias('order_count')). \\\n",
    "    orderBy('order_year', 'order_month', 'order_date'). \\\n",
    "    show()"
   ]
  },
  {
   "cell_type": "code",
   "execution_count": 26,
   "metadata": {},
   "outputs": [
    {
     "data": {
      "text/plain": [
       "1485"
      ]
     },
     "execution_count": 26,
     "metadata": {},
     "output_type": "execute_result"
    }
   ],
   "source": [
    "orders. \\\n",
    "    cube(\n",
    "        year('order_date').alias('order_year'),\n",
    "        date_format('order_date', 'yyyyMM').alias('order_month'), \n",
    "        'order_date'\n",
    "    ). \\\n",
    "    agg(count(lit(1)).alias('order_count')). \\\n",
    "    orderBy('order_year', 'order_month', 'order_date'). \\\n",
    "    count()"
   ]
  },
  {
   "cell_type": "code",
   "execution_count": 27,
   "metadata": {},
   "outputs": [
    {
     "name": "stdout",
     "output_type": "stream",
     "text": [
      "+----------+-----------+--------------------+-----------+\n",
      "|order_year|order_month|          order_date|order_count|\n",
      "+----------+-----------+--------------------+-----------+\n",
      "|      null|       null|2014-01-01 00:00:...|        135|\n",
      "|      null|       null|2014-01-02 00:00:...|        111|\n",
      "|      null|       null|2014-01-03 00:00:...|        250|\n",
      "|      null|       null|2014-01-04 00:00:...|        129|\n",
      "|      null|       null|2014-01-05 00:00:...|        266|\n",
      "|      null|       null|2014-01-06 00:00:...|        155|\n",
      "|      null|       null|2014-01-07 00:00:...|        163|\n",
      "|      null|       null|2014-01-08 00:00:...|        122|\n",
      "|      null|       null|2014-01-09 00:00:...|        207|\n",
      "|      null|       null|2014-01-10 00:00:...|        241|\n",
      "|      null|       null|2014-01-11 00:00:...|        281|\n",
      "|      null|       null|2014-01-12 00:00:...|        215|\n",
      "|      null|       null|2014-01-13 00:00:...|        179|\n",
      "|      null|       null|2014-01-14 00:00:...|        209|\n",
      "|      null|       null|2014-01-15 00:00:...|        243|\n",
      "|      null|       null|2014-01-16 00:00:...|        194|\n",
      "|      null|       null|2014-01-17 00:00:...|        149|\n",
      "|      null|       null|2014-01-18 00:00:...|        139|\n",
      "|      null|       null|2014-01-19 00:00:...|        217|\n",
      "|      null|       null|2014-01-20 00:00:...|        203|\n",
      "|      null|       null|2014-01-21 00:00:...|        259|\n",
      "|      null|       null|2014-01-22 00:00:...|        209|\n",
      "|      null|       null|2014-01-23 00:00:...|        220|\n",
      "|      null|       null|2014-01-24 00:00:...|        159|\n",
      "|      null|       null|2014-01-25 00:00:...|        104|\n",
      "|      null|       null|2014-01-26 00:00:...|        154|\n",
      "|      null|       null|2014-01-27 00:00:...|        163|\n",
      "|      null|       null|2014-01-28 00:00:...|        197|\n",
      "|      null|       null|2014-01-29 00:00:...|        158|\n",
      "|      null|       null|2014-01-30 00:00:...|        254|\n",
      "|      null|       null|2014-01-31 00:00:...|        223|\n",
      "|      null|     201401|2014-01-01 00:00:...|        135|\n",
      "|      null|     201401|2014-01-02 00:00:...|        111|\n",
      "|      null|     201401|2014-01-03 00:00:...|        250|\n",
      "|      null|     201401|2014-01-04 00:00:...|        129|\n",
      "|      null|     201401|2014-01-05 00:00:...|        266|\n",
      "|      null|     201401|2014-01-06 00:00:...|        155|\n",
      "|      null|     201401|2014-01-07 00:00:...|        163|\n",
      "|      null|     201401|2014-01-08 00:00:...|        122|\n",
      "|      null|     201401|2014-01-09 00:00:...|        207|\n",
      "|      null|     201401|2014-01-10 00:00:...|        241|\n",
      "|      null|     201401|2014-01-11 00:00:...|        281|\n",
      "|      null|     201401|2014-01-12 00:00:...|        215|\n",
      "|      null|     201401|2014-01-13 00:00:...|        179|\n",
      "|      null|     201401|2014-01-14 00:00:...|        209|\n",
      "|      null|     201401|2014-01-15 00:00:...|        243|\n",
      "|      null|     201401|2014-01-16 00:00:...|        194|\n",
      "|      null|     201401|2014-01-17 00:00:...|        149|\n",
      "|      null|     201401|2014-01-18 00:00:...|        139|\n",
      "|      null|     201401|2014-01-19 00:00:...|        217|\n",
      "|      null|     201401|2014-01-20 00:00:...|        203|\n",
      "|      null|     201401|2014-01-21 00:00:...|        259|\n",
      "|      null|     201401|2014-01-22 00:00:...|        209|\n",
      "|      null|     201401|2014-01-23 00:00:...|        220|\n",
      "|      null|     201401|2014-01-24 00:00:...|        159|\n",
      "|      null|     201401|2014-01-25 00:00:...|        104|\n",
      "|      null|     201401|2014-01-26 00:00:...|        154|\n",
      "|      null|     201401|2014-01-27 00:00:...|        163|\n",
      "|      null|     201401|2014-01-28 00:00:...|        197|\n",
      "|      null|     201401|2014-01-29 00:00:...|        158|\n",
      "|      null|     201401|2014-01-30 00:00:...|        254|\n",
      "|      null|     201401|2014-01-31 00:00:...|        223|\n",
      "|      2014|       null|2014-01-01 00:00:...|        135|\n",
      "|      2014|       null|2014-01-02 00:00:...|        111|\n",
      "|      2014|       null|2014-01-03 00:00:...|        250|\n",
      "|      2014|       null|2014-01-04 00:00:...|        129|\n",
      "|      2014|       null|2014-01-05 00:00:...|        266|\n",
      "|      2014|       null|2014-01-06 00:00:...|        155|\n",
      "|      2014|       null|2014-01-07 00:00:...|        163|\n",
      "|      2014|       null|2014-01-08 00:00:...|        122|\n",
      "|      2014|       null|2014-01-09 00:00:...|        207|\n",
      "|      2014|       null|2014-01-10 00:00:...|        241|\n",
      "|      2014|       null|2014-01-11 00:00:...|        281|\n",
      "|      2014|       null|2014-01-12 00:00:...|        215|\n",
      "|      2014|       null|2014-01-13 00:00:...|        179|\n",
      "|      2014|       null|2014-01-14 00:00:...|        209|\n",
      "|      2014|       null|2014-01-15 00:00:...|        243|\n",
      "|      2014|       null|2014-01-16 00:00:...|        194|\n",
      "|      2014|       null|2014-01-17 00:00:...|        149|\n",
      "|      2014|       null|2014-01-18 00:00:...|        139|\n",
      "|      2014|       null|2014-01-19 00:00:...|        217|\n",
      "|      2014|       null|2014-01-20 00:00:...|        203|\n",
      "|      2014|       null|2014-01-21 00:00:...|        259|\n",
      "|      2014|       null|2014-01-22 00:00:...|        209|\n",
      "|      2014|       null|2014-01-23 00:00:...|        220|\n",
      "|      2014|       null|2014-01-24 00:00:...|        159|\n",
      "|      2014|       null|2014-01-25 00:00:...|        104|\n",
      "|      2014|       null|2014-01-26 00:00:...|        154|\n",
      "|      2014|       null|2014-01-27 00:00:...|        163|\n",
      "|      2014|       null|2014-01-28 00:00:...|        197|\n",
      "|      2014|       null|2014-01-29 00:00:...|        158|\n",
      "|      2014|       null|2014-01-30 00:00:...|        254|\n",
      "|      2014|       null|2014-01-31 00:00:...|        223|\n",
      "|      2014|     201401|2014-01-01 00:00:...|        135|\n",
      "|      2014|     201401|2014-01-02 00:00:...|        111|\n",
      "|      2014|     201401|2014-01-03 00:00:...|        250|\n",
      "|      2014|     201401|2014-01-04 00:00:...|        129|\n",
      "|      2014|     201401|2014-01-05 00:00:...|        266|\n",
      "|      2014|     201401|2014-01-06 00:00:...|        155|\n",
      "|      2014|     201401|2014-01-07 00:00:...|        163|\n",
      "|      2014|     201401|2014-01-08 00:00:...|        122|\n",
      "|      2014|     201401|2014-01-09 00:00:...|        207|\n",
      "|      2014|     201401|2014-01-10 00:00:...|        241|\n",
      "|      2014|     201401|2014-01-11 00:00:...|        281|\n",
      "|      2014|     201401|2014-01-12 00:00:...|        215|\n",
      "|      2014|     201401|2014-01-13 00:00:...|        179|\n",
      "|      2014|     201401|2014-01-14 00:00:...|        209|\n",
      "|      2014|     201401|2014-01-15 00:00:...|        243|\n",
      "|      2014|     201401|2014-01-16 00:00:...|        194|\n",
      "|      2014|     201401|2014-01-17 00:00:...|        149|\n",
      "|      2014|     201401|2014-01-18 00:00:...|        139|\n",
      "|      2014|     201401|2014-01-19 00:00:...|        217|\n",
      "|      2014|     201401|2014-01-20 00:00:...|        203|\n",
      "|      2014|     201401|2014-01-21 00:00:...|        259|\n",
      "|      2014|     201401|2014-01-22 00:00:...|        209|\n",
      "|      2014|     201401|2014-01-23 00:00:...|        220|\n",
      "|      2014|     201401|2014-01-24 00:00:...|        159|\n",
      "|      2014|     201401|2014-01-25 00:00:...|        104|\n",
      "|      2014|     201401|2014-01-26 00:00:...|        154|\n",
      "|      2014|     201401|2014-01-27 00:00:...|        163|\n",
      "|      2014|     201401|2014-01-28 00:00:...|        197|\n",
      "|      2014|     201401|2014-01-29 00:00:...|        158|\n",
      "|      2014|     201401|2014-01-30 00:00:...|        254|\n",
      "|      2014|     201401|2014-01-31 00:00:...|        223|\n",
      "+----------+-----------+--------------------+-----------+\n",
      "\n"
     ]
    }
   ],
   "source": [
    "orders. \\\n",
    "    cube(\n",
    "        year('order_date').alias('order_year'),\n",
    "        date_format('order_date', 'yyyyMM').alias('order_month'), \n",
    "        'order_date'\n",
    "    ). \\\n",
    "    agg(count(lit(1)).alias('order_count')). \\\n",
    "    filter(\"order_date LIKE '2014-01%'\"). \\\n",
    "    orderBy('order_year', 'order_month', 'order_date'). \\\n",
    "    show(150)"
   ]
  },
  {
   "cell_type": "code",
   "execution_count": 28,
   "metadata": {},
   "outputs": [
    {
     "data": {
      "text/plain": [
       "124"
      ]
     },
     "execution_count": 28,
     "metadata": {},
     "output_type": "execute_result"
    }
   ],
   "source": [
    "orders. \\\n",
    "    cube(\n",
    "        year('order_date').alias('order_year'),\n",
    "        date_format('order_date', 'yyyyMM').alias('order_month'), \n",
    "        'order_date'\n",
    "    ). \\\n",
    "    agg(count(lit(1)).alias('order_count')). \\\n",
    "    filter(\"order_date LIKE '2014-01%'\"). \\\n",
    "    orderBy('order_year', 'order_month', 'order_date'). \\\n",
    "    count()"
   ]
  },
  {
   "cell_type": "code",
   "execution_count": null,
   "metadata": {},
   "outputs": [],
   "source": []
  }
 ],
 "metadata": {
  "kernelspec": {
   "display_name": "Python 3",
   "language": "python",
   "name": "python3"
  },
  "language_info": {
   "codemirror_mode": {
    "name": "ipython",
    "version": 3
   },
   "file_extension": ".py",
   "mimetype": "text/x-python",
   "name": "python",
   "nbconvert_exporter": "python",
   "pygments_lexer": "ipython3",
   "version": "3.6.9"
  }
 },
 "nbformat": 4,
 "nbformat_minor": 4
}
