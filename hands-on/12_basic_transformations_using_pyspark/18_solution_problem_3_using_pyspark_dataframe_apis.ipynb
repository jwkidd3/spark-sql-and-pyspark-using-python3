{
 "cells": [
  {
   "cell_type": "markdown",
   "metadata": {},
   "source": [
    "## Solutions - Problem 3\n",
    "Get all the flights which are departed late but arrived early or on time (**IsArrDelayed is NO**).\n",
    "* Output should contain - **FlightCRSDepTime**, **UniqueCarrier**, **FlightNum**, **Origin**, **Dest**, **DepDelay**, **ArrDelay**\n",
    "* **FlightCRSDepTime** need to be computed using **Year**, **Month**, **DayOfMonth**, **CRSDepTime**\n",
    "* **FlightCRSDepTime** should be displayed using **yyyy-MM-dd HH:mm** format.\n",
    "* Output should be sorted by **FlightCRSDepTime** and then by the difference between **DepDelay** and **ArrDelay**\n",
    "* Also get the count of such flights\n"
   ]
  },
  {
   "cell_type": "markdown",
   "metadata": {},
   "source": [
    "Let us start spark context for this Notebook so that we can execute the code provided. You can sign up for our [10 node state of the art cluster/labs](https://labs.spark.com/plans) to learn Spark SQL using our unique integrated LMS."
   ]
  },
  {
   "cell_type": "code",
   "execution_count": 1,
   "metadata": {},
   "outputs": [],
   "source": [
    "from pyspark.sql import SparkSession\n",
    "\n",
    "import getpass\n",
    "username = getpass.getuser()\n",
    "\n",
    "spark = SparkSession. \\\n",
    "    builder. \\\n",
    "    config('spark.ui.port', '0'). \\\n",
    "    config(\"spark.sql.warehouse.dir\", f\"/user/{username}/warehouse\"). \\\n",
    "    enableHiveSupport(). \\\n",
    "    appName(f'{username} | Python - Basic Transformations'). \\\n",
    "    master('yarn'). \\\n",
    "    getOrCreate()"
   ]
  },
  {
   "cell_type": "markdown",
   "metadata": {},
   "source": [
    "If you are going to use CLIs, you can use Spark SQL using one of the 3 approaches.\n",
    "\n",
    "**Using Spark SQL**\n",
    "\n",
    "```\n",
    "spark2-sql \\\n",
    "    --master yarn \\\n",
    "    --conf spark.ui.port=0 \\\n",
    "    --conf spark.sql.warehouse.dir=/user/${USER}/warehouse\n",
    "```\n",
    "\n",
    "**Using Scala**\n",
    "\n",
    "```\n",
    "spark2-shell \\\n",
    "    --master yarn \\\n",
    "    --conf spark.ui.port=0 \\\n",
    "    --conf spark.sql.warehouse.dir=/user/${USER}/warehouse\n",
    "```\n",
    "\n",
    "**Using Pyspark**\n",
    "\n",
    "```\n",
    "pyspark2 \\\n",
    "    --master yarn \\\n",
    "    --conf spark.ui.port=0 \\\n",
    "    --conf spark.sql.warehouse.dir=/user/${USER}/warehouse\n",
    "```"
   ]
  },
  {
   "cell_type": "markdown",
   "metadata": {},
   "source": [
    "### Reading airtraffic data"
   ]
  },
  {
   "cell_type": "code",
   "execution_count": 2,
   "metadata": {
    "pycharm": {
     "name": "#%%\n"
    }
   },
   "outputs": [],
   "source": [
    "airtraffic_path = \"/public/airtraffic_all/airtraffic-part/flightmonth=200801\""
   ]
  },
  {
   "cell_type": "code",
   "execution_count": 3,
   "metadata": {
    "pycharm": {
     "name": "#%%\n"
    }
   },
   "outputs": [],
   "source": [
    "airtraffic = spark. \\\n",
    "    read. \\\n",
    "    parquet(airtraffic_path)"
   ]
  },
  {
   "cell_type": "code",
   "execution_count": 4,
   "metadata": {
    "pycharm": {
     "name": "#%%\n"
    }
   },
   "outputs": [
    {
     "name": "stdout",
     "output_type": "stream",
     "text": [
      "root\n",
      " |-- Year: integer (nullable = true)\n",
      " |-- Month: integer (nullable = true)\n",
      " |-- DayofMonth: integer (nullable = true)\n",
      " |-- DayOfWeek: integer (nullable = true)\n",
      " |-- DepTime: string (nullable = true)\n",
      " |-- CRSDepTime: integer (nullable = true)\n",
      " |-- ArrTime: string (nullable = true)\n",
      " |-- CRSArrTime: integer (nullable = true)\n",
      " |-- UniqueCarrier: string (nullable = true)\n",
      " |-- FlightNum: integer (nullable = true)\n",
      " |-- TailNum: string (nullable = true)\n",
      " |-- ActualElapsedTime: string (nullable = true)\n",
      " |-- CRSElapsedTime: integer (nullable = true)\n",
      " |-- AirTime: string (nullable = true)\n",
      " |-- ArrDelay: string (nullable = true)\n",
      " |-- DepDelay: string (nullable = true)\n",
      " |-- Origin: string (nullable = true)\n",
      " |-- Dest: string (nullable = true)\n",
      " |-- Distance: string (nullable = true)\n",
      " |-- TaxiIn: string (nullable = true)\n",
      " |-- TaxiOut: string (nullable = true)\n",
      " |-- Cancelled: integer (nullable = true)\n",
      " |-- CancellationCode: string (nullable = true)\n",
      " |-- Diverted: integer (nullable = true)\n",
      " |-- CarrierDelay: string (nullable = true)\n",
      " |-- WeatherDelay: string (nullable = true)\n",
      " |-- NASDelay: string (nullable = true)\n",
      " |-- SecurityDelay: string (nullable = true)\n",
      " |-- LateAircraftDelay: string (nullable = true)\n",
      " |-- IsArrDelayed: string (nullable = true)\n",
      " |-- IsDepDelayed: string (nullable = true)\n",
      "\n"
     ]
    }
   ],
   "source": [
    "airtraffic.printSchema()"
   ]
  },
  {
   "cell_type": "code",
   "execution_count": 5,
   "metadata": {},
   "outputs": [
    {
     "name": "stdout",
     "output_type": "stream",
     "text": [
      "+----+-----+----------+----------+\n",
      "|Year|Month|DayOfMonth|CRSDepTime|\n",
      "+----+-----+----------+----------+\n",
      "|2008|    1|        16|      1735|\n",
      "|2008|    1|        17|      1701|\n",
      "|2008|    1|        17|      1225|\n",
      "|2008|    1|        17|      1530|\n",
      "|2008|    1|        17|      1205|\n",
      "|2008|    1|        18|      1150|\n",
      "|2008|    1|        18|      1009|\n",
      "|2008|    1|        19|       835|\n",
      "|2008|    1|        20|      1935|\n",
      "|2008|    1|        20|       830|\n",
      "|2008|    1|        21|      1640|\n",
      "|2008|    1|        21|      1204|\n",
      "|2008|    1|        21|      1935|\n",
      "|2008|    1|        21|      1830|\n",
      "|2008|    1|        21|       700|\n",
      "|2008|    1|        22|      1910|\n",
      "|2008|    1|        22|      1320|\n",
      "|2008|    1|        23|       908|\n",
      "|2008|    1|        23|      1252|\n",
      "|2008|    1|        23|       635|\n",
      "+----+-----+----------+----------+\n",
      "only showing top 20 rows\n",
      "\n"
     ]
    }
   ],
   "source": [
    "airtraffic.select('Year', 'Month', 'DayOfMonth', 'CRSDepTime').show()"
   ]
  },
  {
   "cell_type": "code",
   "execution_count": 6,
   "metadata": {},
   "outputs": [],
   "source": [
    "l = [(2008, 1, 23, 700),\n",
    "     (2008, 1, 10, 1855),\n",
    "    ]"
   ]
  },
  {
   "cell_type": "code",
   "execution_count": 7,
   "metadata": {},
   "outputs": [],
   "source": [
    "df = spark.createDataFrame(l, \"Year INT, Month INT, DayOfMonth INT, DepTime INT\")"
   ]
  },
  {
   "cell_type": "code",
   "execution_count": 8,
   "metadata": {},
   "outputs": [
    {
     "name": "stdout",
     "output_type": "stream",
     "text": [
      "+----+-----+----------+-------+\n",
      "|Year|Month|DayOfMonth|DepTime|\n",
      "+----+-----+----------+-------+\n",
      "|2008|    1|        23|    700|\n",
      "|2008|    1|        10|   1855|\n",
      "+----+-----+----------+-------+\n",
      "\n"
     ]
    }
   ],
   "source": [
    "df.show()"
   ]
  },
  {
   "cell_type": "code",
   "execution_count": 9,
   "metadata": {},
   "outputs": [],
   "source": [
    "from pyspark.sql.functions import col, date_format, lpad"
   ]
  },
  {
   "cell_type": "code",
   "execution_count": 10,
   "metadata": {},
   "outputs": [
    {
     "name": "stdout",
     "output_type": "stream",
     "text": [
      "+-------+-------+\n",
      "|DepTime|DepTime|\n",
      "+-------+-------+\n",
      "|    700|   0700|\n",
      "|   1855|   1855|\n",
      "+-------+-------+\n",
      "\n"
     ]
    }
   ],
   "source": [
    "df.select(\"DepTime\", lpad('DepTime', 4, \"0\").alias('DepTime')).show()"
   ]
  },
  {
   "cell_type": "code",
   "execution_count": 11,
   "metadata": {},
   "outputs": [],
   "source": [
    "from pyspark.sql.functions import substring, concat, lit"
   ]
  },
  {
   "cell_type": "code",
   "execution_count": 12,
   "metadata": {},
   "outputs": [
    {
     "name": "stdout",
     "output_type": "stream",
     "text": [
      "+----+-----+----------+-------+----------------+\n",
      "|Year|Month|DayOfMonth|DepTime|FlightCRSDepTime|\n",
      "+----+-----+----------+-------+----------------+\n",
      "|2008|    1|        23|    700|2008-01-23 07:00|\n",
      "|2008|    1|        10|   1855|2008-01-10 18:55|\n",
      "+----+-----+----------+-------+----------------+\n",
      "\n"
     ]
    }
   ],
   "source": [
    "df. \\\n",
    "    withColumn(\n",
    "        'FlightCRSDepTime', \n",
    "        concat(\n",
    "            \"Year\", lit(\"-\"), \n",
    "            lpad(\"Month\", 2, \"0\"), lit(\"-\"), \n",
    "            lpad(\"DayOfMonth\", 2, \"0\"), lit(\" \"),\n",
    "            concat(\n",
    "                substring(lpad(\"DepTime\", 4, \"0\"), 1, 2), \n",
    "                lit(':'), \n",
    "                substring(lpad(\"DepTime\", 4, \"0\"), 3, 2)\n",
    "            )\n",
    "        )\n",
    "    ). \\\n",
    "    show()"
   ]
  },
  {
   "cell_type": "code",
   "execution_count": 13,
   "metadata": {},
   "outputs": [],
   "source": [
    "from pyspark.sql.functions import lit, col, concat, lpad, sum, expr, substring"
   ]
  },
  {
   "cell_type": "code",
   "execution_count": 14,
   "metadata": {},
   "outputs": [
    {
     "name": "stdout",
     "output_type": "stream",
     "text": [
      "+----------------+-------------+---------+------+----+--------+--------+\n",
      "|FlightCRSDepTime|UniqueCarrier|FlightNum|Origin|Dest|DepDelay|ArrDelay|\n",
      "+----------------+-------------+---------+------+----+--------+--------+\n",
      "|2008-01-01 00:55|           DL|      560|   LAX| ATL|      15|      -4|\n",
      "|2008-01-01 01:00|           AA|     2466|   SFO| DFW|       2|      -7|\n",
      "|2008-01-01 03:00|           CO|      488|   SJU| EWR|       3|     -12|\n",
      "|2008-01-01 04:00|           B6|      724|   BQN| MCO|       4|     -23|\n",
      "|2008-01-01 05:15|           XE|     2140|   SLC| IAH|       1|     -10|\n",
      "|2008-01-01 05:25|           XE|     2429|   MSP| IAH|       1|      -4|\n",
      "|2008-01-01 05:30|           XE|     2785|   BTR| IAH|       6|       0|\n",
      "|2008-01-01 05:40|           OO|     5793|   CIC| SFO|       1|      -4|\n",
      "|2008-01-01 05:40|           UA|      422|   SEA| DEN|       4|     -10|\n",
      "|2008-01-01 06:00|           DL|      970|   FLL| ATL|       2|       0|\n",
      "|2008-01-01 06:00|           AA|     1734|   SAT| DFW|       2|      -1|\n",
      "|2008-01-01 06:00|           MQ|     3191|   LAX| SJC|       2|      -3|\n",
      "|2008-01-01 06:00|           UA|     1294|   PDX| DEN|       2|      -3|\n",
      "|2008-01-01 06:00|           UA|      265|   ORD| DEN|       2|      -5|\n",
      "|2008-01-01 06:00|           AA|     1157|   AUS| DFW|       1|      -6|\n",
      "|2008-01-01 06:00|           AQ|      441|   LAS| OAK|       7|       0|\n",
      "|2008-01-01 06:00|           AA|      802|   LAX| DFW|       1|      -7|\n",
      "|2008-01-01 06:00|           EV|     4484|   DSM| ATL|       3|      -7|\n",
      "|2008-01-01 06:00|           AA|     1150|   LAS| DFW|       3|      -7|\n",
      "|2008-01-01 06:00|           OO|     1985|   MKE| ATL|       2|     -10|\n",
      "+----------------+-------------+---------+------+----+--------+--------+\n",
      "only showing top 20 rows\n",
      "\n"
     ]
    }
   ],
   "source": [
    "flightsFiltered = airtraffic. \\\n",
    "    filter(\"IsDepDelayed = 'YES' AND IsArrDelayed = 'NO' AND Cancelled = 0\"). \\\n",
    "    select(\n",
    "        concat(\n",
    "            \"Year\", lit(\"-\"), \n",
    "            lpad(\"Month\", 2, \"0\"), lit(\"-\"), \n",
    "            lpad(\"DayOfMonth\", 2, \"0\"), lit(\" \"),\n",
    "            concat(\n",
    "                substring(lpad(\"CRSDepTime\", 4, \"0\"), 1, 2), lit(':'), \n",
    "                substring(lpad(\"CRSDepTime\", 4, \"0\"), 3, 2)\n",
    "            )\n",
    "        ).alias(\"FlightCRSDepTime\"),\n",
    "        \"UniqueCarrier\", \"FlightNum\", \"Origin\", \n",
    "        \"Dest\", \"DepDelay\", \"ArrDelay\"\n",
    "    ). \\\n",
    "    orderBy(\"FlightCRSDepTime\", col(\"DepDelay\") - col(\"ArrDelay\")). \\\n",
    "    show()"
   ]
  },
  {
   "cell_type": "markdown",
   "metadata": {
    "pycharm": {
     "name": "#%% md\n"
    }
   },
   "source": [
    "### Getting Count"
   ]
  },
  {
   "cell_type": "code",
   "execution_count": 15,
   "metadata": {
    "pycharm": {
     "name": "#%%\n"
    }
   },
   "outputs": [],
   "source": [
    "flightsFiltered = airtraffic. \\\n",
    "    filter(\"IsDepDelayed = 'YES' AND IsArrDelayed = 'NO' AND Cancelled = 0\"). \\\n",
    "    select(concat(\"Year\", lit(\"-\"), \n",
    "                  lpad(\"Month\", 2, \"0\"), lit(\"-\"), \n",
    "                  lpad(\"DayOfMonth\", 2, \"0\"), lit(\" \"),\n",
    "                  lpad(\"CRSDepTime\", 4, \"0\")\n",
    "                 ).alias(\"FlightCRSDepTime\"),\n",
    "           \"UniqueCarrier\", \"FlightNum\", \"Origin\", \n",
    "           \"Dest\", \"DepDelay\", \"ArrDelay\"\n",
    "          ). \\\n",
    "    count()"
   ]
  },
  {
   "cell_type": "code",
   "execution_count": 16,
   "metadata": {},
   "outputs": [
    {
     "data": {
      "text/plain": [
       "605659"
      ]
     },
     "execution_count": 16,
     "metadata": {},
     "output_type": "execute_result"
    }
   ],
   "source": [
    "airtraffic.count()"
   ]
  },
  {
   "cell_type": "code",
   "execution_count": 17,
   "metadata": {},
   "outputs": [
    {
     "data": {
      "text/plain": [
       "340461"
      ]
     },
     "execution_count": 17,
     "metadata": {},
     "output_type": "execute_result"
    }
   ],
   "source": [
    "airtraffic.filter(\"IsDepDelayed = 'NO' AND Cancelled = 0\").count()"
   ]
  },
  {
   "cell_type": "code",
   "execution_count": 18,
   "metadata": {
    "pycharm": {
     "name": "#%%\n"
    }
   },
   "outputs": [
    {
     "data": {
      "text/plain": [
       "54233"
      ]
     },
     "execution_count": 18,
     "metadata": {},
     "output_type": "execute_result"
    }
   ],
   "source": [
    "flightsFiltered"
   ]
  },
  {
   "cell_type": "code",
   "execution_count": null,
   "metadata": {},
   "outputs": [],
   "source": []
  }
 ],
 "metadata": {
  "kernelspec": {
   "display_name": "Pyspark 2",
   "language": "python",
   "name": "pyspark2"
  },
  "language_info": {
   "codemirror_mode": {
    "name": "ipython",
    "version": 3
   },
   "file_extension": ".py",
   "mimetype": "text/x-python",
   "name": "python",
   "nbconvert_exporter": "python",
   "pygments_lexer": "ipython3",
   "version": "3.6.9"
  }
 },
 "nbformat": 4,
 "nbformat_minor": 4
}
