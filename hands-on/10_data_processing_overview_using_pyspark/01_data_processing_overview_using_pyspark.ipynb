{
 "cells": [
  {
   "cell_type": "markdown",
   "metadata": {
    "pycharm": {
     "name": "#%% md\n"
    }
   },
   "source": [
    "# Data Processing - Overview\n",
    "\n",
    "As part of this section we will get an overview about Data Processing using Spark with Python.\n",
    "* Pre-requisites and Objectives\n",
    "* Starting Spark Context\n",
    "* Overview of Spark read APIs\n",
    "* Understand airlines data\n",
    "* Inferring Schema\n",
    "* Previewing airlines data\n",
    "* Overview of Data Frame APIs\n",
    "* Overview of Functions\n",
    "* Overview of Spark Write APIs\n",
    "* Reorganizing airlines data\n",
    "* Previewing reorganized data\n",
    "* Analyze and Understand Data\n",
    "* Conclusion"
   ]
  }
 ],
 "metadata": {
  "kernelspec": {
   "display_name": "Pyspark 2",
   "language": "python",
   "name": "pyspark2"
  },
  "language_info": {
   "codemirror_mode": {
    "name": "ipython",
    "version": 3
   },
   "file_extension": ".py",
   "mimetype": "text/x-python",
   "name": "python",
   "nbconvert_exporter": "python",
   "pygments_lexer": "ipython3",
   "version": "3.6.9"
  },
  "pycharm": {
   "stem_cell": {
    "cell_type": "raw",
    "metadata": {
     "collapsed": false
    },
    "source": [
     "\n",
     "\n",
     "\n"
    ]
   }
  }
 },
 "nbformat": 4,
 "nbformat_minor": 4
}
