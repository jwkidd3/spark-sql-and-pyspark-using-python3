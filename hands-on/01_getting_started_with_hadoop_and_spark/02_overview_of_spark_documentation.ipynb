{
 "cells": [
  {
   "cell_type": "markdown",
   "metadata": {},
   "source": [
    "## Overview of Spark Documentation\n",
    "\n",
    "Let us go through the details related to Spark Documentation. It is very important for you to get comfortable with Spark Documentation if you are aspiring for open book certification exams like CCA 175."
   ]
  },
  {
   "cell_type": "markdown",
   "metadata": {},
   "source": [
    "* Click [here](https://spark.apache.org/docs/latest/sql-programming-guide.html) to go to latest Spark SQL and Data Frames documentation. \n",
    "* We typically get documentation for latest version.\n",
    "* We can replace **latest** in the URL with the version of Spark to get specific version's official documentation.\n",
    "* Also we have resources provided by **databricks**."
   ]
  }
 ],
 "metadata": {
  "celltoolbar": "Tags",
  "kernelspec": {
   "display_name": "Scala",
   "language": "scala",
   "name": "scala"
  },
  "language_info": {
   "codemirror_mode": "text/x-scala",
   "file_extension": ".scala",
   "mimetype": "",
   "name": "Scala",
   "nbconverter_exporter": "",
   "version": "2.11.12"
  }
 },
 "nbformat": 4,
 "nbformat_minor": 4
}
